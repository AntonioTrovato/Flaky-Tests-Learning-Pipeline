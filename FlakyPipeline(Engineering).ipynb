{
 "cells": [
  {
   "cell_type": "markdown",
   "id": "416cee15-b5e3-4f58-9aa7-adce40461a4b",
   "metadata": {
    "pycharm": {
     "name": "#%% md\n"
    }
   },
   "source": [
    "# FlakyPipeline"
   ]
  },
  {
   "cell_type": "markdown",
   "id": "939993d0-6568-410d-adab-a03bda838d62",
   "metadata": {
    "pycharm": {
     "name": "#%% md\n"
    }
   },
   "source": [
    "## Business Understanding\n",
    "Ogni volta che viene scritto un nuovo codice per sviluppare o aggiornare software, una pagina Web o un'app, deve essere testato durante tutto il processo di sviluppo per assicurarsi che l'applicazione faccia ciò che dovrebbe fare quando viene rilasciata per l'uso. Logicamente, quando viene sottoposto allo stesso test più e più volte, il codice produrrà lo stesso risultato: l'applicazione funzionerà correttamente ogni volta, superando così il test, o non funzionerà correttamente ogni volta, fallendo così il test.\n",
    "\n",
    "Tuttavia, apparentemente a caso, occasionalmente lo stesso test produrrà risultati diversi. A volte mostrerà che il codice ha superato il test e l'applicazione ha funzionato come pianificato, e talvolta mostrerà che il codice non ha superato il test e non ha funzionato come previsto. Quando succede questo, il test è considerato flaky.\n",
    "\n",
    "I flaky possono essere causati da vari fattori:\n",
    "1. un problema con il codice appena scritto\n",
    "2. un problema con il test stesso\n",
    "3. alcuni fattori esterni che compromettono i risultati del test\n",
    "\n",
    "Non è sempre facile individuare tali testi, può capitare che eseguiamo un test 10000 volte ed avremo sempre lo stesso risultato, ma se eseguissimo il test un ulteriore volta avremo un risultato diverso. Lo scopo di \"FlakyPipeline\" e di utilizzare il machine learnig per determinare se un test può essere considerato flaky oppure no.\n",
    "\n",
    "\n"
   ]
  },
  {
   "cell_type": "markdown",
   "id": "9b6b73ab-1c6e-4af0-a1f4-f6dd68751b30",
   "metadata": {
    "pycharm": {
     "name": "#%% md\n"
    }
   },
   "source": [
    "## Data Understanding"
   ]
  },
  {
   "cell_type": "code",
   "execution_count": 9,
   "id": "7fb3cf28-09af-4dcc-8780-b1595f126b63",
   "metadata": {
    "tags": [],
    "pycharm": {
     "name": "#%%\n"
    }
   },
   "outputs": [
    {
     "data": {
      "text/plain": "   Unnamed: 0 nameProject                                 testCase  tloc  \\\n0           0     alluxio          tachyon.MasterClientTest.before   6.0   \n1           1     alluxio           tachyon.MasterClientTest.after   4.0   \n2           2     alluxio   tachyon.MasterClientTest.openCloseTest  13.0   \n3           3     alluxio  tachyon.WorkerServiceHandlerTest.before   9.0   \n4           4     alluxio   tachyon.WorkerServiceHandlerTest.after   5.0   \n\n   tmcCabe  assertionDensity  assertionRoulette  mysteryGuest  eagerTest  \\\n0      3.0          0.000000                0.0           0.0          0   \n1      2.0          0.000000                0.0           0.0          0   \n2      2.0          0.846154                4.0           4.0          6   \n3      3.0          0.000000                0.0           0.0          0   \n4      2.0          0.000000                0.0           0.0          0   \n\n   sensitiveEquality  ...    mpc  halsteadVocabulary  halsteadLength  \\\n0                0.0  ...  194.0              5059.0           381.0   \n1                0.0  ...  194.0              5059.0           381.0   \n2                0.0  ...  194.0              5059.0           381.0   \n3                0.0  ...   13.0               297.0            80.0   \n4                0.0  ...   13.0               297.0            80.0   \n\n   halsteadVolume  classDataShouldBePrivate  complexClass  \\\n0     3249.520088                         0           228   \n1     3249.520088                         0           228   \n2     3249.520088                         0           228   \n3      455.498571                         0             0   \n4      455.498571                         0             0   \n\n   functionalDecomposition  godClass  spaghettiCode  isFlaky  \n0                        0       0.0          117.0        0  \n1                        0       0.0          117.0        0  \n2                        0       0.0          117.0        1  \n3                        0       0.0            0.0        0  \n4                        0       0.0            0.0        0  \n\n[5 rows x 30 columns]",
      "text/html": "<div>\n<style scoped>\n    .dataframe tbody tr th:only-of-type {\n        vertical-align: middle;\n    }\n\n    .dataframe tbody tr th {\n        vertical-align: top;\n    }\n\n    .dataframe thead th {\n        text-align: right;\n    }\n</style>\n<table border=\"1\" class=\"dataframe\">\n  <thead>\n    <tr style=\"text-align: right;\">\n      <th></th>\n      <th>Unnamed: 0</th>\n      <th>nameProject</th>\n      <th>testCase</th>\n      <th>tloc</th>\n      <th>tmcCabe</th>\n      <th>assertionDensity</th>\n      <th>assertionRoulette</th>\n      <th>mysteryGuest</th>\n      <th>eagerTest</th>\n      <th>sensitiveEquality</th>\n      <th>...</th>\n      <th>mpc</th>\n      <th>halsteadVocabulary</th>\n      <th>halsteadLength</th>\n      <th>halsteadVolume</th>\n      <th>classDataShouldBePrivate</th>\n      <th>complexClass</th>\n      <th>functionalDecomposition</th>\n      <th>godClass</th>\n      <th>spaghettiCode</th>\n      <th>isFlaky</th>\n    </tr>\n  </thead>\n  <tbody>\n    <tr>\n      <th>0</th>\n      <td>0</td>\n      <td>alluxio</td>\n      <td>tachyon.MasterClientTest.before</td>\n      <td>6.0</td>\n      <td>3.0</td>\n      <td>0.000000</td>\n      <td>0.0</td>\n      <td>0.0</td>\n      <td>0</td>\n      <td>0.0</td>\n      <td>...</td>\n      <td>194.0</td>\n      <td>5059.0</td>\n      <td>381.0</td>\n      <td>3249.520088</td>\n      <td>0</td>\n      <td>228</td>\n      <td>0</td>\n      <td>0.0</td>\n      <td>117.0</td>\n      <td>0</td>\n    </tr>\n    <tr>\n      <th>1</th>\n      <td>1</td>\n      <td>alluxio</td>\n      <td>tachyon.MasterClientTest.after</td>\n      <td>4.0</td>\n      <td>2.0</td>\n      <td>0.000000</td>\n      <td>0.0</td>\n      <td>0.0</td>\n      <td>0</td>\n      <td>0.0</td>\n      <td>...</td>\n      <td>194.0</td>\n      <td>5059.0</td>\n      <td>381.0</td>\n      <td>3249.520088</td>\n      <td>0</td>\n      <td>228</td>\n      <td>0</td>\n      <td>0.0</td>\n      <td>117.0</td>\n      <td>0</td>\n    </tr>\n    <tr>\n      <th>2</th>\n      <td>2</td>\n      <td>alluxio</td>\n      <td>tachyon.MasterClientTest.openCloseTest</td>\n      <td>13.0</td>\n      <td>2.0</td>\n      <td>0.846154</td>\n      <td>4.0</td>\n      <td>4.0</td>\n      <td>6</td>\n      <td>0.0</td>\n      <td>...</td>\n      <td>194.0</td>\n      <td>5059.0</td>\n      <td>381.0</td>\n      <td>3249.520088</td>\n      <td>0</td>\n      <td>228</td>\n      <td>0</td>\n      <td>0.0</td>\n      <td>117.0</td>\n      <td>1</td>\n    </tr>\n    <tr>\n      <th>3</th>\n      <td>3</td>\n      <td>alluxio</td>\n      <td>tachyon.WorkerServiceHandlerTest.before</td>\n      <td>9.0</td>\n      <td>3.0</td>\n      <td>0.000000</td>\n      <td>0.0</td>\n      <td>0.0</td>\n      <td>0</td>\n      <td>0.0</td>\n      <td>...</td>\n      <td>13.0</td>\n      <td>297.0</td>\n      <td>80.0</td>\n      <td>455.498571</td>\n      <td>0</td>\n      <td>0</td>\n      <td>0</td>\n      <td>0.0</td>\n      <td>0.0</td>\n      <td>0</td>\n    </tr>\n    <tr>\n      <th>4</th>\n      <td>4</td>\n      <td>alluxio</td>\n      <td>tachyon.WorkerServiceHandlerTest.after</td>\n      <td>5.0</td>\n      <td>2.0</td>\n      <td>0.000000</td>\n      <td>0.0</td>\n      <td>0.0</td>\n      <td>0</td>\n      <td>0.0</td>\n      <td>...</td>\n      <td>13.0</td>\n      <td>297.0</td>\n      <td>80.0</td>\n      <td>455.498571</td>\n      <td>0</td>\n      <td>0</td>\n      <td>0</td>\n      <td>0.0</td>\n      <td>0.0</td>\n      <td>0</td>\n    </tr>\n  </tbody>\n</table>\n<p>5 rows × 30 columns</p>\n</div>"
     },
     "execution_count": 9,
     "metadata": {},
     "output_type": "execute_result"
    }
   ],
   "source": [
    "import pandas\n",
    "import os\n",
    "from model_test import get_object_colum\n",
    "\n",
    "DATASET_NAME='datasetFlakyTest.csv'\n",
    "\n",
    "def loadingDataSet(datasetname):\n",
    "    current_directory=os.getcwd()\n",
    "    csv_path = os.path.join(current_directory, datasetname)\n",
    "    return pandas.read_csv(csv_path)\n",
    "\n",
    "\n",
    "dataset=loadingDataSet(DATASET_NAME)\n",
    "dataset.head()\n"
   ]
  },
  {
   "cell_type": "code",
   "execution_count": 2,
   "id": "51f70600-404c-4a1e-a1b2-8a734e83152b",
   "metadata": {
    "tags": [],
    "pycharm": {
     "name": "#%%\n"
    }
   },
   "outputs": [
    {
     "name": "stdout",
     "output_type": "stream",
     "text": [
      "<class 'pandas.core.frame.DataFrame'>\n",
      "RangeIndex: 12921 entries, 0 to 12920\n",
      "Data columns (total 30 columns):\n",
      " #   Column                    Non-Null Count  Dtype  \n",
      "---  ------                    --------------  -----  \n",
      " 0   Unnamed: 0                12921 non-null  int64  \n",
      " 1   nameProject               12921 non-null  object \n",
      " 2   testCase                  12921 non-null  object \n",
      " 3   tloc                      12921 non-null  float64\n",
      " 4   tmcCabe                   12921 non-null  float64\n",
      " 5   assertionDensity          12921 non-null  float64\n",
      " 6   assertionRoulette         12921 non-null  float64\n",
      " 7   mysteryGuest              12921 non-null  float64\n",
      " 8   eagerTest                 12921 non-null  int64  \n",
      " 9   sensitiveEquality         12921 non-null  float64\n",
      " 10  resourceOptimism          12921 non-null  int64  \n",
      " 11  conditionalTestLogic      12921 non-null  float64\n",
      " 12  fireAndForget             12921 non-null  float64\n",
      " 13  testRunWar                12921 non-null  float64\n",
      " 14  loc                       12921 non-null  float64\n",
      " 15  lcom2                     12921 non-null  float64\n",
      " 16  lcom5                     12921 non-null  float64\n",
      " 17  cbo                       12921 non-null  float64\n",
      " 18  wmc                       12921 non-null  float64\n",
      " 19  rfc                       12921 non-null  float64\n",
      " 20  mpc                       12921 non-null  float64\n",
      " 21  halsteadVocabulary        12921 non-null  float64\n",
      " 22  halsteadLength            12921 non-null  float64\n",
      " 23  halsteadVolume            12921 non-null  float64\n",
      " 24  classDataShouldBePrivate  12921 non-null  int64  \n",
      " 25  complexClass              12921 non-null  int64  \n",
      " 26  functionalDecomposition   12921 non-null  int64  \n",
      " 27  godClass                  12921 non-null  float64\n",
      " 28  spaghettiCode             12921 non-null  float64\n",
      " 29  isFlaky                   12921 non-null  int64  \n",
      "dtypes: float64(21), int64(7), object(2)\n",
      "memory usage: 3.0+ MB\n"
     ]
    }
   ],
   "source": [
    "dataset.info()"
   ]
  },
  {
   "cell_type": "markdown",
   "id": "29df4380-e261-4978-8407-0be74be0d1a6",
   "metadata": {
    "pycharm": {
     "name": "#%% md\n"
    }
   },
   "source": [
    "\n",
    "| Features | Descrizione |\n",
    "| --- | --- | \n",
    "| Id ||\n",
    "| NameProject | |\n",
    "| TestCase | |\n",
    "| tloc | Numero di righe di codice della test suit |\n",
    "| tmcCabe | Somma delle complessità ciclomatiche di tutti i metodi di una classe |\n",
    "| assertionDensity | Percentuali di asserzioni presenti nella test suit |\n",
    "| assertionRoulette | Metrica che indica se il test ha più di una asserzione non documentata |\n",
    "| mysteryGuest | Metrica che indica se il test utilizza una risorsa esterna (es: database,file ...) |\n",
    "| eagerTest | Metricha che indica se un test invoca diversi metodi dell'oggetto di produzione.|\n",
    "| sensitiveEquality | Indica se il metodo toString e utilizzado nel test|\n",
    "| resourceOptimism | Metodo che fa assunzioni ottimistiche sull'esistenza di una risorsa (es file) utilizzata all'interno di esso |\n",
    "| conditionalTestLogic ||\n",
    "| fireAndForget | Test che termina prematuramente in quanto non aspetta le risposte delle chiamate esterne |\n",
    "| loc | line di codice comprendendo anche i commenti | \n",
    "| locm2 |  | \n",
    "| locm5 |  |\n",
    "| cbo | Numero di dipendenze di una classe con altre classi |\n",
    "| wmc | Somma delle complessità ciclomatiche di tutti i metodi di una classe | \n",
    "| rfc | Numero di metodi (compresi quelli ereditari) che possono essere chiamati da altre classi |\n",
    "| mpc |  |\n",
    "| halsteadVocabulary | Gaussian |\n",
    "| halsteadLength | Numero totale di operatori e operandi distinti un una funzione |\n",
    "| halsteadVolume | Memoria (in bit) necessaria per memorizzare il programma |\n",
    "| classDataShouldBePrivate | Classe che espone i suoi attributi, violando il principio dell'information hiding. |\n",
    "| complexClass | Complessita ciclomatica di una classe, ovvero il numero di cammini linearmente indipendeti all'interno della classe|\n",
    "| functionalDecomposition | Metrica che indica se in una classe ereditarietà e polimorfismo sono utilizzate in modo sbagliato. |\n",
    "| godClass | Classe di grandi dimensioni che implementa diverse responsabilità |\n",
    "| spaghettiCode | Classe non possiedie una struttura coerente ad esempio un metodo eccessivamente lungo che non possiede parametri |\n",
    "| isFlaky | Booleano che indica se il test è flaky oppure no |"
   ]
  },
  {
   "cell_type": "code",
   "execution_count": 3,
   "id": "a77c1da6-268f-41ee-9e5d-4b2e2db4d928",
   "metadata": {
    "tags": [],
    "pycharm": {
     "name": "#%%\n"
    }
   },
   "outputs": [
    {
     "data": {
      "text/html": [
       "<div>\n",
       "<style scoped>\n",
       "    .dataframe tbody tr th:only-of-type {\n",
       "        vertical-align: middle;\n",
       "    }\n",
       "\n",
       "    .dataframe tbody tr th {\n",
       "        vertical-align: top;\n",
       "    }\n",
       "\n",
       "    .dataframe thead th {\n",
       "        text-align: right;\n",
       "    }\n",
       "</style>\n",
       "<table border=\"1\" class=\"dataframe\">\n",
       "  <thead>\n",
       "    <tr style=\"text-align: right;\">\n",
       "      <th></th>\n",
       "      <th>Unnamed: 0</th>\n",
       "      <th>nameProject</th>\n",
       "      <th>testCase</th>\n",
       "      <th>tloc</th>\n",
       "      <th>tmcCabe</th>\n",
       "      <th>assertionDensity</th>\n",
       "      <th>assertionRoulette</th>\n",
       "      <th>mysteryGuest</th>\n",
       "      <th>eagerTest</th>\n",
       "      <th>sensitiveEquality</th>\n",
       "      <th>...</th>\n",
       "      <th>mpc</th>\n",
       "      <th>halsteadVocabulary</th>\n",
       "      <th>halsteadLength</th>\n",
       "      <th>halsteadVolume</th>\n",
       "      <th>classDataShouldBePrivate</th>\n",
       "      <th>complexClass</th>\n",
       "      <th>functionalDecomposition</th>\n",
       "      <th>godClass</th>\n",
       "      <th>spaghettiCode</th>\n",
       "      <th>isFlaky</th>\n",
       "    </tr>\n",
       "  </thead>\n",
       "  <tbody>\n",
       "    <tr>\n",
       "      <th>count</th>\n",
       "      <td>12921.000000</td>\n",
       "      <td>12921</td>\n",
       "      <td>12921</td>\n",
       "      <td>12921.000000</td>\n",
       "      <td>12921.000000</td>\n",
       "      <td>12921.000000</td>\n",
       "      <td>12921.000000</td>\n",
       "      <td>12921.000000</td>\n",
       "      <td>12921.000000</td>\n",
       "      <td>12921.000000</td>\n",
       "      <td>...</td>\n",
       "      <td>12921.000000</td>\n",
       "      <td>12921.000000</td>\n",
       "      <td>12921.000000</td>\n",
       "      <td>12921.000000</td>\n",
       "      <td>12921.000000</td>\n",
       "      <td>12921.000000</td>\n",
       "      <td>12921.000000</td>\n",
       "      <td>12921.000000</td>\n",
       "      <td>12921.000000</td>\n",
       "      <td>12921.000000</td>\n",
       "    </tr>\n",
       "    <tr>\n",
       "      <th>unique</th>\n",
       "      <td>NaN</td>\n",
       "      <td>18</td>\n",
       "      <td>12248</td>\n",
       "      <td>NaN</td>\n",
       "      <td>NaN</td>\n",
       "      <td>NaN</td>\n",
       "      <td>NaN</td>\n",
       "      <td>NaN</td>\n",
       "      <td>NaN</td>\n",
       "      <td>NaN</td>\n",
       "      <td>...</td>\n",
       "      <td>NaN</td>\n",
       "      <td>NaN</td>\n",
       "      <td>NaN</td>\n",
       "      <td>NaN</td>\n",
       "      <td>NaN</td>\n",
       "      <td>NaN</td>\n",
       "      <td>NaN</td>\n",
       "      <td>NaN</td>\n",
       "      <td>NaN</td>\n",
       "      <td>NaN</td>\n",
       "    </tr>\n",
       "    <tr>\n",
       "      <th>top</th>\n",
       "      <td>NaN</td>\n",
       "      <td>spring-boot</td>\n",
       "      <td>com.github.kevinsawicki.http.HttpRequestTest.h...</td>\n",
       "      <td>NaN</td>\n",
       "      <td>NaN</td>\n",
       "      <td>NaN</td>\n",
       "      <td>NaN</td>\n",
       "      <td>NaN</td>\n",
       "      <td>NaN</td>\n",
       "      <td>NaN</td>\n",
       "      <td>...</td>\n",
       "      <td>NaN</td>\n",
       "      <td>NaN</td>\n",
       "      <td>NaN</td>\n",
       "      <td>NaN</td>\n",
       "      <td>NaN</td>\n",
       "      <td>NaN</td>\n",
       "      <td>NaN</td>\n",
       "      <td>NaN</td>\n",
       "      <td>NaN</td>\n",
       "      <td>NaN</td>\n",
       "    </tr>\n",
       "    <tr>\n",
       "      <th>freq</th>\n",
       "      <td>NaN</td>\n",
       "      <td>2153</td>\n",
       "      <td>136</td>\n",
       "      <td>NaN</td>\n",
       "      <td>NaN</td>\n",
       "      <td>NaN</td>\n",
       "      <td>NaN</td>\n",
       "      <td>NaN</td>\n",
       "      <td>NaN</td>\n",
       "      <td>NaN</td>\n",
       "      <td>...</td>\n",
       "      <td>NaN</td>\n",
       "      <td>NaN</td>\n",
       "      <td>NaN</td>\n",
       "      <td>NaN</td>\n",
       "      <td>NaN</td>\n",
       "      <td>NaN</td>\n",
       "      <td>NaN</td>\n",
       "      <td>NaN</td>\n",
       "      <td>NaN</td>\n",
       "      <td>NaN</td>\n",
       "    </tr>\n",
       "    <tr>\n",
       "      <th>mean</th>\n",
       "      <td>7447.309806</td>\n",
       "      <td>NaN</td>\n",
       "      <td>NaN</td>\n",
       "      <td>9.611176</td>\n",
       "      <td>2.195883</td>\n",
       "      <td>0.105966</td>\n",
       "      <td>1.076697</td>\n",
       "      <td>0.304388</td>\n",
       "      <td>1.287207</td>\n",
       "      <td>0.033357</td>\n",
       "      <td>...</td>\n",
       "      <td>40.906509</td>\n",
       "      <td>1234.074298</td>\n",
       "      <td>260.828651</td>\n",
       "      <td>1980.537111</td>\n",
       "      <td>0.850940</td>\n",
       "      <td>17.936615</td>\n",
       "      <td>0.127776</td>\n",
       "      <td>0.106571</td>\n",
       "      <td>63.055646</td>\n",
       "      <td>0.048216</td>\n",
       "    </tr>\n",
       "    <tr>\n",
       "      <th>std</th>\n",
       "      <td>4059.759743</td>\n",
       "      <td>NaN</td>\n",
       "      <td>NaN</td>\n",
       "      <td>9.938918</td>\n",
       "      <td>0.954751</td>\n",
       "      <td>0.193437</td>\n",
       "      <td>2.382161</td>\n",
       "      <td>1.462637</td>\n",
       "      <td>2.336598</td>\n",
       "      <td>0.239100</td>\n",
       "      <td>...</td>\n",
       "      <td>75.250361</td>\n",
       "      <td>2173.760053</td>\n",
       "      <td>345.176128</td>\n",
       "      <td>3174.500472</td>\n",
       "      <td>4.882227</td>\n",
       "      <td>95.146158</td>\n",
       "      <td>0.458497</td>\n",
       "      <td>12.744702</td>\n",
       "      <td>315.583949</td>\n",
       "      <td>0.214231</td>\n",
       "    </tr>\n",
       "    <tr>\n",
       "      <th>min</th>\n",
       "      <td>0.000000</td>\n",
       "      <td>NaN</td>\n",
       "      <td>NaN</td>\n",
       "      <td>1.000000</td>\n",
       "      <td>1.000000</td>\n",
       "      <td>0.000000</td>\n",
       "      <td>0.000000</td>\n",
       "      <td>0.000000</td>\n",
       "      <td>0.000000</td>\n",
       "      <td>0.000000</td>\n",
       "      <td>...</td>\n",
       "      <td>0.000000</td>\n",
       "      <td>7.000000</td>\n",
       "      <td>7.000000</td>\n",
       "      <td>13.621371</td>\n",
       "      <td>0.000000</td>\n",
       "      <td>0.000000</td>\n",
       "      <td>0.000000</td>\n",
       "      <td>-70.000000</td>\n",
       "      <td>0.000000</td>\n",
       "      <td>0.000000</td>\n",
       "    </tr>\n",
       "    <tr>\n",
       "      <th>25%</th>\n",
       "      <td>4440.000000</td>\n",
       "      <td>NaN</td>\n",
       "      <td>NaN</td>\n",
       "      <td>4.000000</td>\n",
       "      <td>2.000000</td>\n",
       "      <td>0.000000</td>\n",
       "      <td>0.000000</td>\n",
       "      <td>0.000000</td>\n",
       "      <td>0.000000</td>\n",
       "      <td>0.000000</td>\n",
       "      <td>...</td>\n",
       "      <td>2.000000</td>\n",
       "      <td>229.000000</td>\n",
       "      <td>80.000000</td>\n",
       "      <td>448.192538</td>\n",
       "      <td>0.000000</td>\n",
       "      <td>0.000000</td>\n",
       "      <td>0.000000</td>\n",
       "      <td>0.000000</td>\n",
       "      <td>0.000000</td>\n",
       "      <td>0.000000</td>\n",
       "    </tr>\n",
       "    <tr>\n",
       "      <th>50%</th>\n",
       "      <td>7670.000000</td>\n",
       "      <td>NaN</td>\n",
       "      <td>NaN</td>\n",
       "      <td>7.000000</td>\n",
       "      <td>2.000000</td>\n",
       "      <td>0.000000</td>\n",
       "      <td>0.000000</td>\n",
       "      <td>0.000000</td>\n",
       "      <td>1.000000</td>\n",
       "      <td>0.000000</td>\n",
       "      <td>...</td>\n",
       "      <td>16.000000</td>\n",
       "      <td>518.000000</td>\n",
       "      <td>146.000000</td>\n",
       "      <td>918.373921</td>\n",
       "      <td>0.000000</td>\n",
       "      <td>0.000000</td>\n",
       "      <td>0.000000</td>\n",
       "      <td>0.000000</td>\n",
       "      <td>0.000000</td>\n",
       "      <td>0.000000</td>\n",
       "    </tr>\n",
       "    <tr>\n",
       "      <th>75%</th>\n",
       "      <td>10900.000000</td>\n",
       "      <td>NaN</td>\n",
       "      <td>NaN</td>\n",
       "      <td>11.000000</td>\n",
       "      <td>3.000000</td>\n",
       "      <td>0.166667</td>\n",
       "      <td>1.000000</td>\n",
       "      <td>0.000000</td>\n",
       "      <td>2.000000</td>\n",
       "      <td>0.000000</td>\n",
       "      <td>...</td>\n",
       "      <td>43.000000</td>\n",
       "      <td>1295.000000</td>\n",
       "      <td>285.000000</td>\n",
       "      <td>2051.426451</td>\n",
       "      <td>0.000000</td>\n",
       "      <td>0.000000</td>\n",
       "      <td>0.000000</td>\n",
       "      <td>0.000000</td>\n",
       "      <td>0.000000</td>\n",
       "      <td>0.000000</td>\n",
       "    </tr>\n",
       "    <tr>\n",
       "      <th>max</th>\n",
       "      <td>14130.000000</td>\n",
       "      <td>NaN</td>\n",
       "      <td>NaN</td>\n",
       "      <td>194.000000</td>\n",
       "      <td>9.000000</td>\n",
       "      <td>1.788732</td>\n",
       "      <td>47.000000</td>\n",
       "      <td>24.000000</td>\n",
       "      <td>42.000000</td>\n",
       "      <td>6.000000</td>\n",
       "      <td>...</td>\n",
       "      <td>514.000000</td>\n",
       "      <td>22282.000000</td>\n",
       "      <td>2098.000000</td>\n",
       "      <td>19973.635455</td>\n",
       "      <td>80.000000</td>\n",
       "      <td>583.000000</td>\n",
       "      <td>2.000000</td>\n",
       "      <td>1447.000000</td>\n",
       "      <td>2029.000000</td>\n",
       "      <td>1.000000</td>\n",
       "    </tr>\n",
       "  </tbody>\n",
       "</table>\n",
       "<p>11 rows × 30 columns</p>\n",
       "</div>"
      ],
      "text/plain": [
       "          Unnamed: 0  nameProject  \\\n",
       "count   12921.000000        12921   \n",
       "unique           NaN           18   \n",
       "top              NaN  spring-boot   \n",
       "freq             NaN         2153   \n",
       "mean     7447.309806          NaN   \n",
       "std      4059.759743          NaN   \n",
       "min         0.000000          NaN   \n",
       "25%      4440.000000          NaN   \n",
       "50%      7670.000000          NaN   \n",
       "75%     10900.000000          NaN   \n",
       "max     14130.000000          NaN   \n",
       "\n",
       "                                                 testCase          tloc  \\\n",
       "count                                               12921  12921.000000   \n",
       "unique                                              12248           NaN   \n",
       "top     com.github.kevinsawicki.http.HttpRequestTest.h...           NaN   \n",
       "freq                                                  136           NaN   \n",
       "mean                                                  NaN      9.611176   \n",
       "std                                                   NaN      9.938918   \n",
       "min                                                   NaN      1.000000   \n",
       "25%                                                   NaN      4.000000   \n",
       "50%                                                   NaN      7.000000   \n",
       "75%                                                   NaN     11.000000   \n",
       "max                                                   NaN    194.000000   \n",
       "\n",
       "             tmcCabe  assertionDensity  assertionRoulette  mysteryGuest  \\\n",
       "count   12921.000000      12921.000000       12921.000000  12921.000000   \n",
       "unique           NaN               NaN                NaN           NaN   \n",
       "top              NaN               NaN                NaN           NaN   \n",
       "freq             NaN               NaN                NaN           NaN   \n",
       "mean        2.195883          0.105966           1.076697      0.304388   \n",
       "std         0.954751          0.193437           2.382161      1.462637   \n",
       "min         1.000000          0.000000           0.000000      0.000000   \n",
       "25%         2.000000          0.000000           0.000000      0.000000   \n",
       "50%         2.000000          0.000000           0.000000      0.000000   \n",
       "75%         3.000000          0.166667           1.000000      0.000000   \n",
       "max         9.000000          1.788732          47.000000     24.000000   \n",
       "\n",
       "           eagerTest  sensitiveEquality  ...           mpc  \\\n",
       "count   12921.000000       12921.000000  ...  12921.000000   \n",
       "unique           NaN                NaN  ...           NaN   \n",
       "top              NaN                NaN  ...           NaN   \n",
       "freq             NaN                NaN  ...           NaN   \n",
       "mean        1.287207           0.033357  ...     40.906509   \n",
       "std         2.336598           0.239100  ...     75.250361   \n",
       "min         0.000000           0.000000  ...      0.000000   \n",
       "25%         0.000000           0.000000  ...      2.000000   \n",
       "50%         1.000000           0.000000  ...     16.000000   \n",
       "75%         2.000000           0.000000  ...     43.000000   \n",
       "max        42.000000           6.000000  ...    514.000000   \n",
       "\n",
       "        halsteadVocabulary  halsteadLength  halsteadVolume  \\\n",
       "count         12921.000000    12921.000000    12921.000000   \n",
       "unique                 NaN             NaN             NaN   \n",
       "top                    NaN             NaN             NaN   \n",
       "freq                   NaN             NaN             NaN   \n",
       "mean           1234.074298      260.828651     1980.537111   \n",
       "std            2173.760053      345.176128     3174.500472   \n",
       "min               7.000000        7.000000       13.621371   \n",
       "25%             229.000000       80.000000      448.192538   \n",
       "50%             518.000000      146.000000      918.373921   \n",
       "75%            1295.000000      285.000000     2051.426451   \n",
       "max           22282.000000     2098.000000    19973.635455   \n",
       "\n",
       "        classDataShouldBePrivate  complexClass  functionalDecomposition  \\\n",
       "count               12921.000000  12921.000000             12921.000000   \n",
       "unique                       NaN           NaN                      NaN   \n",
       "top                          NaN           NaN                      NaN   \n",
       "freq                         NaN           NaN                      NaN   \n",
       "mean                    0.850940     17.936615                 0.127776   \n",
       "std                     4.882227     95.146158                 0.458497   \n",
       "min                     0.000000      0.000000                 0.000000   \n",
       "25%                     0.000000      0.000000                 0.000000   \n",
       "50%                     0.000000      0.000000                 0.000000   \n",
       "75%                     0.000000      0.000000                 0.000000   \n",
       "max                    80.000000    583.000000                 2.000000   \n",
       "\n",
       "            godClass  spaghettiCode       isFlaky  \n",
       "count   12921.000000   12921.000000  12921.000000  \n",
       "unique           NaN            NaN           NaN  \n",
       "top              NaN            NaN           NaN  \n",
       "freq             NaN            NaN           NaN  \n",
       "mean        0.106571      63.055646      0.048216  \n",
       "std        12.744702     315.583949      0.214231  \n",
       "min       -70.000000       0.000000      0.000000  \n",
       "25%         0.000000       0.000000      0.000000  \n",
       "50%         0.000000       0.000000      0.000000  \n",
       "75%         0.000000       0.000000      0.000000  \n",
       "max      1447.000000    2029.000000      1.000000  \n",
       "\n",
       "[11 rows x 30 columns]"
      ]
     },
     "execution_count": 3,
     "metadata": {},
     "output_type": "execute_result"
    }
   ],
   "source": [
    "dataset.describe(include='all')"
   ]
  },
  {
   "cell_type": "markdown",
   "id": "010c7d4e-a822-47ea-9b5e-c958a5a3af0a",
   "metadata": {
    "pycharm": {
     "name": "#%% md\n"
    }
   },
   "source": [
    "Il dataset da utlizzare non possiede valori nulli, pertando non sara necessario eseguire operazioni di \"Data Cleaning\" tuttavia, risulta essere sbilanciato in quanto sono presenti 9115/9785 campioni di test la cui label isFlaky e False.\n",
    "Dal dataset vengono rimossi i test case di setup e teardown, in quanto solitamente essi non contengono porzioni di codice flaky. Inoltre il dataset da utlizzare non possiede valori nulli, pertando non sara necessario eseguire operazioni di \"Data Cleaning\". Tuttavia, risulta essere sbilanciato in quanto sono presenti 623/12921 campioni di test la cui label isFlaky e True.\n",
    "\n"
   ]
  },
  {
   "cell_type": "code",
   "execution_count": 10,
   "id": "a0b24209-8e0b-4d4e-a7ae-39315b7b4ed7",
   "metadata": {
    "pycharm": {
     "name": "#%%\n"
    }
   },
   "outputs": [],
   "source": [
    "dataset_copy=dataset.copy()\n",
    "dataset_copy = dataset_copy[dataset_copy['testCase'].str.lower().str.contains('.setup|.teardown') == False] #Rimuovo dal dataset i campioni di setup e teardown\n",
    "dataset_copy=dataset_copy.reset_index()\n",
    "dataset_copy=dataset_copy.drop(['Unnamed: 0','index'],axis=1) #Rimuovo dal dataset gli indici"
   ]
  },
  {
   "cell_type": "markdown",
   "id": "0b9388d6-a07f-4542-a1c5-5593e31e5854",
   "metadata": {
    "pycharm": {
     "name": "#%% md\n"
    }
   },
   "source": [
    "### Partizionamento DataSet\n",
    "Prima di manipolare il dataset, esso verra diviso in train-set(80%) e test-set(20%).\n",
    "Il tain-set sarà utlizzato per l'identificazione di un modello predittivo, mentre il test-set verrà utilizzato per testare l'algoritmo di machine learnin.\n",
    "Per il partizionamento del dataset viene adottato un campionamento statificato in modo tale da avere le stesse proporzioni di test flaky (False, True) tra il dataset di test e quello di training\n"
   ]
  },
  {
   "cell_type": "code",
   "execution_count": 11,
   "id": "21c51ab2-4d0f-4444-99d3-823fde0108af",
   "metadata": {
    "tags": [],
    "pycharm": {
     "name": "#%%\n"
    }
   },
   "outputs": [
    {
     "name": "stdout",
     "output_type": "stream",
     "text": [
      "Dimensione Train-set  9722\n",
      "Dimensione Test-set  2431\n"
     ]
    }
   ],
   "source": [
    "from sklearn.model_selection import StratifiedShuffleSplit\n",
    "split=StratifiedShuffleSplit(n_splits=1,test_size=0.2,random_state=42)\n",
    "for train_index_stratified,test_index_stratified in split.split(dataset_copy,dataset_copy['isFlaky']):\n",
    "    train_set=dataset_copy.loc[train_index_stratified]\n",
    "    test_set=dataset_copy.loc[test_index_stratified]\n",
    "\n",
    "print(\"Dimensione Train-set \",len(train_set))\n",
    "print(\"Dimensione Test-set \",len(test_set))\n",
    "\n",
    "train_set=train_set.drop_duplicates()\n",
    "test_set = test_set.drop_duplicates()\n"
   ]
  },
  {
   "cell_type": "markdown",
   "id": "c0cc7dc4-e136-43e2-9e94-ead099fe0a82",
   "metadata": {
    "pycharm": {
     "name": "#%% md\n"
    }
   },
   "source": [
    "### Pipeline senza nessuna fase di feature engineering"
   ]
  },
  {
   "cell_type": "code",
   "execution_count": 6,
   "id": "39085768-02f7-4119-be49-158362f0a591",
   "metadata": {
    "pycharm": {
     "name": "#%%\n"
    }
   },
   "outputs": [
    {
     "name": "stdout",
     "output_type": "stream",
     "text": [
      "Prestazioni train set\n"
     ]
    },
    {
     "data": {
      "image/png": "[encoded data removed]",
      "text/plain": [
       "<Figure size 180x180 with 1 Axes>"
      ]
     },
     "metadata": {
      "needs_background": "light"
     },
     "output_type": "display_data"
    },
    {
     "name": "stdout",
     "output_type": "stream",
     "text": [
      "Accuracy: 0.992\n",
      "Precision: 0.965\n",
      "Recall: 0.878\n",
      "F1: 0.919\n",
      "Prestazioni senza feature engineering:\n"
     ]
    },
    {
     "data": {
      "image/png": "[encoded data removed]",
      "text/plain": [
       "<Figure size 180x180 with 1 Axes>"
      ]
     },
     "metadata": {
      "needs_background": "light"
     },
     "output_type": "display_data"
    },
    {
     "name": "stdout",
     "output_type": "stream",
     "text": [
      "Accuracy: 0.969\n",
      "Precision: 0.787\n",
      "Recall: 0.560\n",
      "F1: 0.654\n"
     ]
    }
   ],
   "source": [
    "from sklearn.ensemble import RandomForestClassifier\n",
    "import numpy as np\n",
    "from sklearn.metrics import confusion_matrix\n",
    "from sklearn.metrics import accuracy_score,precision_score,recall_score,f1_score\n",
    "import matplotlib.pyplot as plt\n",
    "def print_performance_model(y_true,y_pred):\n",
    "    confmat = confusion_matrix(y_true=y_true, y_pred=y_pred)\n",
    "    fig, ax = plt.subplots(figsize=(2.5, 2.5))\n",
    "    ax.matshow(confmat, cmap=plt.cm.Blues, alpha=0.3)\n",
    "    for i in range(confmat.shape[0]):\n",
    "        for j in range(confmat.shape[1]):\n",
    "            ax.text(x=j, y=i, s=confmat[i, j], va='center', ha='center')\n",
    "    plt.xlabel('predict label')\n",
    "    plt.ylabel('true label')\n",
    "    plt.show()\n",
    "    print(\"Accuracy: %.3f\" % accuracy_score(y_true=y_true, y_pred=y_pred))\n",
    "    print(\"Precision: %.3f\" % precision_score(y_true=y_true, y_pred=y_pred))\n",
    "    print(\"Recall: %.3f\" % recall_score(y_true=y_true, y_pred=y_pred))\n",
    "    print(\"F1: %.3f\" % f1_score(y_true=y_true, y_pred=y_pred))\n",
    "    \n",
    "def get_object_colum(dataset):\n",
    "    drop_col = []\n",
    "    for col in dataset.columns:\n",
    "        if dataset[col].dtypes == 'object':\n",
    "            drop_col.append(col)\n",
    "    return drop_col\n",
    "\n",
    "\n",
    "\n",
    "train_set_copy=train_set.copy() #Lavoro sempre su una copia del train set\n",
    "#1. Rimuovo dal dataset le feature che sono object\n",
    "train_set_copy=train_set_copy.drop(get_object_colum(train_set_copy),axis=1)\n",
    "#2. Divido le etichette dai campioni converto tutto in un array numpy\n",
    "X_train_set=train_set_copy.drop(['isFlaky'],axis=1)\n",
    "y_train_set= train_set_copy['isFlaky']\n",
    "X_train_set = X_train_set.to_numpy()\n",
    "y_train_set = y_train_set.to_numpy()\n",
    "#3. Addesto il classificatore RandomForest sul train_set\n",
    "clf=RandomForestClassifier(criterion='entropy', n_estimators=150)\n",
    "clf.fit(X=X_train_set,y=y_train_set)\n",
    "print(\"Prestazioni train set\")\n",
    "y_pred=clf.predict(X=X_train_set)\n",
    "print_performance_model(y_true=y_train_set,y_pred=y_pred)\n",
    "#4. Applico le stesse operazioni al test set e verifico le prestazioni del modello\n",
    "test_set_copy=test_set.copy()\n",
    "test_set_copy=test_set_copy.drop(get_object_colum(test_set_copy),axis=1)\n",
    "X_test_set = test_set_copy.drop(['isFlaky'], axis=1).to_numpy()\n",
    "y_test_set = test_set_copy['isFlaky'].to_numpy()\n",
    "y_pred=clf.predict(X=X_test_set)\n",
    "#5. Genero la matrice di confusione e le prestazioni del modello\n",
    "print(\"Prestazioni senza feature engineering:\")\n",
    "print_performance_model(y_true=y_test_set,y_pred=y_pred)"
   ]
  },
  {
   "cell_type": "markdown",
   "id": "b3fbc477-ebf9-4f05-94b7-c9d36e76bd4f",
   "metadata": {
    "pycharm": {
     "name": "#%% md\n"
    }
   },
   "source": [
    "### Pipeline con fase di feature engineering(Feature Scale:Standardizzazione)\n"
   ]
  },
  {
   "cell_type": "code",
   "execution_count": 7,
   "id": "f65485a8-b4f1-4f5b-b277-3ef5bcc97a3d",
   "metadata": {
    "pycharm": {
     "name": "#%%\n"
    }
   },
   "outputs": [
    {
     "name": "stdout",
     "output_type": "stream",
     "text": [
      "Train set non standardizzato\n"
     ]
    },
    {
     "data": {
      "text/html": [
       "<div>\n",
       "<style scoped>\n",
       "    .dataframe tbody tr th:only-of-type {\n",
       "        vertical-align: middle;\n",
       "    }\n",
       "\n",
       "    .dataframe tbody tr th {\n",
       "        vertical-align: top;\n",
       "    }\n",
       "\n",
       "    .dataframe thead th {\n",
       "        text-align: right;\n",
       "    }\n",
       "</style>\n",
       "<table border=\"1\" class=\"dataframe\">\n",
       "  <thead>\n",
       "    <tr style=\"text-align: right;\">\n",
       "      <th></th>\n",
       "      <th>tloc</th>\n",
       "      <th>tmcCabe</th>\n",
       "      <th>assertionDensity</th>\n",
       "      <th>assertionRoulette</th>\n",
       "      <th>mysteryGuest</th>\n",
       "      <th>eagerTest</th>\n",
       "      <th>sensitiveEquality</th>\n",
       "      <th>resourceOptimism</th>\n",
       "      <th>conditionalTestLogic</th>\n",
       "      <th>fireAndForget</th>\n",
       "      <th>...</th>\n",
       "      <th>rfc</th>\n",
       "      <th>mpc</th>\n",
       "      <th>halsteadVocabulary</th>\n",
       "      <th>halsteadLength</th>\n",
       "      <th>halsteadVolume</th>\n",
       "      <th>classDataShouldBePrivate</th>\n",
       "      <th>complexClass</th>\n",
       "      <th>functionalDecomposition</th>\n",
       "      <th>godClass</th>\n",
       "      <th>spaghettiCode</th>\n",
       "    </tr>\n",
       "  </thead>\n",
       "  <tbody>\n",
       "    <tr>\n",
       "      <th>count</th>\n",
       "      <td>9433.000000</td>\n",
       "      <td>9433.000000</td>\n",
       "      <td>9433.000000</td>\n",
       "      <td>9433.000000</td>\n",
       "      <td>9433.000000</td>\n",
       "      <td>9433.000000</td>\n",
       "      <td>9433.000000</td>\n",
       "      <td>9433.000000</td>\n",
       "      <td>9433.000000</td>\n",
       "      <td>9433.000000</td>\n",
       "      <td>...</td>\n",
       "      <td>9433.000000</td>\n",
       "      <td>9433.000000</td>\n",
       "      <td>9433.000000</td>\n",
       "      <td>9433.000000</td>\n",
       "      <td>9433.000000</td>\n",
       "      <td>9433.000000</td>\n",
       "      <td>9433.000000</td>\n",
       "      <td>9433.000000</td>\n",
       "      <td>9433.0</td>\n",
       "      <td>9433.000000</td>\n",
       "    </tr>\n",
       "    <tr>\n",
       "      <th>mean</th>\n",
       "      <td>9.994063</td>\n",
       "      <td>2.188911</td>\n",
       "      <td>0.116610</td>\n",
       "      <td>1.172268</td>\n",
       "      <td>0.319941</td>\n",
       "      <td>1.395420</td>\n",
       "      <td>0.035196</td>\n",
       "      <td>0.025973</td>\n",
       "      <td>0.666596</td>\n",
       "      <td>0.012509</td>\n",
       "      <td>...</td>\n",
       "      <td>55.509488</td>\n",
       "      <td>38.405279</td>\n",
       "      <td>1171.050249</td>\n",
       "      <td>249.670094</td>\n",
       "      <td>1872.575836</td>\n",
       "      <td>0.591540</td>\n",
       "      <td>13.141948</td>\n",
       "      <td>0.128909</td>\n",
       "      <td>0.0</td>\n",
       "      <td>47.282731</td>\n",
       "    </tr>\n",
       "    <tr>\n",
       "      <th>std</th>\n",
       "      <td>10.313695</td>\n",
       "      <td>0.963683</td>\n",
       "      <td>0.201153</td>\n",
       "      <td>2.495268</td>\n",
       "      <td>1.505659</td>\n",
       "      <td>2.407163</td>\n",
       "      <td>0.248898</td>\n",
       "      <td>0.206098</td>\n",
       "      <td>1.725441</td>\n",
       "      <td>0.130457</td>\n",
       "      <td>...</td>\n",
       "      <td>91.819130</td>\n",
       "      <td>70.011164</td>\n",
       "      <td>2037.511966</td>\n",
       "      <td>317.595515</td>\n",
       "      <td>2909.384044</td>\n",
       "      <td>4.015729</td>\n",
       "      <td>79.854836</td>\n",
       "      <td>0.460165</td>\n",
       "      <td>0.0</td>\n",
       "      <td>267.420370</td>\n",
       "    </tr>\n",
       "    <tr>\n",
       "      <th>min</th>\n",
       "      <td>1.000000</td>\n",
       "      <td>1.000000</td>\n",
       "      <td>0.000000</td>\n",
       "      <td>0.000000</td>\n",
       "      <td>0.000000</td>\n",
       "      <td>0.000000</td>\n",
       "      <td>0.000000</td>\n",
       "      <td>0.000000</td>\n",
       "      <td>0.000000</td>\n",
       "      <td>0.000000</td>\n",
       "      <td>...</td>\n",
       "      <td>0.000000</td>\n",
       "      <td>0.000000</td>\n",
       "      <td>7.000000</td>\n",
       "      <td>7.000000</td>\n",
       "      <td>13.621371</td>\n",
       "      <td>0.000000</td>\n",
       "      <td>0.000000</td>\n",
       "      <td>0.000000</td>\n",
       "      <td>0.0</td>\n",
       "      <td>0.000000</td>\n",
       "    </tr>\n",
       "    <tr>\n",
       "      <th>25%</th>\n",
       "      <td>5.000000</td>\n",
       "      <td>2.000000</td>\n",
       "      <td>0.000000</td>\n",
       "      <td>0.000000</td>\n",
       "      <td>0.000000</td>\n",
       "      <td>0.000000</td>\n",
       "      <td>0.000000</td>\n",
       "      <td>0.000000</td>\n",
       "      <td>0.000000</td>\n",
       "      <td>0.000000</td>\n",
       "      <td>...</td>\n",
       "      <td>9.000000</td>\n",
       "      <td>2.000000</td>\n",
       "      <td>235.000000</td>\n",
       "      <td>81.000000</td>\n",
       "      <td>455.498571</td>\n",
       "      <td>0.000000</td>\n",
       "      <td>0.000000</td>\n",
       "      <td>0.000000</td>\n",
       "      <td>0.0</td>\n",
       "      <td>0.000000</td>\n",
       "    </tr>\n",
       "    <tr>\n",
       "      <th>50%</th>\n",
       "      <td>7.000000</td>\n",
       "      <td>2.000000</td>\n",
       "      <td>0.000000</td>\n",
       "      <td>0.000000</td>\n",
       "      <td>0.000000</td>\n",
       "      <td>1.000000</td>\n",
       "      <td>0.000000</td>\n",
       "      <td>0.000000</td>\n",
       "      <td>0.000000</td>\n",
       "      <td>0.000000</td>\n",
       "      <td>...</td>\n",
       "      <td>26.000000</td>\n",
       "      <td>16.000000</td>\n",
       "      <td>518.000000</td>\n",
       "      <td>146.000000</td>\n",
       "      <td>903.879896</td>\n",
       "      <td>0.000000</td>\n",
       "      <td>0.000000</td>\n",
       "      <td>0.000000</td>\n",
       "      <td>0.0</td>\n",
       "      <td>0.000000</td>\n",
       "    </tr>\n",
       "    <tr>\n",
       "      <th>75%</th>\n",
       "      <td>12.000000</td>\n",
       "      <td>3.000000</td>\n",
       "      <td>0.181818</td>\n",
       "      <td>1.000000</td>\n",
       "      <td>0.000000</td>\n",
       "      <td>2.000000</td>\n",
       "      <td>0.000000</td>\n",
       "      <td>0.000000</td>\n",
       "      <td>1.000000</td>\n",
       "      <td>0.000000</td>\n",
       "      <td>...</td>\n",
       "      <td>62.000000</td>\n",
       "      <td>43.000000</td>\n",
       "      <td>1285.000000</td>\n",
       "      <td>283.000000</td>\n",
       "      <td>2042.744045</td>\n",
       "      <td>0.000000</td>\n",
       "      <td>0.000000</td>\n",
       "      <td>0.000000</td>\n",
       "      <td>0.0</td>\n",
       "      <td>0.000000</td>\n",
       "    </tr>\n",
       "    <tr>\n",
       "      <th>max</th>\n",
       "      <td>194.000000</td>\n",
       "      <td>9.000000</td>\n",
       "      <td>1.788732</td>\n",
       "      <td>47.000000</td>\n",
       "      <td>24.000000</td>\n",
       "      <td>42.000000</td>\n",
       "      <td>6.000000</td>\n",
       "      <td>5.000000</td>\n",
       "      <td>42.000000</td>\n",
       "      <td>5.000000</td>\n",
       "      <td>...</td>\n",
       "      <td>614.000000</td>\n",
       "      <td>514.000000</td>\n",
       "      <td>22282.000000</td>\n",
       "      <td>2098.000000</td>\n",
       "      <td>19973.635455</td>\n",
       "      <td>30.000000</td>\n",
       "      <td>583.000000</td>\n",
       "      <td>2.000000</td>\n",
       "      <td>0.0</td>\n",
       "      <td>2029.000000</td>\n",
       "    </tr>\n",
       "  </tbody>\n",
       "</table>\n",
       "<p>8 rows × 26 columns</p>\n",
       "</div>"
      ],
      "text/plain": [
       "              tloc      tmcCabe  assertionDensity  assertionRoulette  \\\n",
       "count  9433.000000  9433.000000       9433.000000        9433.000000   \n",
       "mean      9.994063     2.188911          0.116610           1.172268   \n",
       "std      10.313695     0.963683          0.201153           2.495268   \n",
       "min       1.000000     1.000000          0.000000           0.000000   \n",
       "25%       5.000000     2.000000          0.000000           0.000000   \n",
       "50%       7.000000     2.000000          0.000000           0.000000   \n",
       "75%      12.000000     3.000000          0.181818           1.000000   \n",
       "max     194.000000     9.000000          1.788732          47.000000   \n",
       "\n",
       "       mysteryGuest    eagerTest  sensitiveEquality  resourceOptimism  \\\n",
       "count   9433.000000  9433.000000        9433.000000       9433.000000   \n",
       "mean       0.319941     1.395420           0.035196          0.025973   \n",
       "std        1.505659     2.407163           0.248898          0.206098   \n",
       "min        0.000000     0.000000           0.000000          0.000000   \n",
       "25%        0.000000     0.000000           0.000000          0.000000   \n",
       "50%        0.000000     1.000000           0.000000          0.000000   \n",
       "75%        0.000000     2.000000           0.000000          0.000000   \n",
       "max       24.000000    42.000000           6.000000          5.000000   \n",
       "\n",
       "       conditionalTestLogic  fireAndForget  ...          rfc          mpc  \\\n",
       "count           9433.000000    9433.000000  ...  9433.000000  9433.000000   \n",
       "mean               0.666596       0.012509  ...    55.509488    38.405279   \n",
       "std                1.725441       0.130457  ...    91.819130    70.011164   \n",
       "min                0.000000       0.000000  ...     0.000000     0.000000   \n",
       "25%                0.000000       0.000000  ...     9.000000     2.000000   \n",
       "50%                0.000000       0.000000  ...    26.000000    16.000000   \n",
       "75%                1.000000       0.000000  ...    62.000000    43.000000   \n",
       "max               42.000000       5.000000  ...   614.000000   514.000000   \n",
       "\n",
       "       halsteadVocabulary  halsteadLength  halsteadVolume  \\\n",
       "count         9433.000000     9433.000000     9433.000000   \n",
       "mean          1171.050249      249.670094     1872.575836   \n",
       "std           2037.511966      317.595515     2909.384044   \n",
       "min              7.000000        7.000000       13.621371   \n",
       "25%            235.000000       81.000000      455.498571   \n",
       "50%            518.000000      146.000000      903.879896   \n",
       "75%           1285.000000      283.000000     2042.744045   \n",
       "max          22282.000000     2098.000000    19973.635455   \n",
       "\n",
       "       classDataShouldBePrivate  complexClass  functionalDecomposition  \\\n",
       "count               9433.000000   9433.000000              9433.000000   \n",
       "mean                   0.591540     13.141948                 0.128909   \n",
       "std                    4.015729     79.854836                 0.460165   \n",
       "min                    0.000000      0.000000                 0.000000   \n",
       "25%                    0.000000      0.000000                 0.000000   \n",
       "50%                    0.000000      0.000000                 0.000000   \n",
       "75%                    0.000000      0.000000                 0.000000   \n",
       "max                   30.000000    583.000000                 2.000000   \n",
       "\n",
       "       godClass  spaghettiCode  \n",
       "count    9433.0    9433.000000  \n",
       "mean        0.0      47.282731  \n",
       "std         0.0     267.420370  \n",
       "min         0.0       0.000000  \n",
       "25%         0.0       0.000000  \n",
       "50%         0.0       0.000000  \n",
       "75%         0.0       0.000000  \n",
       "max         0.0    2029.000000  \n",
       "\n",
       "[8 rows x 26 columns]"
      ]
     },
     "execution_count": 7,
     "metadata": {},
     "output_type": "execute_result"
    }
   ],
   "source": [
    "from sklearn.preprocessing import StandardScaler\n",
    "import numpy as np\n",
    "train_set_copy=train_set.copy()\n",
    "train_set_copy = train_set_copy.drop(get_object_colum(train_set_copy), axis=1)\n",
    "X_train_set = train_set_copy.drop(['isFlaky'], axis=1)\n",
    "y_train_set = train_set_copy['isFlaky']\n",
    "columns=X_train_set.columns\n",
    "X_train_set = X_train_set.to_numpy()\n",
    "y_train_set = y_train_set.to_numpy()\n",
    "#Inserisco l'operazione di feature scale\n",
    "print(\"Train set non standardizzato\")\n",
    "dataset_scalato = pandas.DataFrame(X_train_set,columns=columns)\n",
    "dataset_scalato.describe()"
   ]
  },
  {
   "cell_type": "code",
   "execution_count": 8,
   "id": "06839e1a-11b4-4fc3-99c6-d5f04387d4d9",
   "metadata": {
    "pycharm": {
     "name": "#%%\n"
    }
   },
   "outputs": [
    {
     "name": "stdout",
     "output_type": "stream",
     "text": [
      "Train set standardizzato\n"
     ]
    },
    {
     "data": {
      "text/html": [
       "<div>\n",
       "<style scoped>\n",
       "    .dataframe tbody tr th:only-of-type {\n",
       "        vertical-align: middle;\n",
       "    }\n",
       "\n",
       "    .dataframe tbody tr th {\n",
       "        vertical-align: top;\n",
       "    }\n",
       "\n",
       "    .dataframe thead th {\n",
       "        text-align: right;\n",
       "    }\n",
       "</style>\n",
       "<table border=\"1\" class=\"dataframe\">\n",
       "  <thead>\n",
       "    <tr style=\"text-align: right;\">\n",
       "      <th></th>\n",
       "      <th>tloc</th>\n",
       "      <th>tmcCabe</th>\n",
       "      <th>assertionDensity</th>\n",
       "      <th>assertionRoulette</th>\n",
       "      <th>mysteryGuest</th>\n",
       "      <th>eagerTest</th>\n",
       "      <th>sensitiveEquality</th>\n",
       "      <th>resourceOptimism</th>\n",
       "      <th>conditionalTestLogic</th>\n",
       "      <th>fireAndForget</th>\n",
       "      <th>...</th>\n",
       "      <th>rfc</th>\n",
       "      <th>mpc</th>\n",
       "      <th>halsteadVocabulary</th>\n",
       "      <th>halsteadLength</th>\n",
       "      <th>halsteadVolume</th>\n",
       "      <th>classDataShouldBePrivate</th>\n",
       "      <th>complexClass</th>\n",
       "      <th>functionalDecomposition</th>\n",
       "      <th>godClass</th>\n",
       "      <th>spaghettiCode</th>\n",
       "    </tr>\n",
       "  </thead>\n",
       "  <tbody>\n",
       "    <tr>\n",
       "      <th>count</th>\n",
       "      <td>9.433000e+03</td>\n",
       "      <td>9.433000e+03</td>\n",
       "      <td>9.433000e+03</td>\n",
       "      <td>9.433000e+03</td>\n",
       "      <td>9.433000e+03</td>\n",
       "      <td>9.433000e+03</td>\n",
       "      <td>9.433000e+03</td>\n",
       "      <td>9.433000e+03</td>\n",
       "      <td>9.433000e+03</td>\n",
       "      <td>9.433000e+03</td>\n",
       "      <td>...</td>\n",
       "      <td>9.433000e+03</td>\n",
       "      <td>9.433000e+03</td>\n",
       "      <td>9.433000e+03</td>\n",
       "      <td>9.433000e+03</td>\n",
       "      <td>9.433000e+03</td>\n",
       "      <td>9.433000e+03</td>\n",
       "      <td>9.433000e+03</td>\n",
       "      <td>9.433000e+03</td>\n",
       "      <td>9433.0</td>\n",
       "      <td>9.433000e+03</td>\n",
       "    </tr>\n",
       "    <tr>\n",
       "      <th>mean</th>\n",
       "      <td>-7.683172e-17</td>\n",
       "      <td>-1.683519e-16</td>\n",
       "      <td>1.242866e-16</td>\n",
       "      <td>-4.820814e-17</td>\n",
       "      <td>-9.792278e-18</td>\n",
       "      <td>-1.393516e-17</td>\n",
       "      <td>3.314309e-17</td>\n",
       "      <td>-5.574066e-17</td>\n",
       "      <td>-1.544167e-17</td>\n",
       "      <td>-1.167541e-17</td>\n",
       "      <td>...</td>\n",
       "      <td>-3.013009e-18</td>\n",
       "      <td>1.054553e-17</td>\n",
       "      <td>-2.259756e-18</td>\n",
       "      <td>-3.992236e-17</td>\n",
       "      <td>-5.122114e-17</td>\n",
       "      <td>-7.909147e-18</td>\n",
       "      <td>1.280529e-17</td>\n",
       "      <td>-1.807805e-17</td>\n",
       "      <td>0.0</td>\n",
       "      <td>-1.506504e-18</td>\n",
       "    </tr>\n",
       "    <tr>\n",
       "      <th>std</th>\n",
       "      <td>1.000053e+00</td>\n",
       "      <td>1.000053e+00</td>\n",
       "      <td>1.000053e+00</td>\n",
       "      <td>1.000053e+00</td>\n",
       "      <td>1.000053e+00</td>\n",
       "      <td>1.000053e+00</td>\n",
       "      <td>1.000053e+00</td>\n",
       "      <td>1.000053e+00</td>\n",
       "      <td>1.000053e+00</td>\n",
       "      <td>1.000053e+00</td>\n",
       "      <td>...</td>\n",
       "      <td>1.000053e+00</td>\n",
       "      <td>1.000053e+00</td>\n",
       "      <td>1.000053e+00</td>\n",
       "      <td>1.000053e+00</td>\n",
       "      <td>1.000053e+00</td>\n",
       "      <td>1.000053e+00</td>\n",
       "      <td>1.000053e+00</td>\n",
       "      <td>1.000053e+00</td>\n",
       "      <td>0.0</td>\n",
       "      <td>1.000053e+00</td>\n",
       "    </tr>\n",
       "    <tr>\n",
       "      <th>min</th>\n",
       "      <td>-8.720967e-01</td>\n",
       "      <td>-1.233781e+00</td>\n",
       "      <td>-5.797386e-01</td>\n",
       "      <td>-4.698211e-01</td>\n",
       "      <td>-2.125034e-01</td>\n",
       "      <td>-5.797258e-01</td>\n",
       "      <td>-1.414131e-01</td>\n",
       "      <td>-1.260276e-01</td>\n",
       "      <td>-3.863542e-01</td>\n",
       "      <td>-9.589307e-02</td>\n",
       "      <td>...</td>\n",
       "      <td>-6.045846e-01</td>\n",
       "      <td>-5.485884e-01</td>\n",
       "      <td>-5.713399e-01</td>\n",
       "      <td>-7.641259e-01</td>\n",
       "      <td>-6.389851e-01</td>\n",
       "      <td>-1.473136e-01</td>\n",
       "      <td>-1.645817e-01</td>\n",
       "      <td>-2.801514e-01</td>\n",
       "      <td>0.0</td>\n",
       "      <td>-1.768199e-01</td>\n",
       "    </tr>\n",
       "    <tr>\n",
       "      <th>25%</th>\n",
       "      <td>-4.842423e-01</td>\n",
       "      <td>-1.960409e-01</td>\n",
       "      <td>-5.797386e-01</td>\n",
       "      <td>-4.698211e-01</td>\n",
       "      <td>-2.125034e-01</td>\n",
       "      <td>-5.797258e-01</td>\n",
       "      <td>-1.414131e-01</td>\n",
       "      <td>-1.260276e-01</td>\n",
       "      <td>-3.863542e-01</td>\n",
       "      <td>-9.589307e-02</td>\n",
       "      <td>...</td>\n",
       "      <td>-5.065606e-01</td>\n",
       "      <td>-5.200200e-01</td>\n",
       "      <td>-4.594328e-01</td>\n",
       "      <td>-5.311128e-01</td>\n",
       "      <td>-4.870970e-01</td>\n",
       "      <td>-1.473136e-01</td>\n",
       "      <td>-1.645817e-01</td>\n",
       "      <td>-2.801514e-01</td>\n",
       "      <td>0.0</td>\n",
       "      <td>-1.768199e-01</td>\n",
       "    </tr>\n",
       "    <tr>\n",
       "      <th>50%</th>\n",
       "      <td>-2.903152e-01</td>\n",
       "      <td>-1.960409e-01</td>\n",
       "      <td>-5.797386e-01</td>\n",
       "      <td>-4.698211e-01</td>\n",
       "      <td>-2.125034e-01</td>\n",
       "      <td>-1.642769e-01</td>\n",
       "      <td>-1.414131e-01</td>\n",
       "      <td>-1.260276e-01</td>\n",
       "      <td>-3.863542e-01</td>\n",
       "      <td>-9.589307e-02</td>\n",
       "      <td>...</td>\n",
       "      <td>-3.214042e-01</td>\n",
       "      <td>-3.200413e-01</td>\n",
       "      <td>-3.205306e-01</td>\n",
       "      <td>-3.264391e-01</td>\n",
       "      <td>-3.329733e-01</td>\n",
       "      <td>-1.473136e-01</td>\n",
       "      <td>-1.645817e-01</td>\n",
       "      <td>-2.801514e-01</td>\n",
       "      <td>0.0</td>\n",
       "      <td>-1.768199e-01</td>\n",
       "    </tr>\n",
       "    <tr>\n",
       "      <th>75%</th>\n",
       "      <td>1.945028e-01</td>\n",
       "      <td>8.416995e-01</td>\n",
       "      <td>3.241902e-01</td>\n",
       "      <td>-6.904135e-02</td>\n",
       "      <td>-2.125034e-01</td>\n",
       "      <td>2.511719e-01</td>\n",
       "      <td>-1.414131e-01</td>\n",
       "      <td>-1.260276e-01</td>\n",
       "      <td>1.932385e-01</td>\n",
       "      <td>-9.589307e-02</td>\n",
       "      <td>...</td>\n",
       "      <td>7.069176e-02</td>\n",
       "      <td>6.563188e-02</td>\n",
       "      <td>5.592889e-02</td>\n",
       "      <td>1.049501e-01</td>\n",
       "      <td>5.849253e-02</td>\n",
       "      <td>-1.473136e-01</td>\n",
       "      <td>-1.645817e-01</td>\n",
       "      <td>-2.801514e-01</td>\n",
       "      <td>0.0</td>\n",
       "      <td>-1.768199e-01</td>\n",
       "    </tr>\n",
       "    <tr>\n",
       "      <th>max</th>\n",
       "      <td>1.784188e+01</td>\n",
       "      <td>7.068142e+00</td>\n",
       "      <td>8.313138e+00</td>\n",
       "      <td>1.836683e+01</td>\n",
       "      <td>1.572821e+01</td>\n",
       "      <td>1.686913e+01</td>\n",
       "      <td>2.396611e+01</td>\n",
       "      <td>2.413558e+01</td>\n",
       "      <td>2.395654e+01</td>\n",
       "      <td>3.823289e+01</td>\n",
       "      <td>...</td>\n",
       "      <td>6.082830e+00</td>\n",
       "      <td>6.793487e+00</td>\n",
       "      <td>1.036169e+01</td>\n",
       "      <td>5.820069e+00</td>\n",
       "      <td>6.221942e+00</td>\n",
       "      <td>7.323705e+00</td>\n",
       "      <td>7.136553e+00</td>\n",
       "      <td>4.066343e+00</td>\n",
       "      <td>0.0</td>\n",
       "      <td>7.410888e+00</td>\n",
       "    </tr>\n",
       "  </tbody>\n",
       "</table>\n",
       "<p>8 rows × 26 columns</p>\n",
       "</div>"
      ],
      "text/plain": [
       "               tloc       tmcCabe  assertionDensity  assertionRoulette  \\\n",
       "count  9.433000e+03  9.433000e+03      9.433000e+03       9.433000e+03   \n",
       "mean  -7.683172e-17 -1.683519e-16      1.242866e-16      -4.820814e-17   \n",
       "std    1.000053e+00  1.000053e+00      1.000053e+00       1.000053e+00   \n",
       "min   -8.720967e-01 -1.233781e+00     -5.797386e-01      -4.698211e-01   \n",
       "25%   -4.842423e-01 -1.960409e-01     -5.797386e-01      -4.698211e-01   \n",
       "50%   -2.903152e-01 -1.960409e-01     -5.797386e-01      -4.698211e-01   \n",
       "75%    1.945028e-01  8.416995e-01      3.241902e-01      -6.904135e-02   \n",
       "max    1.784188e+01  7.068142e+00      8.313138e+00       1.836683e+01   \n",
       "\n",
       "       mysteryGuest     eagerTest  sensitiveEquality  resourceOptimism  \\\n",
       "count  9.433000e+03  9.433000e+03       9.433000e+03      9.433000e+03   \n",
       "mean  -9.792278e-18 -1.393516e-17       3.314309e-17     -5.574066e-17   \n",
       "std    1.000053e+00  1.000053e+00       1.000053e+00      1.000053e+00   \n",
       "min   -2.125034e-01 -5.797258e-01      -1.414131e-01     -1.260276e-01   \n",
       "25%   -2.125034e-01 -5.797258e-01      -1.414131e-01     -1.260276e-01   \n",
       "50%   -2.125034e-01 -1.642769e-01      -1.414131e-01     -1.260276e-01   \n",
       "75%   -2.125034e-01  2.511719e-01      -1.414131e-01     -1.260276e-01   \n",
       "max    1.572821e+01  1.686913e+01       2.396611e+01      2.413558e+01   \n",
       "\n",
       "       conditionalTestLogic  fireAndForget  ...           rfc           mpc  \\\n",
       "count          9.433000e+03   9.433000e+03  ...  9.433000e+03  9.433000e+03   \n",
       "mean          -1.544167e-17  -1.167541e-17  ... -3.013009e-18  1.054553e-17   \n",
       "std            1.000053e+00   1.000053e+00  ...  1.000053e+00  1.000053e+00   \n",
       "min           -3.863542e-01  -9.589307e-02  ... -6.045846e-01 -5.485884e-01   \n",
       "25%           -3.863542e-01  -9.589307e-02  ... -5.065606e-01 -5.200200e-01   \n",
       "50%           -3.863542e-01  -9.589307e-02  ... -3.214042e-01 -3.200413e-01   \n",
       "75%            1.932385e-01  -9.589307e-02  ...  7.069176e-02  6.563188e-02   \n",
       "max            2.395654e+01   3.823289e+01  ...  6.082830e+00  6.793487e+00   \n",
       "\n",
       "       halsteadVocabulary  halsteadLength  halsteadVolume  \\\n",
       "count        9.433000e+03    9.433000e+03    9.433000e+03   \n",
       "mean        -2.259756e-18   -3.992236e-17   -5.122114e-17   \n",
       "std          1.000053e+00    1.000053e+00    1.000053e+00   \n",
       "min         -5.713399e-01   -7.641259e-01   -6.389851e-01   \n",
       "25%         -4.594328e-01   -5.311128e-01   -4.870970e-01   \n",
       "50%         -3.205306e-01   -3.264391e-01   -3.329733e-01   \n",
       "75%          5.592889e-02    1.049501e-01    5.849253e-02   \n",
       "max          1.036169e+01    5.820069e+00    6.221942e+00   \n",
       "\n",
       "       classDataShouldBePrivate  complexClass  functionalDecomposition  \\\n",
       "count              9.433000e+03  9.433000e+03             9.433000e+03   \n",
       "mean              -7.909147e-18  1.280529e-17            -1.807805e-17   \n",
       "std                1.000053e+00  1.000053e+00             1.000053e+00   \n",
       "min               -1.473136e-01 -1.645817e-01            -2.801514e-01   \n",
       "25%               -1.473136e-01 -1.645817e-01            -2.801514e-01   \n",
       "50%               -1.473136e-01 -1.645817e-01            -2.801514e-01   \n",
       "75%               -1.473136e-01 -1.645817e-01            -2.801514e-01   \n",
       "max                7.323705e+00  7.136553e+00             4.066343e+00   \n",
       "\n",
       "       godClass  spaghettiCode  \n",
       "count    9433.0   9.433000e+03  \n",
       "mean        0.0  -1.506504e-18  \n",
       "std         0.0   1.000053e+00  \n",
       "min         0.0  -1.768199e-01  \n",
       "25%         0.0  -1.768199e-01  \n",
       "50%         0.0  -1.768199e-01  \n",
       "75%         0.0  -1.768199e-01  \n",
       "max         0.0   7.410888e+00  \n",
       "\n",
       "[8 rows x 26 columns]"
      ]
     },
     "execution_count": 8,
     "metadata": {},
     "output_type": "execute_result"
    }
   ],
   "source": [
    "sc=StandardScaler()\n",
    "sc.fit(X=X_train_set)\n",
    "X_train_set=sc.transform(X=X_train_set)\n",
    "print(\"Train set standardizzato\")\n",
    "dataset_scalato = pandas.DataFrame(X_train_set,columns=columns)\n",
    "dataset_scalato.describe()"
   ]
  },
  {
   "cell_type": "code",
   "execution_count": 9,
   "id": "f4e7b302-7b57-4d5a-ad2c-4edcab9d98f7",
   "metadata": {
    "pycharm": {
     "name": "#%%\n"
    }
   },
   "outputs": [
    {
     "name": "stdout",
     "output_type": "stream",
     "text": [
      "Prestazioni train set\n"
     ]
    },
    {
     "data": {
      "image/png": "[encoded data removed]",
      "text/plain": [
       "<Figure size 180x180 with 1 Axes>"
      ]
     },
     "metadata": {
      "needs_background": "light"
     },
     "output_type": "display_data"
    },
    {
     "name": "stdout",
     "output_type": "stream",
     "text": [
      "Accuracy: 0.992\n",
      "Precision: 0.959\n",
      "Recall: 0.884\n",
      "F1: 0.920\n",
      "Prestazioni con standardizzazione:\n"
     ]
    },
    {
     "data": {
      "image/png": "[encoded data removed]",
      "text/plain": [
       "<Figure size 180x180 with 1 Axes>"
      ]
     },
     "metadata": {
      "needs_background": "light"
     },
     "output_type": "display_data"
    },
    {
     "name": "stdout",
     "output_type": "stream",
     "text": [
      "Accuracy: 0.971\n",
      "Precision: 0.804\n",
      "Recall: 0.592\n",
      "F1: 0.682\n"
     ]
    }
   ],
   "source": [
    "clf = RandomForestClassifier(criterion='entropy', n_estimators=150)\n",
    "clf.fit(X=X_train_set, y=y_train_set)\n",
    "print(\"Prestazioni train set\")\n",
    "y_pred=clf.predict(X=X_train_set)\n",
    "print_performance_model(y_true=y_train_set,y_pred=y_pred)\n",
    "#Valuto le prestazioni del modello\n",
    "test_set_copy = test_set.copy()\n",
    "test_set_copy = test_set_copy.drop(get_object_colum(test_set_copy), axis=1)\n",
    "X_test_set = test_set_copy.drop(['isFlaky'], axis=1).to_numpy()\n",
    "y_test_set = test_set_copy['isFlaky'].to_numpy()\n",
    "X_test_set=sc.transform(X=X_test_set)\n",
    "y_pred = clf.predict(X=X_test_set)\n",
    "print(\"Prestazioni con standardizzazione:\")\n",
    "print_performance_model(y_true=y_test_set, y_pred=y_pred)"
   ]
  },
  {
   "cell_type": "markdown",
   "id": "2867c01a-56a3-47b5-a41b-9d5965c2f5e3",
   "metadata": {
    "pycharm": {
     "name": "#%% md\n"
    }
   },
   "source": [
    "### Pipeline con fase di feature engineering(Feature Scale:Normalizzazione MAX)\n"
   ]
  },
  {
   "cell_type": "code",
   "execution_count": 10,
   "id": "a633dcc6-1a72-454c-a50e-70e0b6e1cd65",
   "metadata": {
    "pycharm": {
     "name": "#%%\n"
    }
   },
   "outputs": [
    {
     "name": "stdout",
     "output_type": "stream",
     "text": [
      "Train set non normalizzato\n"
     ]
    },
    {
     "data": {
      "text/html": [
       "<div>\n",
       "<style scoped>\n",
       "    .dataframe tbody tr th:only-of-type {\n",
       "        vertical-align: middle;\n",
       "    }\n",
       "\n",
       "    .dataframe tbody tr th {\n",
       "        vertical-align: top;\n",
       "    }\n",
       "\n",
       "    .dataframe thead th {\n",
       "        text-align: right;\n",
       "    }\n",
       "</style>\n",
       "<table border=\"1\" class=\"dataframe\">\n",
       "  <thead>\n",
       "    <tr style=\"text-align: right;\">\n",
       "      <th></th>\n",
       "      <th>tloc</th>\n",
       "      <th>tmcCabe</th>\n",
       "      <th>assertionDensity</th>\n",
       "      <th>assertionRoulette</th>\n",
       "      <th>mysteryGuest</th>\n",
       "      <th>eagerTest</th>\n",
       "      <th>sensitiveEquality</th>\n",
       "      <th>resourceOptimism</th>\n",
       "      <th>conditionalTestLogic</th>\n",
       "      <th>fireAndForget</th>\n",
       "      <th>...</th>\n",
       "      <th>rfc</th>\n",
       "      <th>mpc</th>\n",
       "      <th>halsteadVocabulary</th>\n",
       "      <th>halsteadLength</th>\n",
       "      <th>halsteadVolume</th>\n",
       "      <th>classDataShouldBePrivate</th>\n",
       "      <th>complexClass</th>\n",
       "      <th>functionalDecomposition</th>\n",
       "      <th>godClass</th>\n",
       "      <th>spaghettiCode</th>\n",
       "    </tr>\n",
       "  </thead>\n",
       "  <tbody>\n",
       "    <tr>\n",
       "      <th>count</th>\n",
       "      <td>9433.000000</td>\n",
       "      <td>9433.000000</td>\n",
       "      <td>9433.000000</td>\n",
       "      <td>9433.000000</td>\n",
       "      <td>9433.000000</td>\n",
       "      <td>9433.000000</td>\n",
       "      <td>9433.000000</td>\n",
       "      <td>9433.000000</td>\n",
       "      <td>9433.000000</td>\n",
       "      <td>9433.000000</td>\n",
       "      <td>...</td>\n",
       "      <td>9433.000000</td>\n",
       "      <td>9433.000000</td>\n",
       "      <td>9433.000000</td>\n",
       "      <td>9433.000000</td>\n",
       "      <td>9433.000000</td>\n",
       "      <td>9433.000000</td>\n",
       "      <td>9433.000000</td>\n",
       "      <td>9433.000000</td>\n",
       "      <td>9433.0</td>\n",
       "      <td>9433.000000</td>\n",
       "    </tr>\n",
       "    <tr>\n",
       "      <th>mean</th>\n",
       "      <td>9.994063</td>\n",
       "      <td>2.188911</td>\n",
       "      <td>0.116610</td>\n",
       "      <td>1.172268</td>\n",
       "      <td>0.319941</td>\n",
       "      <td>1.395420</td>\n",
       "      <td>0.035196</td>\n",
       "      <td>0.025973</td>\n",
       "      <td>0.666596</td>\n",
       "      <td>0.012509</td>\n",
       "      <td>...</td>\n",
       "      <td>55.509488</td>\n",
       "      <td>38.405279</td>\n",
       "      <td>1171.050249</td>\n",
       "      <td>249.670094</td>\n",
       "      <td>1872.575836</td>\n",
       "      <td>0.591540</td>\n",
       "      <td>13.141948</td>\n",
       "      <td>0.128909</td>\n",
       "      <td>0.0</td>\n",
       "      <td>47.282731</td>\n",
       "    </tr>\n",
       "    <tr>\n",
       "      <th>std</th>\n",
       "      <td>10.313695</td>\n",
       "      <td>0.963683</td>\n",
       "      <td>0.201153</td>\n",
       "      <td>2.495268</td>\n",
       "      <td>1.505659</td>\n",
       "      <td>2.407163</td>\n",
       "      <td>0.248898</td>\n",
       "      <td>0.206098</td>\n",
       "      <td>1.725441</td>\n",
       "      <td>0.130457</td>\n",
       "      <td>...</td>\n",
       "      <td>91.819130</td>\n",
       "      <td>70.011164</td>\n",
       "      <td>2037.511966</td>\n",
       "      <td>317.595515</td>\n",
       "      <td>2909.384044</td>\n",
       "      <td>4.015729</td>\n",
       "      <td>79.854836</td>\n",
       "      <td>0.460165</td>\n",
       "      <td>0.0</td>\n",
       "      <td>267.420370</td>\n",
       "    </tr>\n",
       "    <tr>\n",
       "      <th>min</th>\n",
       "      <td>1.000000</td>\n",
       "      <td>1.000000</td>\n",
       "      <td>0.000000</td>\n",
       "      <td>0.000000</td>\n",
       "      <td>0.000000</td>\n",
       "      <td>0.000000</td>\n",
       "      <td>0.000000</td>\n",
       "      <td>0.000000</td>\n",
       "      <td>0.000000</td>\n",
       "      <td>0.000000</td>\n",
       "      <td>...</td>\n",
       "      <td>0.000000</td>\n",
       "      <td>0.000000</td>\n",
       "      <td>7.000000</td>\n",
       "      <td>7.000000</td>\n",
       "      <td>13.621371</td>\n",
       "      <td>0.000000</td>\n",
       "      <td>0.000000</td>\n",
       "      <td>0.000000</td>\n",
       "      <td>0.0</td>\n",
       "      <td>0.000000</td>\n",
       "    </tr>\n",
       "    <tr>\n",
       "      <th>25%</th>\n",
       "      <td>5.000000</td>\n",
       "      <td>2.000000</td>\n",
       "      <td>0.000000</td>\n",
       "      <td>0.000000</td>\n",
       "      <td>0.000000</td>\n",
       "      <td>0.000000</td>\n",
       "      <td>0.000000</td>\n",
       "      <td>0.000000</td>\n",
       "      <td>0.000000</td>\n",
       "      <td>0.000000</td>\n",
       "      <td>...</td>\n",
       "      <td>9.000000</td>\n",
       "      <td>2.000000</td>\n",
       "      <td>235.000000</td>\n",
       "      <td>81.000000</td>\n",
       "      <td>455.498571</td>\n",
       "      <td>0.000000</td>\n",
       "      <td>0.000000</td>\n",
       "      <td>0.000000</td>\n",
       "      <td>0.0</td>\n",
       "      <td>0.000000</td>\n",
       "    </tr>\n",
       "    <tr>\n",
       "      <th>50%</th>\n",
       "      <td>7.000000</td>\n",
       "      <td>2.000000</td>\n",
       "      <td>0.000000</td>\n",
       "      <td>0.000000</td>\n",
       "      <td>0.000000</td>\n",
       "      <td>1.000000</td>\n",
       "      <td>0.000000</td>\n",
       "      <td>0.000000</td>\n",
       "      <td>0.000000</td>\n",
       "      <td>0.000000</td>\n",
       "      <td>...</td>\n",
       "      <td>26.000000</td>\n",
       "      <td>16.000000</td>\n",
       "      <td>518.000000</td>\n",
       "      <td>146.000000</td>\n",
       "      <td>903.879896</td>\n",
       "      <td>0.000000</td>\n",
       "      <td>0.000000</td>\n",
       "      <td>0.000000</td>\n",
       "      <td>0.0</td>\n",
       "      <td>0.000000</td>\n",
       "    </tr>\n",
       "    <tr>\n",
       "      <th>75%</th>\n",
       "      <td>12.000000</td>\n",
       "      <td>3.000000</td>\n",
       "      <td>0.181818</td>\n",
       "      <td>1.000000</td>\n",
       "      <td>0.000000</td>\n",
       "      <td>2.000000</td>\n",
       "      <td>0.000000</td>\n",
       "      <td>0.000000</td>\n",
       "      <td>1.000000</td>\n",
       "      <td>0.000000</td>\n",
       "      <td>...</td>\n",
       "      <td>62.000000</td>\n",
       "      <td>43.000000</td>\n",
       "      <td>1285.000000</td>\n",
       "      <td>283.000000</td>\n",
       "      <td>2042.744045</td>\n",
       "      <td>0.000000</td>\n",
       "      <td>0.000000</td>\n",
       "      <td>0.000000</td>\n",
       "      <td>0.0</td>\n",
       "      <td>0.000000</td>\n",
       "    </tr>\n",
       "    <tr>\n",
       "      <th>max</th>\n",
       "      <td>194.000000</td>\n",
       "      <td>9.000000</td>\n",
       "      <td>1.788732</td>\n",
       "      <td>47.000000</td>\n",
       "      <td>24.000000</td>\n",
       "      <td>42.000000</td>\n",
       "      <td>6.000000</td>\n",
       "      <td>5.000000</td>\n",
       "      <td>42.000000</td>\n",
       "      <td>5.000000</td>\n",
       "      <td>...</td>\n",
       "      <td>614.000000</td>\n",
       "      <td>514.000000</td>\n",
       "      <td>22282.000000</td>\n",
       "      <td>2098.000000</td>\n",
       "      <td>19973.635455</td>\n",
       "      <td>30.000000</td>\n",
       "      <td>583.000000</td>\n",
       "      <td>2.000000</td>\n",
       "      <td>0.0</td>\n",
       "      <td>2029.000000</td>\n",
       "    </tr>\n",
       "  </tbody>\n",
       "</table>\n",
       "<p>8 rows × 26 columns</p>\n",
       "</div>"
      ],
      "text/plain": [
       "              tloc      tmcCabe  assertionDensity  assertionRoulette  \\\n",
       "count  9433.000000  9433.000000       9433.000000        9433.000000   \n",
       "mean      9.994063     2.188911          0.116610           1.172268   \n",
       "std      10.313695     0.963683          0.201153           2.495268   \n",
       "min       1.000000     1.000000          0.000000           0.000000   \n",
       "25%       5.000000     2.000000          0.000000           0.000000   \n",
       "50%       7.000000     2.000000          0.000000           0.000000   \n",
       "75%      12.000000     3.000000          0.181818           1.000000   \n",
       "max     194.000000     9.000000          1.788732          47.000000   \n",
       "\n",
       "       mysteryGuest    eagerTest  sensitiveEquality  resourceOptimism  \\\n",
       "count   9433.000000  9433.000000        9433.000000       9433.000000   \n",
       "mean       0.319941     1.395420           0.035196          0.025973   \n",
       "std        1.505659     2.407163           0.248898          0.206098   \n",
       "min        0.000000     0.000000           0.000000          0.000000   \n",
       "25%        0.000000     0.000000           0.000000          0.000000   \n",
       "50%        0.000000     1.000000           0.000000          0.000000   \n",
       "75%        0.000000     2.000000           0.000000          0.000000   \n",
       "max       24.000000    42.000000           6.000000          5.000000   \n",
       "\n",
       "       conditionalTestLogic  fireAndForget  ...          rfc          mpc  \\\n",
       "count           9433.000000    9433.000000  ...  9433.000000  9433.000000   \n",
       "mean               0.666596       0.012509  ...    55.509488    38.405279   \n",
       "std                1.725441       0.130457  ...    91.819130    70.011164   \n",
       "min                0.000000       0.000000  ...     0.000000     0.000000   \n",
       "25%                0.000000       0.000000  ...     9.000000     2.000000   \n",
       "50%                0.000000       0.000000  ...    26.000000    16.000000   \n",
       "75%                1.000000       0.000000  ...    62.000000    43.000000   \n",
       "max               42.000000       5.000000  ...   614.000000   514.000000   \n",
       "\n",
       "       halsteadVocabulary  halsteadLength  halsteadVolume  \\\n",
       "count         9433.000000     9433.000000     9433.000000   \n",
       "mean          1171.050249      249.670094     1872.575836   \n",
       "std           2037.511966      317.595515     2909.384044   \n",
       "min              7.000000        7.000000       13.621371   \n",
       "25%            235.000000       81.000000      455.498571   \n",
       "50%            518.000000      146.000000      903.879896   \n",
       "75%           1285.000000      283.000000     2042.744045   \n",
       "max          22282.000000     2098.000000    19973.635455   \n",
       "\n",
       "       classDataShouldBePrivate  complexClass  functionalDecomposition  \\\n",
       "count               9433.000000   9433.000000              9433.000000   \n",
       "mean                   0.591540     13.141948                 0.128909   \n",
       "std                    4.015729     79.854836                 0.460165   \n",
       "min                    0.000000      0.000000                 0.000000   \n",
       "25%                    0.000000      0.000000                 0.000000   \n",
       "50%                    0.000000      0.000000                 0.000000   \n",
       "75%                    0.000000      0.000000                 0.000000   \n",
       "max                   30.000000    583.000000                 2.000000   \n",
       "\n",
       "       godClass  spaghettiCode  \n",
       "count    9433.0    9433.000000  \n",
       "mean        0.0      47.282731  \n",
       "std         0.0     267.420370  \n",
       "min         0.0       0.000000  \n",
       "25%         0.0       0.000000  \n",
       "50%         0.0       0.000000  \n",
       "75%         0.0       0.000000  \n",
       "max         0.0    2029.000000  \n",
       "\n",
       "[8 rows x 26 columns]"
      ]
     },
     "execution_count": 10,
     "metadata": {},
     "output_type": "execute_result"
    }
   ],
   "source": [
    "from sklearn.preprocessing import Normalizer\n",
    "#2 Provo la normalizzazione min-max\n",
    "train_set_copy=train_set.copy()\n",
    "train_set_copy = train_set_copy.drop(get_object_colum(train_set_copy), axis=1)\n",
    "X_train_set = train_set_copy.drop(['isFlaky'], axis=1)\n",
    "y_train_set = train_set_copy['isFlaky']\n",
    "columns=X_train_set.columns\n",
    "X_train_set = X_train_set.to_numpy()\n",
    "y_train_set = y_train_set.to_numpy()\n",
    "print(\"Train set non normalizzato\")\n",
    "dataset_scalato = pandas.DataFrame(X_train_set,columns=columns)\n",
    "dataset_scalato.describe()\n"
   ]
  },
  {
   "cell_type": "code",
   "execution_count": 11,
   "id": "bdde7aad-f354-42db-a749-9c70528a45c7",
   "metadata": {
    "pycharm": {
     "name": "#%%\n"
    }
   },
   "outputs": [
    {
     "name": "stdout",
     "output_type": "stream",
     "text": [
      "Train set normalizzato\n"
     ]
    },
    {
     "data": {
      "text/html": [
       "<div>\n",
       "<style scoped>\n",
       "    .dataframe tbody tr th:only-of-type {\n",
       "        vertical-align: middle;\n",
       "    }\n",
       "\n",
       "    .dataframe tbody tr th {\n",
       "        vertical-align: top;\n",
       "    }\n",
       "\n",
       "    .dataframe thead th {\n",
       "        text-align: right;\n",
       "    }\n",
       "</style>\n",
       "<table border=\"1\" class=\"dataframe\">\n",
       "  <thead>\n",
       "    <tr style=\"text-align: right;\">\n",
       "      <th></th>\n",
       "      <th>tloc</th>\n",
       "      <th>tmcCabe</th>\n",
       "      <th>assertionDensity</th>\n",
       "      <th>assertionRoulette</th>\n",
       "      <th>mysteryGuest</th>\n",
       "      <th>eagerTest</th>\n",
       "      <th>sensitiveEquality</th>\n",
       "      <th>resourceOptimism</th>\n",
       "      <th>conditionalTestLogic</th>\n",
       "      <th>fireAndForget</th>\n",
       "      <th>...</th>\n",
       "      <th>rfc</th>\n",
       "      <th>mpc</th>\n",
       "      <th>halsteadVocabulary</th>\n",
       "      <th>halsteadLength</th>\n",
       "      <th>halsteadVolume</th>\n",
       "      <th>classDataShouldBePrivate</th>\n",
       "      <th>complexClass</th>\n",
       "      <th>functionalDecomposition</th>\n",
       "      <th>godClass</th>\n",
       "      <th>spaghettiCode</th>\n",
       "    </tr>\n",
       "  </thead>\n",
       "  <tbody>\n",
       "    <tr>\n",
       "      <th>count</th>\n",
       "      <td>9433.000000</td>\n",
       "      <td>9433.000000</td>\n",
       "      <td>9433.000000</td>\n",
       "      <td>9433.000000</td>\n",
       "      <td>9433.000000</td>\n",
       "      <td>9433.000000</td>\n",
       "      <td>9433.000000</td>\n",
       "      <td>9433.000000</td>\n",
       "      <td>9433.000000</td>\n",
       "      <td>9433.000000</td>\n",
       "      <td>...</td>\n",
       "      <td>9433.000000</td>\n",
       "      <td>9433.000000</td>\n",
       "      <td>9433.000000</td>\n",
       "      <td>9433.000000</td>\n",
       "      <td>9433.000000</td>\n",
       "      <td>9433.000000</td>\n",
       "      <td>9433.000000</td>\n",
       "      <td>9433.000000</td>\n",
       "      <td>9433.0</td>\n",
       "      <td>9433.000000</td>\n",
       "    </tr>\n",
       "    <tr>\n",
       "      <th>mean</th>\n",
       "      <td>0.020172</td>\n",
       "      <td>0.004590</td>\n",
       "      <td>0.000242</td>\n",
       "      <td>0.002356</td>\n",
       "      <td>0.000363</td>\n",
       "      <td>0.001644</td>\n",
       "      <td>0.000049</td>\n",
       "      <td>0.000037</td>\n",
       "      <td>0.001115</td>\n",
       "      <td>0.000027</td>\n",
       "      <td>...</td>\n",
       "      <td>0.031619</td>\n",
       "      <td>0.018700</td>\n",
       "      <td>0.564978</td>\n",
       "      <td>0.166627</td>\n",
       "      <td>0.985714</td>\n",
       "      <td>0.000078</td>\n",
       "      <td>0.000939</td>\n",
       "      <td>0.000583</td>\n",
       "      <td>0.0</td>\n",
       "      <td>0.003142</td>\n",
       "    </tr>\n",
       "    <tr>\n",
       "      <th>std</th>\n",
       "      <td>0.048716</td>\n",
       "      <td>0.008484</td>\n",
       "      <td>0.000914</td>\n",
       "      <td>0.009161</td>\n",
       "      <td>0.002448</td>\n",
       "      <td>0.003432</td>\n",
       "      <td>0.000484</td>\n",
       "      <td>0.000421</td>\n",
       "      <td>0.004686</td>\n",
       "      <td>0.000477</td>\n",
       "      <td>...</td>\n",
       "      <td>0.020824</td>\n",
       "      <td>0.018981</td>\n",
       "      <td>0.158075</td>\n",
       "      <td>0.044397</td>\n",
       "      <td>0.074221</td>\n",
       "      <td>0.000706</td>\n",
       "      <td>0.005647</td>\n",
       "      <td>0.002739</td>\n",
       "      <td>0.0</td>\n",
       "      <td>0.016502</td>\n",
       "    </tr>\n",
       "    <tr>\n",
       "      <th>min</th>\n",
       "      <td>0.000096</td>\n",
       "      <td>0.000032</td>\n",
       "      <td>0.000000</td>\n",
       "      <td>0.000000</td>\n",
       "      <td>0.000000</td>\n",
       "      <td>0.000000</td>\n",
       "      <td>0.000000</td>\n",
       "      <td>0.000000</td>\n",
       "      <td>0.000000</td>\n",
       "      <td>0.000000</td>\n",
       "      <td>...</td>\n",
       "      <td>0.000000</td>\n",
       "      <td>0.000000</td>\n",
       "      <td>0.106061</td>\n",
       "      <td>0.018141</td>\n",
       "      <td>0.129405</td>\n",
       "      <td>0.000000</td>\n",
       "      <td>0.000000</td>\n",
       "      <td>0.000000</td>\n",
       "      <td>0.0</td>\n",
       "      <td>0.000000</td>\n",
       "    </tr>\n",
       "    <tr>\n",
       "      <th>25%</th>\n",
       "      <td>0.003372</td>\n",
       "      <td>0.000945</td>\n",
       "      <td>0.000000</td>\n",
       "      <td>0.000000</td>\n",
       "      <td>0.000000</td>\n",
       "      <td>0.000000</td>\n",
       "      <td>0.000000</td>\n",
       "      <td>0.000000</td>\n",
       "      <td>0.000000</td>\n",
       "      <td>0.000000</td>\n",
       "      <td>...</td>\n",
       "      <td>0.017168</td>\n",
       "      <td>0.002900</td>\n",
       "      <td>0.446968</td>\n",
       "      <td>0.139084</td>\n",
       "      <td>1.000000</td>\n",
       "      <td>0.000000</td>\n",
       "      <td>0.000000</td>\n",
       "      <td>0.000000</td>\n",
       "      <td>0.0</td>\n",
       "      <td>0.000000</td>\n",
       "    </tr>\n",
       "    <tr>\n",
       "      <th>50%</th>\n",
       "      <td>0.008088</td>\n",
       "      <td>0.002108</td>\n",
       "      <td>0.000000</td>\n",
       "      <td>0.000000</td>\n",
       "      <td>0.000000</td>\n",
       "      <td>0.000542</td>\n",
       "      <td>0.000000</td>\n",
       "      <td>0.000000</td>\n",
       "      <td>0.000000</td>\n",
       "      <td>0.000000</td>\n",
       "      <td>...</td>\n",
       "      <td>0.027976</td>\n",
       "      <td>0.015307</td>\n",
       "      <td>0.538782</td>\n",
       "      <td>0.158481</td>\n",
       "      <td>1.000000</td>\n",
       "      <td>0.000000</td>\n",
       "      <td>0.000000</td>\n",
       "      <td>0.000000</td>\n",
       "      <td>0.0</td>\n",
       "      <td>0.000000</td>\n",
       "    </tr>\n",
       "    <tr>\n",
       "      <th>75%</th>\n",
       "      <td>0.017817</td>\n",
       "      <td>0.004348</td>\n",
       "      <td>0.000154</td>\n",
       "      <td>0.001608</td>\n",
       "      <td>0.000000</td>\n",
       "      <td>0.001841</td>\n",
       "      <td>0.000000</td>\n",
       "      <td>0.000000</td>\n",
       "      <td>0.000459</td>\n",
       "      <td>0.000000</td>\n",
       "      <td>...</td>\n",
       "      <td>0.041231</td>\n",
       "      <td>0.026109</td>\n",
       "      <td>0.660893</td>\n",
       "      <td>0.181912</td>\n",
       "      <td>1.000000</td>\n",
       "      <td>0.000000</td>\n",
       "      <td>0.000000</td>\n",
       "      <td>0.000000</td>\n",
       "      <td>0.0</td>\n",
       "      <td>0.000000</td>\n",
       "    </tr>\n",
       "    <tr>\n",
       "      <th>max</th>\n",
       "      <td>1.000000</td>\n",
       "      <td>0.136364</td>\n",
       "      <td>0.032489</td>\n",
       "      <td>0.212400</td>\n",
       "      <td>0.074037</td>\n",
       "      <td>0.061728</td>\n",
       "      <td>0.018509</td>\n",
       "      <td>0.013951</td>\n",
       "      <td>0.112970</td>\n",
       "      <td>0.019933</td>\n",
       "      <td>...</td>\n",
       "      <td>0.143411</td>\n",
       "      <td>0.122454</td>\n",
       "      <td>1.000000</td>\n",
       "      <td>0.389871</td>\n",
       "      <td>1.000000</td>\n",
       "      <td>0.011261</td>\n",
       "      <td>0.045068</td>\n",
       "      <td>0.039866</td>\n",
       "      <td>0.0</td>\n",
       "      <td>0.117409</td>\n",
       "    </tr>\n",
       "  </tbody>\n",
       "</table>\n",
       "<p>8 rows × 26 columns</p>\n",
       "</div>"
      ],
      "text/plain": [
       "              tloc      tmcCabe  assertionDensity  assertionRoulette  \\\n",
       "count  9433.000000  9433.000000       9433.000000        9433.000000   \n",
       "mean      0.020172     0.004590          0.000242           0.002356   \n",
       "std       0.048716     0.008484          0.000914           0.009161   \n",
       "min       0.000096     0.000032          0.000000           0.000000   \n",
       "25%       0.003372     0.000945          0.000000           0.000000   \n",
       "50%       0.008088     0.002108          0.000000           0.000000   \n",
       "75%       0.017817     0.004348          0.000154           0.001608   \n",
       "max       1.000000     0.136364          0.032489           0.212400   \n",
       "\n",
       "       mysteryGuest    eagerTest  sensitiveEquality  resourceOptimism  \\\n",
       "count   9433.000000  9433.000000        9433.000000       9433.000000   \n",
       "mean       0.000363     0.001644           0.000049          0.000037   \n",
       "std        0.002448     0.003432           0.000484          0.000421   \n",
       "min        0.000000     0.000000           0.000000          0.000000   \n",
       "25%        0.000000     0.000000           0.000000          0.000000   \n",
       "50%        0.000000     0.000542           0.000000          0.000000   \n",
       "75%        0.000000     0.001841           0.000000          0.000000   \n",
       "max        0.074037     0.061728           0.018509          0.013951   \n",
       "\n",
       "       conditionalTestLogic  fireAndForget  ...          rfc          mpc  \\\n",
       "count           9433.000000    9433.000000  ...  9433.000000  9433.000000   \n",
       "mean               0.001115       0.000027  ...     0.031619     0.018700   \n",
       "std                0.004686       0.000477  ...     0.020824     0.018981   \n",
       "min                0.000000       0.000000  ...     0.000000     0.000000   \n",
       "25%                0.000000       0.000000  ...     0.017168     0.002900   \n",
       "50%                0.000000       0.000000  ...     0.027976     0.015307   \n",
       "75%                0.000459       0.000000  ...     0.041231     0.026109   \n",
       "max                0.112970       0.019933  ...     0.143411     0.122454   \n",
       "\n",
       "       halsteadVocabulary  halsteadLength  halsteadVolume  \\\n",
       "count         9433.000000     9433.000000     9433.000000   \n",
       "mean             0.564978        0.166627        0.985714   \n",
       "std              0.158075        0.044397        0.074221   \n",
       "min              0.106061        0.018141        0.129405   \n",
       "25%              0.446968        0.139084        1.000000   \n",
       "50%              0.538782        0.158481        1.000000   \n",
       "75%              0.660893        0.181912        1.000000   \n",
       "max              1.000000        0.389871        1.000000   \n",
       "\n",
       "       classDataShouldBePrivate  complexClass  functionalDecomposition  \\\n",
       "count               9433.000000   9433.000000              9433.000000   \n",
       "mean                   0.000078      0.000939                 0.000583   \n",
       "std                    0.000706      0.005647                 0.002739   \n",
       "min                    0.000000      0.000000                 0.000000   \n",
       "25%                    0.000000      0.000000                 0.000000   \n",
       "50%                    0.000000      0.000000                 0.000000   \n",
       "75%                    0.000000      0.000000                 0.000000   \n",
       "max                    0.011261      0.045068                 0.039866   \n",
       "\n",
       "       godClass  spaghettiCode  \n",
       "count    9433.0    9433.000000  \n",
       "mean        0.0       0.003142  \n",
       "std         0.0       0.016502  \n",
       "min         0.0       0.000000  \n",
       "25%         0.0       0.000000  \n",
       "50%         0.0       0.000000  \n",
       "75%         0.0       0.000000  \n",
       "max         0.0       0.117409  \n",
       "\n",
       "[8 rows x 26 columns]"
      ]
     },
     "execution_count": 11,
     "metadata": {},
     "output_type": "execute_result"
    }
   ],
   "source": [
    "#Inserisco l'operazione di feature scale\n",
    "norm=Normalizer(norm='max')\n",
    "norm.fit(X=X_train_set)\n",
    "X_train_set=norm.transform(X=X_train_set)\n",
    "print(\"Train set normalizzato\")\n",
    "dataset_scalato = pandas.DataFrame(X_train_set,columns=columns)\n",
    "dataset_scalato.describe()\n"
   ]
  },
  {
   "cell_type": "code",
   "execution_count": 12,
   "id": "84a79c39-8184-468d-bd16-8b479cc69d9b",
   "metadata": {
    "pycharm": {
     "name": "#%%\n"
    }
   },
   "outputs": [
    {
     "name": "stdout",
     "output_type": "stream",
     "text": [
      "Prestazioni train set\n"
     ]
    },
    {
     "data": {
      "image/png": "[encoded data removed]",
      "text/plain": [
       "<Figure size 180x180 with 1 Axes>"
      ]
     },
     "metadata": {
      "needs_background": "light"
     },
     "output_type": "display_data"
    },
    {
     "name": "stdout",
     "output_type": "stream",
     "text": [
      "Accuracy: 0.992\n",
      "Precision: 0.965\n",
      "Recall: 0.878\n",
      "F1: 0.919\n",
      "Prestazioni con normalizzazione:\n"
     ]
    },
    {
     "data": {
      "image/png": "[encoded data removed]",
      "text/plain": [
       "<Figure size 180x180 with 1 Axes>"
      ]
     },
     "metadata": {
      "needs_background": "light"
     },
     "output_type": "display_data"
    },
    {
     "name": "stdout",
     "output_type": "stream",
     "text": [
      "Accuracy: 0.972\n",
      "Precision: 0.811\n",
      "Recall: 0.616\n",
      "F1: 0.700\n"
     ]
    }
   ],
   "source": [
    "clf = RandomForestClassifier(criterion='entropy', n_estimators=150)\n",
    "clf.fit(X=X_train_set, y=y_train_set)\n",
    "print(\"Prestazioni train set\")\n",
    "y_pred=clf.predict(X=X_train_set)\n",
    "print_performance_model(y_true=y_train_set,y_pred=y_pred)\n",
    "#Valuto le prestazioni del modello\n",
    "test_set_copy = test_set.copy()\n",
    "test_set_copy = test_set_copy.drop(get_object_colum(test_set_copy), axis=1)\n",
    "X_test_set = test_set_copy.drop(['isFlaky'], axis=1).to_numpy()\n",
    "y_test_set = test_set_copy['isFlaky'].to_numpy()\n",
    "X_test_set=norm.transform(X=X_test_set)\n",
    "y_pred = clf.predict(X=X_test_set)\n",
    "print(\"Prestazioni con normalizzazione:\")\n",
    "print_performance_model(y_true=y_test_set, y_pred=y_pred)"
   ]
  },
  {
   "cell_type": "markdown",
   "id": "aa054bb9-7a1b-436a-9292-430cd07656a5",
   "metadata": {
    "pycharm": {
     "name": "#%% md\n"
    }
   },
   "source": [
    "### Pipeline con fase di feature engineering(Feature Scale:Normalizzazione MAX, Feature Construct: PCA)\n"
   ]
  },
  {
   "cell_type": "code",
   "execution_count": 13,
   "id": "cc6f0a37-3c02-4103-8196-a542546e5981",
   "metadata": {
    "pycharm": {
     "name": "#%%\n"
    }
   },
   "outputs": [
    {
     "data": {
      "image/png": "[encoded data removed]",
      "text/plain": [
       "<Figure size 432x288 with 1 Axes>"
      ]
     },
     "metadata": {
      "needs_background": "light"
     },
     "output_type": "display_data"
    }
   ],
   "source": [
    "from sklearn.decomposition import PCA\n",
    "def get_varianza_comulativa(dataset):\n",
    "    # Costruisco la matrice di covarianza\n",
    "    cov_mat = np.cov(dataset.T)\n",
    "    # Decompongo la matrice di covarianza in un vettore composto dagli autovalori e i corrispondenti autovalori conservati come colonne in una matrice 25x25\n",
    "    eigen_vals, eigen_vecs = np.linalg.eig(cov_mat)\n",
    "    tot = sum(eigen_vals)\n",
    "    var_exp = [(i / tot) for i in sorted(eigen_vals, reverse=True)]\n",
    "    cum_var_exp = np.cumsum(var_exp)\n",
    "    plt.bar(range(1, 27), var_exp, alpha=0.5, align='center', label='Varianza Individuale')\n",
    "    plt.step(range(1, 27), cum_var_exp, where='mid', label='Varianza Comulativa')\n",
    "    plt.ylabel('Variance Ratio')\n",
    "    plt.xlabel('Numero Componenti')\n",
    "    plt.legend(loc='best')\n",
    "    plt.show()\n",
    "\n",
    "\n",
    "train_set_copy = train_set.copy()\n",
    "train_set_copy = train_set_copy.drop(get_object_colum(train_set_copy), axis=1)\n",
    "X_train_set = train_set_copy.drop(['isFlaky'], axis=1)\n",
    "y_train_set = train_set_copy['isFlaky']\n",
    "X_train_set = X_train_set.to_numpy()\n",
    "y_train_set = y_train_set.to_numpy()\n",
    "norm = Normalizer(norm='max')\n",
    "norm.fit(X=X_train_set)\n",
    "X_train_set = norm.transform(X=X_train_set)\n",
    "get_varianza_comulativa(X_train_set)\n",
    "\n"
   ]
  },
  {
   "cell_type": "code",
   "execution_count": 14,
   "id": "3b6a8998-d71d-4b85-8bdd-23f8af8dec77",
   "metadata": {
    "pycharm": {
     "name": "#%%\n"
    }
   },
   "outputs": [
    {
     "name": "stdout",
     "output_type": "stream",
     "text": [
      "Components =  10 ;\n",
      "Total explained variance =  0.9988\n",
      "Prestazioni train set\n"
     ]
    },
    {
     "data": {
      "image/png": "[encoded data removed]",
      "text/plain": [
       "<Figure size 180x180 with 1 Axes>"
      ]
     },
     "metadata": {
      "needs_background": "light"
     },
     "output_type": "display_data"
    },
    {
     "name": "stdout",
     "output_type": "stream",
     "text": [
      "Accuracy: 0.992\n",
      "Precision: 0.963\n",
      "Recall: 0.880\n",
      "F1: 0.919\n",
      "Prestazioni con pca a 10 componenti:\n"
     ]
    },
    {
     "data": {
      "image/png": "[encoded data removed]",
      "text/plain": [
       "<Figure size 180x180 with 1 Axes>"
      ]
     },
     "metadata": {
      "needs_background": "light"
     },
     "output_type": "display_data"
    },
    {
     "name": "stdout",
     "output_type": "stream",
     "text": [
      "Accuracy: 0.965\n",
      "Precision: 0.750\n",
      "Recall: 0.504\n",
      "F1: 0.603\n"
     ]
    }
   ],
   "source": [
    "pca = PCA(n_components=10)\n",
    "pca.fit(X_train_set)\n",
    "X_train_set=pca.transform(X_train_set)\n",
    "print(\"Components = \", pca.n_components_, \";\\nTotal explained variance = \",round(pca.explained_variance_ratio_.sum(), 5))\n",
    "clf = RandomForestClassifier(criterion='entropy', n_estimators=150)\n",
    "clf.fit(X=X_train_set, y=y_train_set)\n",
    "print(\"Prestazioni train set\")\n",
    "y_pred=clf.predict(X=X_train_set)\n",
    "print_performance_model(y_true=y_train_set,y_pred=y_pred)\n",
    "# Valuto le prestazioni del modello\n",
    "test_set_copy = test_set.copy()\n",
    "test_set_copy = test_set_copy.drop(get_object_colum(test_set_copy), axis=1)\n",
    "X_test_set = test_set_copy.drop(['isFlaky'], axis=1).to_numpy()\n",
    "y_test_set = test_set_copy['isFlaky'].to_numpy()\n",
    "X_test_set = norm.transform(X=X_test_set)\n",
    "X_test_set=pca.transform(X_test_set)\n",
    "y_pred = clf.predict(X=X_test_set)\n",
    "print(\"Prestazioni con pca a 10 componenti:\")\n",
    "print_performance_model(y_true=y_test_set, y_pred=y_pred)"
   ]
  },
  {
   "cell_type": "markdown",
   "id": "92748f75-9d3a-4721-a04e-d9a4ea4a2276",
   "metadata": {
    "pycharm": {
     "name": "#%% md\n"
    }
   },
   "source": [
    "### Pipeline con fase di feature engineering(Feature Scale:Normalizzazione MAX, Feature Select: Random Forest)"
   ]
  },
  {
   "cell_type": "code",
   "execution_count": 12,
   "outputs": [],
   "source": [
    "import numpy as np\n",
    "import pandas\n",
    "import os\n",
    "\n",
    "from matplotlib import pyplot as plt\n",
    "from sklearn.ensemble import RandomForestClassifier\n",
    "from sklearn.metrics import accuracy_score, precision_score, recall_score, f1_score, r2_score\n",
    "from sklearn.model_selection import StratifiedShuffleSplit\n",
    "from imblearn.over_sampling import SMOTE\n",
    "from sklearn.preprocessing import Normalizer\n",
    "from sklearn import tree\n",
    "\n",
    "from model_test import get_object_colum"
   ],
   "metadata": {
    "collapsed": false,
    "pycharm": {
     "name": "#%%\n"
    }
   }
  },
  {
   "cell_type": "code",
   "execution_count": 13,
   "id": "17277cab-d8db-41b4-9865-b05da6883ec8",
   "metadata": {
    "pycharm": {
     "name": "#%%\n"
    }
   },
   "outputs": [
    {
     "data": {
      "text/plain": "<Figure size 432x288 with 1 Axes>",
      "image/png": "[encoded data removed]"
     },
     "metadata": {
      "needs_background": "light"
     },
     "output_type": "display_data"
    }
   ],
   "source": [
    "from boruta import BorutaPy\n",
    "train_set_copy=train_set.copy()\n",
    "train_set_copy = train_set_copy.drop(get_object_colum(train_set_copy), axis=1)\n",
    "X_train_set = train_set_copy.drop(['isFlaky'], axis=1)\n",
    "y_train_set = train_set_copy['isFlaky']\n",
    "columns=X_train_set.columns\n",
    "X_train_set = X_train_set.to_numpy()\n",
    "y_train_set = y_train_set.to_numpy()\n",
    "norm=Normalizer(norm='max')\n",
    "norm.fit(X=X_train_set)\n",
    "X_train_set=norm.transform(X=X_train_set)\n",
    "\n",
    "df=pandas.DataFrame(X_train_set,columns=columns)\n",
    "rf_fs=RandomForestClassifier(n_estimators=len(X_train_set),random_state=0,n_jobs=-1)\n",
    "rf_fs.fit(X=X_train_set,y=y_train_set)\n",
    "importance=rf_fs.feature_importances_\n",
    "indices=np.argsort(importance)[::-1]\n",
    "colum_remove=[]\n",
    "for f in range (X_train_set.shape[1]):\n",
    "    if importance[indices[f]] < 0.02:\n",
    "        colum_remove.append(columns[indices[f]])\n",
    "        \n",
    "plt.title('Feature Importances')\n",
    "plt.bar(range(X_train_set.shape[1]),importance[indices],color = 'lightblue',align = 'center')\n",
    "plt.xticks(range(X_train_set.shape[1]),columns[indices], rotation = 90)\n",
    "plt.xlim([-1, X_train_set.shape[1]])\n",
    "plt.tight_layout()\n",
    "plt.show()\n",
    "df=df.drop(colum_remove,axis=1)\n",
    "X_train_set=df.to_numpy()\n",
    "\n",
    "\n",
    "\n",
    "\n"
   ]
  },
  {
   "cell_type": "code",
   "execution_count": 16,
   "outputs": [],
   "source": [
    "def print_performance_model(y_true,y_pred):\n",
    "    print(\"Accuracy: %.3f\" % accuracy_score(y_true=y_true, y_pred=y_pred))\n",
    "    print(\"Precision: %.3f\" % precision_score(y_true=y_true, y_pred=y_pred))\n",
    "    print(\"Recall: %.3f\" % recall_score(y_true=y_true, y_pred=y_pred))\n",
    "    print(\"F1: %.3f\" % f1_score(y_true=y_true, y_pred=y_pred))"
   ],
   "metadata": {
    "collapsed": false,
    "pycharm": {
     "name": "#%%\n"
    }
   }
  },
  {
   "cell_type": "code",
   "execution_count": 17,
   "id": "13967d98-3c19-491c-8458-f2255f4f61df",
   "metadata": {
    "pycharm": {
     "name": "#%%\n"
    }
   },
   "outputs": [
    {
     "name": "stdout",
     "output_type": "stream",
     "text": [
      "Prestazioni train set\n",
      "Accuracy: 0.992\n",
      "Precision: 0.959\n",
      "Recall: 0.884\n",
      "F1: 0.920\n",
      "Prestazioni con Feature Selection:\n",
      "Accuracy: 0.970\n",
      "Precision: 0.793\n",
      "Recall: 0.584\n",
      "F1: 0.673\n"
     ]
    }
   ],
   "source": [
    "clf = RandomForestClassifier(criterion='entropy', n_estimators=150)\n",
    "clf.fit(X=X_train_set, y=y_train_set)\n",
    "print(\"Prestazioni train set\")\n",
    "y_pred=clf.predict(X=X_train_set)\n",
    "print_performance_model(y_true=y_train_set,y_pred=y_pred)\n",
    "#Valuto le prestazioni del modello\n",
    "test_set_copy = test_set.copy()\n",
    "test_set_copy = test_set_copy.drop(get_object_colum(test_set_copy), axis=1)\n",
    "X_test_set = test_set_copy.drop(['isFlaky'], axis=1).to_numpy()\n",
    "y_test_set = test_set_copy['isFlaky'].to_numpy()\n",
    "X_test_set=norm.transform(X=X_test_set)\n",
    "df=pandas.DataFrame(X_test_set,columns=columns)\n",
    "df=df.drop(colum_remove,axis=1)\n",
    "X_test_set=df.to_numpy()\n",
    "y_pred = clf.predict(X=X_test_set)\n",
    "print(\"Prestazioni con Feature Selection:\")\n",
    "print_performance_model(y_true=y_test_set, y_pred=y_pred)"
   ]
  },
  {
   "cell_type": "code",
   "execution_count": 18,
   "id": "22c6a9a1-f074-4ff2-9472-8a36ddf3ff18",
   "metadata": {
    "pycharm": {
     "name": "#%%\n"
    }
   },
   "outputs": [
    {
     "data": {
      "text/plain": "<Figure size 432x288 with 1 Axes>",
      "image/png": "[encoded data removed]"
     },
     "metadata": {
      "needs_background": "light"
     },
     "output_type": "display_data"
    }
   ],
   "source": [
    "from imblearn.over_sampling import SMOTE\n",
    "train_set_copy = train_set.copy()\n",
    "train_set_copy = train_set_copy.drop(get_object_colum(train_set_copy), axis=1)\n",
    "X_train_set = train_set_copy.drop(['isFlaky'], axis=1)\n",
    "y_train_set = train_set_copy['isFlaky']\n",
    "columns=X_train_set.columns\n",
    "X_train_set = X_train_set.to_numpy()\n",
    "y_train_set = y_train_set.to_numpy()\n",
    "norm = Normalizer(norm='max')\n",
    "norm.fit(X=X_train_set)\n",
    "X_train_set = norm.transform(X=X_train_set)\n",
    "\n",
    "df=pandas.DataFrame(X_train_set,columns=columns)\n",
    "rf_fs=RandomForestClassifier(n_estimators=len(X_train_set),random_state=0,n_jobs=-1)\n",
    "rf_fs.fit(X=X_train_set,y=y_train_set)\n",
    "importance=rf_fs.feature_importances_\n",
    "indices=np.argsort(importance)[::-1]\n",
    "colum_remove=[]\n",
    "for f in range (X_train_set.shape[1]):\n",
    "    if importance[indices[f]] < 0.02:\n",
    "        colum_remove.append(columns[indices[f]])       \n",
    "df=df.drop(colum_remove,axis=1)\n",
    "X_train_set=df.to_numpy()\n",
    "\n",
    "\n",
    "ds = pandas.DataFrame(X_train_set)\n",
    "plt.title('Dataset non bilanciato')\n",
    "plt.xlabel('x')\n",
    "plt.ylabel('y')\n",
    "plt.scatter(ds.iloc[:, 0],ds.iloc[:, 1], marker='o', c=y_train_set,\n",
    "        s=25, edgecolor='k', cmap=plt.cm.coolwarm)\n",
    "plt.show()\n",
    "\n",
    "\n"
   ]
  },
  {
   "cell_type": "markdown",
   "source": [
    "### Pipeline con fase di feature engineering(Feature Scale:Normalizzazione MAX, Feature Select, Datala Balancing: SMOTE)"
   ],
   "metadata": {
    "collapsed": false,
    "pycharm": {
     "name": "#%% md\n"
    }
   }
  },
  {
   "cell_type": "code",
   "execution_count": 19,
   "id": "72494650-6878-4570-9f04-1e9ec29d3449",
   "metadata": {
    "pycharm": {
     "name": "#%%\n"
    }
   },
   "outputs": [
    {
     "data": {
      "text/plain": "<Figure size 432x288 with 1 Axes>",
      "image/png": "[encoded data removed]"
     },
     "metadata": {
      "needs_background": "light"
     },
     "output_type": "display_data"
    }
   ],
   "source": [
    "sm = SMOTE(sampling_strategy='auto', k_neighbors=3, random_state=42)\n",
    "X_train_set, y_train_set = sm.fit_resample(X_train_set, y_train_set)\n",
    "\n",
    "ds = pandas.DataFrame(X_train_set)\n",
    "plt.title('Dataset non bilanciato')\n",
    "plt.xlabel('x')\n",
    "plt.ylabel('y')\n",
    "plt.scatter(ds.iloc[:, 0], ds.iloc[:, 1], marker='o', c=y_train_set,s=25, edgecolor='k', cmap=plt.cm.coolwarm)\n",
    "plt.show()"
   ]
  },
  {
   "cell_type": "code",
   "execution_count": 19,
   "id": "87274750-7678-4e77-9068-26fb7eeaa660",
   "metadata": {
    "pycharm": {
     "name": "#%%\n"
    }
   },
   "outputs": [
    {
     "name": "stdout",
     "output_type": "stream",
     "text": [
      "Prestazioni train set\n"
     ]
    },
    {
     "data": {
      "image/png": "[encoded data removed]",
      "text/plain": [
       "<Figure size 180x180 with 1 Axes>"
      ]
     },
     "metadata": {
      "needs_background": "light"
     },
     "output_type": "display_data"
    },
    {
     "name": "stdout",
     "output_type": "stream",
     "text": [
      "Accuracy: 0.995\n",
      "Precision: 0.991\n",
      "Recall: 0.998\n",
      "F1: 0.995\n",
      "Prestazioni con smote:\n"
     ]
    },
    {
     "data": {
      "image/png": "[encoded data removed]",
      "text/plain": [
       "<Figure size 180x180 with 1 Axes>"
      ]
     },
     "metadata": {
      "needs_background": "light"
     },
     "output_type": "display_data"
    },
    {
     "name": "stdout",
     "output_type": "stream",
     "text": [
      "Accuracy: 0.962\n",
      "Precision: 0.618\n",
      "Recall: 0.712\n",
      "F1: 0.662\n"
     ]
    }
   ],
   "source": [
    "clf = RandomForestClassifier(criterion='entropy', n_estimators=150)\n",
    "clf.fit(X=X_train_set, y=y_train_set)\n",
    "print(\"Prestazioni train set\")\n",
    "y_pred=clf.predict(X=X_train_set)\n",
    "print_performance_model(y_true=y_train_set,y_pred=y_pred)\n",
    "# Valuto le prestazioni del modello\n",
    "test_set_copy = test_set.copy()\n",
    "test_set_copy = test_set_copy.drop(get_object_colum(test_set_copy), axis=1)\n",
    "X_test_set = test_set_copy.drop(['isFlaky'], axis=1).to_numpy()\n",
    "y_test_set = test_set_copy['isFlaky'].to_numpy()\n",
    "X_test_set = norm.transform(X=X_test_set)\n",
    "df=pandas.DataFrame(X_test_set,columns=columns)\n",
    "df=df.drop(colum_remove,axis=1)\n",
    "X_test_set=df.to_numpy()\n",
    "y_pred = clf.predict(X=X_test_set)\n",
    "print(\"Prestazioni con smote:\")\n",
    "print_performance_model(y_true=y_test_set, y_pred=y_pred)"
   ]
  },
  {
   "cell_type": "markdown",
   "id": "580649c0-d410-40bf-915d-9ca09c055b7e",
   "metadata": {
    "pycharm": {
     "name": "#%% md\n"
    }
   },
   "source": [
    "### Pipeline con fase di feature engineering+ ensemble(RF,SVM,KNN)"
   ]
  },
  {
   "cell_type": "code",
   "execution_count": 20,
   "id": "8c980351-963f-4147-9d01-265fb5d394d8",
   "metadata": {
    "pycharm": {
     "name": "#%%\n"
    }
   },
   "outputs": [
    {
     "name": "stdout",
     "output_type": "stream",
     "text": [
      "Prestazioni train set\n"
     ]
    },
    {
     "data": {
      "image/png": "[encoded data removed]",
      "text/plain": [
       "<Figure size 180x180 with 1 Axes>"
      ]
     },
     "metadata": {
      "needs_background": "light"
     },
     "output_type": "display_data"
    },
    {
     "name": "stdout",
     "output_type": "stream",
     "text": [
      "Accuracy: 0.942\n",
      "Precision: 0.999\n",
      "Recall: 0.885\n",
      "F1: 0.939\n",
      "Prestazioni con ensemble:\n"
     ]
    },
    {
     "data": {
      "image/png": "[encoded data removed]",
      "text/plain": [
       "<Figure size 180x180 with 1 Axes>"
      ]
     },
     "metadata": {
      "needs_background": "light"
     },
     "output_type": "display_data"
    },
    {
     "name": "stdout",
     "output_type": "stream",
     "text": [
      "Accuracy: 0.958\n",
      "Precision: 0.602\n",
      "Recall: 0.592\n",
      "F1: 0.597\n"
     ]
    }
   ],
   "source": [
    "from MajorityVoteClassifier import MajorityVoteClassifier\n",
    "from sklearn.svm import SVC\n",
    "from sklearn.neighbors import KNeighborsClassifier\n",
    "train_set_copy = train_set.copy()\n",
    "train_set_copy = train_set_copy.drop(get_object_colum(train_set_copy), axis=1)\n",
    "X_train_set = train_set_copy.drop(['isFlaky'], axis=1)\n",
    "y_train_set = train_set_copy['isFlaky']\n",
    "columns=X_train_set.columns\n",
    "X_train_set = X_train_set.to_numpy()\n",
    "y_train_set = y_train_set.to_numpy()\n",
    "norm = Normalizer(norm='max')\n",
    "norm.fit(X=X_train_set)\n",
    "X_train_set = norm.transform(X=X_train_set)\n",
    "df=pandas.DataFrame(X_train_set,columns=columns)\n",
    "rf_fs=RandomForestClassifier(n_estimators=len(X_train_set),random_state=0,n_jobs=-1)\n",
    "rf_fs.fit(X=X_train_set,y=y_train_set)\n",
    "importance=rf_fs.feature_importances_\n",
    "indices=np.argsort(importance)[::-1]\n",
    "colum_remove=[]\n",
    "for f in range (X_train_set.shape[1]):\n",
    "    if importance[indices[f]] < 0.02:\n",
    "        colum_remove.append(columns[indices[f]])       \n",
    "df=df.drop(colum_remove,axis=1)\n",
    "X_train_set=df.to_numpy()\n",
    "sm = SMOTE(sampling_strategy='auto', k_neighbors=3, random_state=42)\n",
    "\n",
    "\n",
    "X_train_set, y_train_set = sm.fit_resample(X_train_set, y_train_set)\n",
    "clf1 = SVC(C=100.0, kernel='rbf')\n",
    "clf2 = RandomForestClassifier(criterion='entropy', n_estimators=150)\n",
    "clf3 = KNeighborsClassifier(algorithm='brute', metric='euclidean', n_neighbors=2, weights='uniform')\n",
    "ensemble = MajorityVoteClassifier(classifiers=[clf1, clf2, clf3])\n",
    "ensemble.fit(X=X_train_set, y=y_train_set)\n",
    "print(\"Prestazioni train set\")\n",
    "y_pred=ensemble.predict(X=X_train_set)\n",
    "print_performance_model(y_true=y_train_set,y_pred=y_pred)\n",
    " # Valuto le prestazioni del modello\n",
    "test_set_copy = test_set.copy()\n",
    "test_set_copy = test_set_copy.drop(get_object_colum(test_set_copy), axis=1)\n",
    "X_test_set = test_set_copy.drop(['isFlaky'], axis=1).to_numpy()\n",
    "y_test_set = test_set_copy['isFlaky'].to_numpy()\n",
    "X_test_set = norm.transform(X=X_test_set)\n",
    "df=pandas.DataFrame(X_test_set,columns=columns)\n",
    "df=df.drop(colum_remove,axis=1)\n",
    "X_test_set=df.to_numpy()\n",
    "y_pred = ensemble.predict(X=X_test_set)\n",
    "print(\"Prestazioni con ensemble:\")\n",
    "print_performance_model(y_true=y_test_set, y_pred=y_pred)"
   ]
  },
  {
   "cell_type": "markdown",
   "id": "57ef48a8-7eb4-4954-b451-fe3f037fef6e",
   "metadata": {
    "pycharm": {
     "name": "#%% md\n"
    }
   },
   "source": [
    "### Pipeline con fase di feature engineering+ MLP"
   ]
  },
  {
   "cell_type": "code",
   "execution_count": 21,
   "id": "6099e3cc-5574-4571-bca3-9d2ecd7e459d",
   "metadata": {
    "pycharm": {
     "name": "#%%\n"
    }
   },
   "outputs": [
    {
     "name": "stdout",
     "output_type": "stream",
     "text": [
      "Prestazioni train set\n"
     ]
    },
    {
     "name": "stderr",
     "output_type": "stream",
     "text": [
      "C:\\Users\\angel\\AppData\\Local\\Packages\\PythonSoftwareFoundation.Python.3.10_qbz5n2kfra8p0\\LocalCache\\local-packages\\Python310\\site-packages\\sklearn\\neural_network\\_multilayer_perceptron.py:692: ConvergenceWarning: Stochastic Optimizer: Maximum iterations (100) reached and the optimization hasn't converged yet.\n",
      "  warnings.warn(\n"
     ]
    },
    {
     "data": {
      "image/png": "[encoded data removed]",
      "text/plain": [
       "<Figure size 180x180 with 1 Axes>"
      ]
     },
     "metadata": {
      "needs_background": "light"
     },
     "output_type": "display_data"
    },
    {
     "name": "stdout",
     "output_type": "stream",
     "text": [
      "Accuracy: 0.887\n",
      "Precision: 0.872\n",
      "Recall: 0.908\n",
      "F1: 0.889\n",
      "Prestazioni con MLP:\n"
     ]
    },
    {
     "data": {
      "image/png": "[encoded data removed]",
      "text/plain": [
       "<Figure size 180x180 with 1 Axes>"
      ]
     },
     "metadata": {
      "needs_background": "light"
     },
     "output_type": "display_data"
    },
    {
     "name": "stdout",
     "output_type": "stream",
     "text": [
      "Accuracy: 0.853\n",
      "Precision: 0.235\n",
      "Recall: 0.800\n",
      "F1: 0.363\n"
     ]
    }
   ],
   "source": [
    "from sklearn.neural_network import MLPClassifier\n",
    "train_set_copy=train_set.copy() #Lavoro sempre su una copia del train set\n",
    "#1. Rimuovo dal dataset le feature che sono object\n",
    "train_set_copy=train_set_copy.drop(get_object_colum(train_set_copy),axis=1)\n",
    "#2. Divido le etichette dai campioni converto tutto in un array numpy\n",
    "X_train_set=train_set_copy.drop(['isFlaky'],axis=1)\n",
    "y_train_set= train_set_copy['isFlaky']\n",
    "columns=X_train_set.columns #Salvo il nome delle colonne\n",
    "X_train_set = X_train_set.to_numpy()\n",
    "y_train_set = y_train_set.to_numpy()\n",
    "norm = Normalizer(norm='max')\n",
    "norm.fit(X=X_train_set)\n",
    "X_train_set = norm.transform(X=X_train_set)\n",
    "df = pandas.DataFrame(X_train_set, columns=columns)\n",
    "rf_fs = RandomForestClassifier(n_estimators=len(X_train_set), random_state=0, n_jobs=-1)\n",
    "rf_fs.fit(X=X_train_set, y=y_train_set)\n",
    "importance = rf_fs.feature_importances_\n",
    "indices = np.argsort(importance)[::-1]\n",
    "colum_remove = []\n",
    "for f in range(X_train_set.shape[1]):\n",
    "    if importance[indices[f]] < 0.02:\n",
    "        colum_remove.append(columns[indices[f]])\n",
    "df = df.drop(colum_remove, axis=1)\n",
    "X_train_set = df.to_numpy()\n",
    "sm = SMOTE(sampling_strategy='all', k_neighbors=3, random_state=42)\n",
    "X_train_set, y_train_set = sm.fit_resample(X_train_set, y_train_set)\n",
    "#3. Addesto il classificatore RandomForest sul train_set\n",
    "clf = MLPClassifier(max_iter=100,activation='relu',alpha=0.0001,hidden_layer_sizes=(50,100,50),learning_rate='constant',solver='adam')\n",
    "clf.fit(X=X_train_set, y=y_train_set)\n",
    "y_pred = clf.predict(X_train_set)\n",
    "print(\"Prestazioni train set\")\n",
    "print_performance_model(y_true=y_train_set, y_pred=y_pred)\n",
    "# 4. Applico le stesse operazioni al test set e verifico le prestazioni del modello\n",
    "test_set_copy = test_set.copy()\n",
    "test_set_copy = test_set_copy.drop(get_object_colum(test_set_copy), axis=1)\n",
    "X_test_set = test_set_copy.drop(['isFlaky'], axis=1).to_numpy()\n",
    "y_test_set = test_set_copy['isFlaky'].to_numpy()\n",
    "X_test_set = norm.transform(X=X_test_set)\n",
    "df = pandas.DataFrame(X_test_set, columns=columns)\n",
    "df = df.drop(colum_remove, axis=1)\n",
    "X_test_set = df.to_numpy()\n",
    "y_pred = clf.predict(X=X_test_set)\n",
    "# 5. Genero la matrice di confusione e le prestazioni del modello\n",
    "print(\"Prestazioni con MLP:\")\n",
    "print_performance_model(y_true=y_test_set, y_pred=y_pred)"
   ]
  },
  {
   "cell_type": "markdown",
   "source": [
    "## Surrogato globale\n",
    "Creiamo un modello decision tree surrogato per la RandomForest"
   ],
   "metadata": {
    "collapsed": false,
    "pycharm": {
     "name": "#%% md\n"
    }
   }
  },
  {
   "cell_type": "code",
   "execution_count": 20,
   "outputs": [
    {
     "data": {
      "text/plain": "[Text(0.47323139764167665, 0.9857142857142858, 'X[15] <= 0.131\\ngini = 0.5\\nsamples = 17870\\nvalue = [8935, 8935]'),\n Text(0.18564629959776635, 0.9571428571428572, 'X[9] <= 0.002\\ngini = 0.358\\nsamples = 4982\\nvalue = [1162, 3820]'),\n Text(0.12634348725566755, 0.9285714285714286, 'X[11] <= 0.021\\ngini = 0.313\\nsamples = 4728\\nvalue = [919, 3809]'),\n Text(0.05086465934077363, 0.9, 'X[14] <= 0.775\\ngini = 0.497\\nsamples = 960\\nvalue = [514, 446]'),\n Text(0.019857740505994502, 0.8714285714285714, 'X[6] <= 0.0\\ngini = 0.356\\nsamples = 492\\nvalue = [378, 114]'),\n Text(0.007099974259126526, 0.8428571428571429, 'X[2] <= 0.0\\ngini = 0.096\\nsamples = 317\\nvalue = [301, 16]'),\n Text(0.003549987129563263, 0.8142857142857143, 'X[6] <= 0.0\\ngini = 0.028\\nsamples = 284\\nvalue = [280, 4]'),\n Text(0.0017749935647816315, 0.7857142857142857, 'gini = 0.0\\nsamples = 266\\nvalue = [266, 0]'),\n Text(0.005324980694344895, 0.7857142857142857, 'X[9] <= 0.0\\ngini = 0.346\\nsamples = 18\\nvalue = [14, 4]'),\n Text(0.003549987129563263, 0.7571428571428571, 'gini = 0.0\\nsamples = 4\\nvalue = [0, 4]'),\n Text(0.007099974259126526, 0.7571428571428571, 'gini = 0.0\\nsamples = 14\\nvalue = [14, 0]'),\n Text(0.01064996138868979, 0.8142857142857143, 'X[5] <= 0.001\\ngini = 0.463\\nsamples = 33\\nvalue = [21, 12]'),\n Text(0.008874967823908158, 0.7857142857142857, 'gini = 0.0\\nsamples = 21\\nvalue = [21, 0]'),\n Text(0.012424954953471422, 0.7857142857142857, 'gini = 0.0\\nsamples = 12\\nvalue = [0, 12]'),\n Text(0.03261550675286248, 0.8428571428571429, 'X[15] <= 0.116\\ngini = 0.493\\nsamples = 175\\nvalue = [77, 98]'),\n Text(0.02085617438618417, 0.8142857142857143, 'X[1] <= 0.0\\ngini = 0.173\\nsamples = 94\\nvalue = [9, 85]'),\n Text(0.015974942083034686, 0.7857142857142857, 'X[6] <= 0.001\\ngini = 0.278\\nsamples = 6\\nvalue = [5, 1]'),\n Text(0.014199948518253052, 0.7571428571428571, 'gini = 0.0\\nsamples = 5\\nvalue = [5, 0]'),\n Text(0.017749935647816316, 0.7571428571428571, 'gini = 0.0\\nsamples = 1\\nvalue = [0, 1]'),\n Text(0.025737406689333657, 0.7857142857142857, 'X[3] <= 0.0\\ngini = 0.087\\nsamples = 88\\nvalue = [4, 84]'),\n Text(0.02129992277737958, 0.7571428571428571, 'X[14] <= 0.633\\ngini = 0.444\\nsamples = 3\\nvalue = [2, 1]'),\n Text(0.019524929212597946, 0.7285714285714285, 'gini = 0.0\\nsamples = 1\\nvalue = [0, 1]'),\n Text(0.02307491634216121, 0.7285714285714285, 'gini = 0.0\\nsamples = 2\\nvalue = [2, 0]'),\n Text(0.030174890601287738, 0.7571428571428571, 'X[0] <= 0.005\\ngini = 0.046\\nsamples = 85\\nvalue = [2, 83]'),\n Text(0.026624903471724474, 0.7285714285714285, 'X[1] <= 0.0\\ngini = 0.024\\nsamples = 83\\nvalue = [1, 82]'),\n Text(0.024849909906942844, 0.7, 'gini = 0.0\\nsamples = 71\\nvalue = [0, 71]'),\n Text(0.028399897036506104, 0.7, 'X[5] <= 0.0\\ngini = 0.153\\nsamples = 12\\nvalue = [1, 11]'),\n Text(0.026624903471724474, 0.6714285714285714, 'gini = 0.0\\nsamples = 1\\nvalue = [1, 0]'),\n Text(0.030174890601287738, 0.6714285714285714, 'gini = 0.0\\nsamples = 11\\nvalue = [0, 11]'),\n Text(0.033724877730851, 0.7285714285714285, 'X[2] <= 0.0\\ngini = 0.5\\nsamples = 2\\nvalue = [1, 1]'),\n Text(0.03194988416606937, 0.7, 'gini = 0.0\\nsamples = 1\\nvalue = [1, 0]'),\n Text(0.03549987129563263, 0.7, 'gini = 0.0\\nsamples = 1\\nvalue = [0, 1]'),\n Text(0.04437483911954079, 0.8142857142857143, 'X[14] <= 0.389\\ngini = 0.269\\nsamples = 81\\nvalue = [68, 13]'),\n Text(0.04259984555475916, 0.7857142857142857, 'gini = 0.0\\nsamples = 11\\nvalue = [0, 11]'),\n Text(0.04614983268432242, 0.7857142857142857, 'X[2] <= 0.0\\ngini = 0.056\\nsamples = 70\\nvalue = [68, 2]'),\n Text(0.04259984555475916, 0.7571428571428571, 'X[14] <= 0.44\\ngini = 0.029\\nsamples = 67\\nvalue = [66, 1]'),\n Text(0.040824851989977526, 0.7285714285714285, 'X[5] <= 0.001\\ngini = 0.32\\nsamples = 5\\nvalue = [4, 1]'),\n Text(0.03904985842519589, 0.7, 'gini = 0.0\\nsamples = 1\\nvalue = [0, 1]'),\n Text(0.04259984555475916, 0.7, 'gini = 0.0\\nsamples = 4\\nvalue = [4, 0]'),\n Text(0.04437483911954079, 0.7285714285714285, 'gini = 0.0\\nsamples = 62\\nvalue = [62, 0]'),\n Text(0.04969981981388569, 0.7571428571428571, 'X[7] <= 0.145\\ngini = 0.444\\nsamples = 3\\nvalue = [2, 1]'),\n Text(0.047924826249104054, 0.7285714285714285, 'gini = 0.0\\nsamples = 1\\nvalue = [0, 1]'),\n Text(0.051474813378667314, 0.7285714285714285, 'gini = 0.0\\nsamples = 2\\nvalue = [2, 0]'),\n Text(0.08187157817555275, 0.8714285714285714, 'X[0] <= 0.003\\ngini = 0.412\\nsamples = 468\\nvalue = [136, 332]'),\n Text(0.06966849741767904, 0.8428571428571429, 'X[9] <= 0.0\\ngini = 0.5\\nsamples = 178\\nvalue = [90, 88]'),\n Text(0.06123727798496629, 0.8142857142857143, 'X[0] <= 0.001\\ngini = 0.453\\nsamples = 130\\nvalue = [45, 85]'),\n Text(0.05502480050823058, 0.7857142857142857, 'X[1] <= 0.0\\ngini = 0.236\\nsamples = 73\\nvalue = [10, 63]'),\n Text(0.05324980694344895, 0.7571428571428571, 'gini = 0.0\\nsamples = 2\\nvalue = [2, 0]'),\n Text(0.05679979407301221, 0.7571428571428571, 'X[1] <= 0.0\\ngini = 0.2\\nsamples = 71\\nvalue = [8, 63]'),\n Text(0.05502480050823058, 0.7285714285714285, 'X[5] <= 0.0\\ngini = 0.159\\nsamples = 69\\nvalue = [6, 63]'),\n Text(0.05324980694344895, 0.7, 'gini = 0.161\\nsamples = 68\\nvalue = [6, 62]'),\n Text(0.05679979407301221, 0.7, 'gini = 0.0\\nsamples = 1\\nvalue = [0, 1]'),\n Text(0.05857478763779384, 0.7285714285714285, 'gini = 0.0\\nsamples = 2\\nvalue = [2, 0]'),\n Text(0.067449755461702, 0.7857142857142857, 'X[4] <= 0.0\\ngini = 0.474\\nsamples = 57\\nvalue = [35, 22]'),\n Text(0.06567476189692037, 0.7571428571428571, 'X[2] <= 0.0\\ngini = 0.25\\nsamples = 41\\nvalue = [35, 6]'),\n Text(0.06212477476735711, 0.7285714285714285, 'X[11] <= 0.004\\ngini = 0.061\\nsamples = 32\\nvalue = [31, 1]'),\n Text(0.060349781202575475, 0.7, 'X[1] <= 0.0\\ngini = 0.32\\nsamples = 5\\nvalue = [4, 1]'),\n Text(0.05857478763779384, 0.6714285714285714, 'gini = 0.0\\nsamples = 1\\nvalue = [0, 1]'),\n Text(0.06212477476735711, 0.6714285714285714, 'gini = 0.0\\nsamples = 4\\nvalue = [4, 0]'),\n Text(0.06389976833213874, 0.7, 'gini = 0.0\\nsamples = 27\\nvalue = [27, 0]'),\n Text(0.06922474902648364, 0.7285714285714285, 'X[0] <= 0.002\\ngini = 0.494\\nsamples = 9\\nvalue = [4, 5]'),\n Text(0.067449755461702, 0.7, 'gini = 0.0\\nsamples = 4\\nvalue = [4, 0]'),\n Text(0.07099974259126526, 0.7, 'gini = 0.0\\nsamples = 5\\nvalue = [0, 5]'),\n Text(0.06922474902648364, 0.7571428571428571, 'gini = 0.0\\nsamples = 16\\nvalue = [0, 16]'),\n Text(0.07809971685039178, 0.8142857142857143, 'X[11] <= 0.019\\ngini = 0.117\\nsamples = 48\\nvalue = [45, 3]'),\n Text(0.07632472328561016, 0.7857142857142857, 'X[0] <= 0.0\\ngini = 0.043\\nsamples = 46\\nvalue = [45, 1]'),\n Text(0.07454972972082853, 0.7571428571428571, 'X[1] <= 0.0\\ngini = 0.091\\nsamples = 21\\nvalue = [20, 1]'),\n Text(0.07277473615604689, 0.7285714285714285, 'gini = 0.0\\nsamples = 5\\nvalue = [5, 0]'),\n Text(0.07632472328561016, 0.7285714285714285, 'gini = 0.117\\nsamples = 16\\nvalue = [15, 1]'),\n Text(0.07809971685039178, 0.7571428571428571, 'gini = 0.0\\nsamples = 25\\nvalue = [25, 0]'),\n Text(0.07987471041517342, 0.7857142857142857, 'gini = 0.0\\nsamples = 2\\nvalue = [0, 2]'),\n Text(0.09407465893342648, 0.8428571428571429, 'X[15] <= 0.105\\ngini = 0.267\\nsamples = 290\\nvalue = [46, 244]'),\n Text(0.09229966536864484, 0.8142857142857143, 'gini = 0.0\\nsamples = 7\\nvalue = [7, 0]'),\n Text(0.09584965249820811, 0.8142857142857143, 'X[5] <= 0.001\\ngini = 0.238\\nsamples = 283\\nvalue = [39, 244]'),\n Text(0.09052467180386321, 0.7857142857142857, 'X[1] <= 0.002\\ngini = 0.201\\nsamples = 274\\nvalue = [31, 243]'),\n Text(0.08874967823908159, 0.7571428571428571, 'X[9] <= 0.0\\ngini = 0.185\\nsamples = 271\\nvalue = [28, 243]'),\n Text(0.07987471041517342, 0.7285714285714285, 'X[0] <= 0.019\\ngini = 0.483\\nsamples = 22\\nvalue = [9, 13]'),\n Text(0.07809971685039178, 0.7, 'X[6] <= 0.001\\ngini = 0.18\\nsamples = 10\\nvalue = [9, 1]'),\n Text(0.07632472328561016, 0.6714285714285714, 'gini = 0.0\\nsamples = 8\\nvalue = [8, 0]'),\n Text(0.07987471041517342, 0.6714285714285714, 'X[6] <= 0.001\\ngini = 0.5\\nsamples = 2\\nvalue = [1, 1]'),\n Text(0.07809971685039178, 0.6428571428571429, 'gini = 0.0\\nsamples = 1\\nvalue = [0, 1]'),\n Text(0.08164970397995505, 0.6428571428571429, 'gini = 0.0\\nsamples = 1\\nvalue = [1, 0]'),\n Text(0.08164970397995505, 0.7, 'gini = 0.0\\nsamples = 12\\nvalue = [0, 12]'),\n Text(0.09762464606298973, 0.7285714285714285, 'X[9] <= 0.002\\ngini = 0.141\\nsamples = 249\\nvalue = [19, 230]'),\n Text(0.09052467180386321, 0.7, 'X[3] <= 0.001\\ngini = 0.091\\nsamples = 210\\nvalue = [10, 200]'),\n Text(0.08697468467429995, 0.6714285714285714, 'X[3] <= 0.0\\ngini = 0.048\\nsamples = 164\\nvalue = [4, 160]'),\n Text(0.08519969110951832, 0.6428571428571429, 'X[0] <= 0.005\\ngini = 0.172\\nsamples = 42\\nvalue = [4, 38]'),\n Text(0.08164970397995505, 0.6142857142857143, 'X[1] <= 0.001\\ngini = 0.051\\nsamples = 38\\nvalue = [1, 37]'),\n Text(0.07987471041517342, 0.5857142857142857, 'gini = 0.0\\nsamples = 1\\nvalue = [1, 0]'),\n Text(0.08342469754473668, 0.5857142857142857, 'gini = 0.0\\nsamples = 37\\nvalue = [0, 37]'),\n Text(0.08874967823908159, 0.6142857142857143, 'X[6] <= 0.0\\ngini = 0.375\\nsamples = 4\\nvalue = [3, 1]'),\n Text(0.08697468467429995, 0.5857142857142857, 'gini = 0.444\\nsamples = 3\\nvalue = [2, 1]'),\n Text(0.09052467180386321, 0.5857142857142857, 'gini = 0.0\\nsamples = 1\\nvalue = [1, 0]'),\n Text(0.08874967823908159, 0.6428571428571429, 'gini = 0.0\\nsamples = 122\\nvalue = [0, 122]'),\n Text(0.09407465893342648, 0.6714285714285714, 'X[1] <= 0.0\\ngini = 0.227\\nsamples = 46\\nvalue = [6, 40]'),\n Text(0.09229966536864484, 0.6428571428571429, 'gini = 0.0\\nsamples = 3\\nvalue = [3, 0]'),\n Text(0.09584965249820811, 0.6428571428571429, 'X[3] <= 0.001\\ngini = 0.13\\nsamples = 43\\nvalue = [3, 40]'),\n Text(0.09407465893342648, 0.6142857142857143, 'gini = 0.0\\nsamples = 1\\nvalue = [1, 0]'),\n Text(0.09762464606298973, 0.6142857142857143, 'X[6] <= 0.002\\ngini = 0.091\\nsamples = 42\\nvalue = [2, 40]'),\n Text(0.09407465893342648, 0.5857142857142857, 'X[2] <= 0.0\\ngini = 0.05\\nsamples = 39\\nvalue = [1, 38]'),\n Text(0.09229966536864484, 0.5571428571428572, 'X[6] <= 0.0\\ngini = 0.219\\nsamples = 8\\nvalue = [1, 7]'),\n Text(0.09052467180386321, 0.5285714285714286, 'gini = 0.0\\nsamples = 7\\nvalue = [0, 7]'),\n Text(0.09407465893342648, 0.5285714285714286, 'gini = 0.0\\nsamples = 1\\nvalue = [1, 0]'),\n Text(0.09584965249820811, 0.5571428571428572, 'gini = 0.0\\nsamples = 31\\nvalue = [0, 31]'),\n Text(0.101174633192553, 0.5857142857142857, 'X[6] <= 0.002\\ngini = 0.444\\nsamples = 3\\nvalue = [1, 2]'),\n Text(0.09939963962777137, 0.5571428571428572, 'gini = 0.0\\nsamples = 1\\nvalue = [1, 0]'),\n Text(0.10294962675733463, 0.5571428571428572, 'gini = 0.0\\nsamples = 2\\nvalue = [0, 2]'),\n Text(0.10472462032211627, 0.7, 'X[1] <= 0.001\\ngini = 0.355\\nsamples = 39\\nvalue = [9, 30]'),\n Text(0.101174633192553, 0.6714285714285714, 'X[0] <= 0.004\\ngini = 0.245\\nsamples = 7\\nvalue = [6, 1]'),\n Text(0.09939963962777137, 0.6428571428571429, 'gini = 0.0\\nsamples = 4\\nvalue = [4, 0]'),\n Text(0.10294962675733463, 0.6428571428571429, 'X[0] <= 0.007\\ngini = 0.444\\nsamples = 3\\nvalue = [2, 1]'),\n Text(0.101174633192553, 0.6142857142857143, 'gini = 0.5\\nsamples = 2\\nvalue = [1, 1]'),\n Text(0.10472462032211627, 0.6142857142857143, 'gini = 0.0\\nsamples = 1\\nvalue = [1, 0]'),\n Text(0.10827460745167952, 0.6714285714285714, 'X[6] <= 0.002\\ngini = 0.17\\nsamples = 32\\nvalue = [3, 29]'),\n Text(0.1064996138868979, 0.6428571428571429, 'gini = 0.0\\nsamples = 28\\nvalue = [0, 28]'),\n Text(0.11004960101646116, 0.6428571428571429, 'X[0] <= 0.015\\ngini = 0.375\\nsamples = 4\\nvalue = [3, 1]'),\n Text(0.10827460745167952, 0.6142857142857143, 'gini = 0.0\\nsamples = 3\\nvalue = [3, 0]'),\n Text(0.11182459458124279, 0.6142857142857143, 'gini = 0.0\\nsamples = 1\\nvalue = [0, 1]'),\n Text(0.09229966536864484, 0.7571428571428571, 'gini = 0.0\\nsamples = 3\\nvalue = [3, 0]'),\n Text(0.101174633192553, 0.7857142857142857, 'X[2] <= 0.0\\ngini = 0.198\\nsamples = 9\\nvalue = [8, 1]'),\n Text(0.09939963962777137, 0.7571428571428571, 'gini = 0.0\\nsamples = 6\\nvalue = [6, 0]'),\n Text(0.10294962675733463, 0.7571428571428571, 'X[5] <= 0.001\\ngini = 0.444\\nsamples = 3\\nvalue = [2, 1]'),\n Text(0.101174633192553, 0.7285714285714285, 'gini = 0.0\\nsamples = 1\\nvalue = [0, 1]'),\n Text(0.10472462032211627, 0.7285714285714285, 'gini = 0.0\\nsamples = 2\\nvalue = [2, 0]'),\n Text(0.20182231517056146, 0.9, 'X[14] <= 0.617\\ngini = 0.192\\nsamples = 3768\\nvalue = [405, 3363]'),\n Text(0.162245505530821, 0.8714285714285714, 'X[6] <= 0.0\\ngini = 0.351\\nsamples = 1224\\nvalue = [278, 946]'),\n Text(0.13800574966177184, 0.8428571428571429, 'X[7] <= 0.119\\ngini = 0.499\\nsamples = 315\\nvalue = [151, 164]'),\n Text(0.13046202701144993, 0.8142857142857143, 'X[5] <= 0.0\\ngini = 0.351\\nsamples = 176\\nvalue = [40, 136]'),\n Text(0.12424954953471422, 0.7857142857142857, 'X[0] <= 0.0\\ngini = 0.286\\nsamples = 162\\nvalue = [28, 134]'),\n Text(0.12247455596993258, 0.7571428571428571, 'gini = 0.0\\nsamples = 4\\nvalue = [4, 0]'),\n Text(0.12602454309949584, 0.7571428571428571, 'X[3] <= 0.0\\ngini = 0.258\\nsamples = 158\\nvalue = [24, 134]'),\n Text(0.12424954953471422, 0.7285714285714285, 'X[1] <= 0.001\\ngini = 0.234\\nsamples = 155\\nvalue = [21, 134]'),\n Text(0.12069956240515095, 0.7, 'X[2] <= 0.0\\ngini = 0.188\\nsamples = 143\\nvalue = [15, 128]'),\n Text(0.11892456884036931, 0.6714285714285714, 'X[0] <= 0.003\\ngini = 0.22\\nsamples = 119\\nvalue = [15, 104]'),\n Text(0.11714957527558768, 0.6428571428571429, 'X[0] <= 0.001\\ngini = 0.247\\nsamples = 104\\nvalue = [15, 89]'),\n Text(0.11537458171080606, 0.6142857142857143, 'gini = 0.209\\nsamples = 101\\nvalue = [12, 89]'),\n Text(0.11892456884036931, 0.6142857142857143, 'gini = 0.0\\nsamples = 3\\nvalue = [3, 0]'),\n Text(0.12069956240515095, 0.6428571428571429, 'gini = 0.0\\nsamples = 15\\nvalue = [0, 15]'),\n Text(0.12247455596993258, 0.6714285714285714, 'gini = 0.0\\nsamples = 24\\nvalue = [0, 24]'),\n Text(0.12779953666427749, 0.7, 'X[12] <= 0.017\\ngini = 0.5\\nsamples = 12\\nvalue = [6, 6]'),\n Text(0.12602454309949584, 0.6714285714285714, 'gini = 0.0\\nsamples = 6\\nvalue = [6, 0]'),\n Text(0.1295745302290591, 0.6714285714285714, 'gini = 0.0\\nsamples = 6\\nvalue = [0, 6]'),\n Text(0.12779953666427749, 0.7285714285714285, 'gini = 0.0\\nsamples = 3\\nvalue = [3, 0]'),\n Text(0.13667450448818563, 0.7857142857142857, 'X[13] <= 0.01\\ngini = 0.245\\nsamples = 14\\nvalue = [12, 2]'),\n Text(0.134899510923404, 0.7571428571428571, 'X[0] <= 0.001\\ngini = 0.142\\nsamples = 13\\nvalue = [12, 1]'),\n Text(0.13312451735862238, 0.7285714285714285, 'X[0] <= 0.001\\ngini = 0.5\\nsamples = 2\\nvalue = [1, 1]'),\n Text(0.13134952379384074, 0.7, 'gini = 0.0\\nsamples = 1\\nvalue = [1, 0]'),\n Text(0.134899510923404, 0.7, 'gini = 0.0\\nsamples = 1\\nvalue = [0, 1]'),\n Text(0.13667450448818563, 0.7285714285714285, 'gini = 0.0\\nsamples = 11\\nvalue = [11, 0]'),\n Text(0.13844949805296727, 0.7571428571428571, 'gini = 0.0\\nsamples = 1\\nvalue = [0, 1]'),\n Text(0.14554947231209378, 0.8142857142857143, 'X[5] <= 0.0\\ngini = 0.322\\nsamples = 139\\nvalue = [111, 28]'),\n Text(0.14377447874731217, 0.7857142857142857, 'X[0] <= 0.001\\ngini = 0.452\\nsamples = 81\\nvalue = [53, 28]'),\n Text(0.14199948518253053, 0.7571428571428571, 'gini = 0.0\\nsamples = 33\\nvalue = [33, 0]'),\n Text(0.14554947231209378, 0.7571428571428571, 'X[2] <= 0.0\\ngini = 0.486\\nsamples = 48\\nvalue = [20, 28]'),\n Text(0.14377447874731217, 0.7285714285714285, 'X[11] <= 0.028\\ngini = 0.346\\nsamples = 36\\nvalue = [8, 28]'),\n Text(0.14199948518253053, 0.7, 'gini = 0.0\\nsamples = 3\\nvalue = [3, 0]'),\n Text(0.14554947231209378, 0.7, 'X[4] <= 0.0\\ngini = 0.257\\nsamples = 33\\nvalue = [5, 28]'),\n Text(0.14377447874731217, 0.6714285714285714, 'X[1] <= 0.001\\ngini = 0.124\\nsamples = 30\\nvalue = [2, 28]'),\n Text(0.14199948518253053, 0.6428571428571429, 'X[2] <= 0.0\\ngini = 0.067\\nsamples = 29\\nvalue = [1, 28]'),\n Text(0.1402244916177489, 0.6142857142857143, 'X[3] <= 0.0\\ngini = 0.153\\nsamples = 12\\nvalue = [1, 11]'),\n Text(0.13844949805296727, 0.5857142857142857, 'gini = 0.0\\nsamples = 11\\nvalue = [0, 11]'),\n Text(0.14199948518253053, 0.5857142857142857, 'gini = 0.0\\nsamples = 1\\nvalue = [1, 0]'),\n Text(0.14377447874731217, 0.6142857142857143, 'gini = 0.0\\nsamples = 17\\nvalue = [0, 17]'),\n Text(0.14554947231209378, 0.6428571428571429, 'gini = 0.0\\nsamples = 1\\nvalue = [1, 0]'),\n Text(0.14732446587687542, 0.6714285714285714, 'gini = 0.0\\nsamples = 3\\nvalue = [3, 0]'),\n Text(0.14732446587687542, 0.7285714285714285, 'gini = 0.0\\nsamples = 12\\nvalue = [12, 0]'),\n Text(0.14732446587687542, 0.7857142857142857, 'gini = 0.0\\nsamples = 58\\nvalue = [58, 0]'),\n Text(0.18648526139987018, 0.8428571428571429, 'X[2] <= 0.0\\ngini = 0.24\\nsamples = 909\\nvalue = [127, 782]'),\n Text(0.174614991935393, 0.8142857142857143, 'X[12] <= 0.028\\ngini = 0.404\\nsamples = 299\\nvalue = [84, 215]'),\n Text(0.1681806402630596, 0.7857142857142857, 'X[6] <= 0.001\\ngini = 0.152\\nsamples = 217\\nvalue = [18, 199]'),\n Text(0.16640564669827795, 0.7571428571428571, 'X[0] <= 0.004\\ngini = 0.13\\nsamples = 214\\nvalue = [15, 199]'),\n Text(0.16063691761273766, 0.7285714285714285, 'X[1] <= 0.001\\ngini = 0.278\\nsamples = 84\\nvalue = [14, 70]'),\n Text(0.15442444013600196, 0.7, 'X[6] <= 0.0\\ngini = 0.104\\nsamples = 73\\nvalue = [4, 69]'),\n Text(0.15087445300643867, 0.6714285714285714, 'X[1] <= 0.001\\ngini = 0.211\\nsamples = 25\\nvalue = [3, 22]'),\n Text(0.14909945944165706, 0.6428571428571429, 'gini = 0.0\\nsamples = 11\\nvalue = [0, 11]'),\n Text(0.15264944657122032, 0.6428571428571429, 'X[0] <= 0.001\\ngini = 0.337\\nsamples = 14\\nvalue = [3, 11]'),\n Text(0.15087445300643867, 0.6142857142857143, 'gini = 0.278\\nsamples = 12\\nvalue = [2, 10]'),\n Text(0.15442444013600196, 0.6142857142857143, 'X[3] <= 0.0\\ngini = 0.5\\nsamples = 2\\nvalue = [1, 1]'),\n Text(0.15264944657122032, 0.5857142857142857, 'gini = 0.0\\nsamples = 1\\nvalue = [1, 0]'),\n Text(0.15619943370078357, 0.5857142857142857, 'gini = 0.0\\nsamples = 1\\nvalue = [0, 1]'),\n Text(0.1579744272655652, 0.6714285714285714, 'X[0] <= 0.001\\ngini = 0.041\\nsamples = 48\\nvalue = [1, 47]'),\n Text(0.15619943370078357, 0.6428571428571429, 'gini = 0.0\\nsamples = 45\\nvalue = [0, 45]'),\n Text(0.15974942083034685, 0.6428571428571429, 'X[0] <= 0.001\\ngini = 0.444\\nsamples = 3\\nvalue = [1, 2]'),\n Text(0.1579744272655652, 0.6142857142857143, 'gini = 0.0\\nsamples = 1\\nvalue = [1, 0]'),\n Text(0.16152441439512846, 0.6142857142857143, 'gini = 0.0\\nsamples = 2\\nvalue = [0, 2]'),\n Text(0.16684939508947336, 0.7, 'X[6] <= 0.0\\ngini = 0.165\\nsamples = 11\\nvalue = [10, 1]'),\n Text(0.16507440152469174, 0.6714285714285714, 'gini = 0.0\\nsamples = 6\\nvalue = [6, 0]'),\n Text(0.168624388654255, 0.6714285714285714, 'X[0] <= 0.002\\ngini = 0.32\\nsamples = 5\\nvalue = [4, 1]'),\n Text(0.16684939508947336, 0.6428571428571429, 'X[6] <= 0.001\\ngini = 0.375\\nsamples = 4\\nvalue = [3, 1]'),\n Text(0.16507440152469174, 0.6142857142857143, 'gini = 0.444\\nsamples = 3\\nvalue = [2, 1]'),\n Text(0.168624388654255, 0.6142857142857143, 'gini = 0.0\\nsamples = 1\\nvalue = [1, 0]'),\n Text(0.17039938221903664, 0.6428571428571429, 'gini = 0.0\\nsamples = 1\\nvalue = [1, 0]'),\n Text(0.17217437578381825, 0.7285714285714285, 'X[6] <= 0.001\\ngini = 0.015\\nsamples = 130\\nvalue = [1, 129]'),\n Text(0.17039938221903664, 0.7, 'gini = 0.0\\nsamples = 127\\nvalue = [0, 127]'),\n Text(0.1739493693485999, 0.7, 'X[2] <= 0.0\\ngini = 0.444\\nsamples = 3\\nvalue = [1, 2]'),\n Text(0.17217437578381825, 0.6714285714285714, 'gini = 0.0\\nsamples = 1\\nvalue = [1, 0]'),\n Text(0.17572436291338153, 0.6714285714285714, 'gini = 0.0\\nsamples = 2\\nvalue = [0, 2]'),\n Text(0.16995563382784123, 0.7571428571428571, 'gini = 0.0\\nsamples = 3\\nvalue = [3, 0]'),\n Text(0.18104934360772643, 0.7857142857142857, 'X[1] <= 0.0\\ngini = 0.314\\nsamples = 82\\nvalue = [66, 16]'),\n Text(0.17749935647816317, 0.7571428571428571, 'X[2] <= 0.0\\ngini = 0.124\\nsamples = 15\\nvalue = [1, 14]'),\n Text(0.17572436291338153, 0.7285714285714285, 'gini = 0.0\\nsamples = 1\\nvalue = [1, 0]'),\n Text(0.17927435004294479, 0.7285714285714285, 'gini = 0.0\\nsamples = 14\\nvalue = [0, 14]'),\n Text(0.18459933073728968, 0.7571428571428571, 'X[4] <= 0.003\\ngini = 0.058\\nsamples = 67\\nvalue = [65, 2]'),\n Text(0.18282433717250807, 0.7285714285714285, 'gini = 0.0\\nsamples = 65\\nvalue = [65, 0]'),\n Text(0.18637432430207132, 0.7285714285714285, 'gini = 0.0\\nsamples = 2\\nvalue = [0, 2]'),\n Text(0.19835553086434732, 0.8142857142857143, 'X[6] <= 0.001\\ngini = 0.131\\nsamples = 610\\nvalue = [43, 567]'),\n Text(0.19480554373478406, 0.7857142857142857, 'X[5] <= 0.001\\ngini = 0.099\\nsamples = 593\\nvalue = [31, 562]'),\n Text(0.19303055017000242, 0.7571428571428571, 'X[3] <= 0.001\\ngini = 0.087\\nsamples = 589\\nvalue = [27, 562]'),\n Text(0.1912555566052208, 0.7285714285714285, 'X[11] <= 0.022\\ngini = 0.085\\nsamples = 588\\nvalue = [26, 562]'),\n Text(0.18371183395489887, 0.7, 'X[2] <= 0.0\\ngini = 0.208\\nsamples = 136\\nvalue = [16, 120]'),\n Text(0.17927435004294479, 0.6714285714285714, 'X[3] <= 0.0\\ngini = 0.077\\nsamples = 124\\nvalue = [5, 119]'),\n Text(0.17572436291338153, 0.6428571428571429, 'X[1] <= 0.001\\ngini = 0.048\\nsamples = 121\\nvalue = [3, 118]'),\n Text(0.1739493693485999, 0.6142857142857143, 'X[6] <= 0.0\\ngini = 0.033\\nsamples = 120\\nvalue = [2, 118]'),\n Text(0.17217437578381825, 0.5857142857142857, 'X[0] <= 0.001\\ngini = 0.142\\nsamples = 26\\nvalue = [2, 24]'),\n Text(0.17039938221903664, 0.5571428571428572, 'gini = 0.0\\nsamples = 24\\nvalue = [0, 24]'),\n Text(0.1739493693485999, 0.5571428571428572, 'gini = 0.0\\nsamples = 2\\nvalue = [2, 0]'),\n Text(0.17572436291338153, 0.5857142857142857, 'gini = 0.0\\nsamples = 94\\nvalue = [0, 94]'),\n Text(0.17749935647816317, 0.6142857142857143, 'gini = 0.0\\nsamples = 1\\nvalue = [1, 0]'),\n Text(0.18282433717250807, 0.6428571428571429, 'X[2] <= 0.0\\ngini = 0.444\\nsamples = 3\\nvalue = [2, 1]'),\n Text(0.18104934360772643, 0.6142857142857143, 'gini = 0.0\\nsamples = 1\\nvalue = [0, 1]'),\n Text(0.18459933073728968, 0.6142857142857143, 'gini = 0.0\\nsamples = 2\\nvalue = [2, 0]'),\n Text(0.18814931786685296, 0.6714285714285714, 'X[5] <= 0.0\\ngini = 0.153\\nsamples = 12\\nvalue = [11, 1]'),\n Text(0.18637432430207132, 0.6428571428571429, 'gini = 0.0\\nsamples = 1\\nvalue = [0, 1]'),\n Text(0.18992431143163457, 0.6428571428571429, 'gini = 0.0\\nsamples = 11\\nvalue = [11, 0]'),\n Text(0.19879927925554275, 0.7, 'X[5] <= 0.001\\ngini = 0.043\\nsamples = 452\\nvalue = [10, 442]'),\n Text(0.19524929212597947, 0.6714285714285714, 'X[5] <= 0.001\\ngini = 0.039\\nsamples = 449\\nvalue = [9, 440]'),\n Text(0.19347429856119785, 0.6428571428571429, 'gini = 0.0\\nsamples = 213\\nvalue = [0, 213]'),\n Text(0.1970242856907611, 0.6428571428571429, 'X[2] <= 0.0\\ngini = 0.073\\nsamples = 236\\nvalue = [9, 227]'),\n Text(0.19258680177880702, 0.6142857142857143, 'X[12] <= 0.027\\ngini = 0.444\\nsamples = 3\\nvalue = [2, 1]'),\n Text(0.1908118082140254, 0.5857142857142857, 'gini = 0.0\\nsamples = 1\\nvalue = [0, 1]'),\n Text(0.19436179534358866, 0.5857142857142857, 'gini = 0.0\\nsamples = 2\\nvalue = [2, 0]'),\n Text(0.2014617696027152, 0.6142857142857143, 'X[0] <= 0.001\\ngini = 0.058\\nsamples = 233\\nvalue = [7, 226]'),\n Text(0.19791178247315191, 0.5857142857142857, 'X[5] <= 0.001\\ngini = 0.131\\nsamples = 57\\nvalue = [4, 53]'),\n Text(0.1961367889083703, 0.5571428571428572, 'gini = 0.208\\nsamples = 17\\nvalue = [2, 15]'),\n Text(0.19968677603793356, 0.5571428571428572, 'gini = 0.095\\nsamples = 40\\nvalue = [2, 38]'),\n Text(0.20501175673227845, 0.5857142857142857, 'X[5] <= 0.001\\ngini = 0.034\\nsamples = 176\\nvalue = [3, 173]'),\n Text(0.2032367631674968, 0.5571428571428572, 'gini = 0.0\\nsamples = 72\\nvalue = [0, 72]'),\n Text(0.2067867502970601, 0.5571428571428572, 'X[0] <= 0.002\\ngini = 0.056\\nsamples = 104\\nvalue = [3, 101]'),\n Text(0.20501175673227845, 0.5285714285714286, 'gini = 0.0\\nsamples = 16\\nvalue = [0, 16]'),\n Text(0.2085617438618417, 0.5285714285714286, 'X[1] <= 0.0\\ngini = 0.066\\nsamples = 88\\nvalue = [3, 85]'),\n Text(0.2067867502970601, 0.5, 'gini = 0.068\\nsamples = 85\\nvalue = [3, 82]'),\n Text(0.21033673742662334, 0.5, 'gini = 0.0\\nsamples = 3\\nvalue = [0, 3]'),\n Text(0.202349266385106, 0.6714285714285714, 'X[13] <= 0.021\\ngini = 0.444\\nsamples = 3\\nvalue = [1, 2]'),\n Text(0.20057427282032436, 0.6428571428571429, 'gini = 0.0\\nsamples = 2\\nvalue = [0, 2]'),\n Text(0.20412425994988764, 0.6428571428571429, 'gini = 0.0\\nsamples = 1\\nvalue = [1, 0]'),\n Text(0.19480554373478406, 0.7285714285714285, 'gini = 0.0\\nsamples = 1\\nvalue = [1, 0]'),\n Text(0.1965805372995657, 0.7571428571428571, 'gini = 0.0\\nsamples = 4\\nvalue = [4, 0]'),\n Text(0.2019055179939106, 0.7857142857142857, 'X[0] <= 0.01\\ngini = 0.415\\nsamples = 17\\nvalue = [12, 5]'),\n Text(0.20013052442912896, 0.7571428571428571, 'gini = 0.0\\nsamples = 12\\nvalue = [12, 0]'),\n Text(0.2036805115586922, 0.7571428571428571, 'gini = 0.0\\nsamples = 5\\nvalue = [0, 5]'),\n Text(0.2413991248103019, 0.8714285714285714, 'X[10] <= 0.002\\ngini = 0.095\\nsamples = 2544\\nvalue = [127, 2417]'),\n Text(0.23962413124552026, 0.8428571428571429, 'gini = 0.0\\nsamples = 18\\nvalue = [18, 0]'),\n Text(0.24317411837508351, 0.8428571428571429, 'X[10] <= 0.007\\ngini = 0.083\\nsamples = 2526\\nvalue = [109, 2417]'),\n Text(0.23873663446312945, 0.8142857142857143, 'X[9] <= 0.001\\ngini = 0.043\\nsamples = 2317\\nvalue = [51, 2266]'),\n Text(0.23696164089834781, 0.7857142857142857, 'X[8] <= 0.307\\ngini = 0.033\\nsamples = 2305\\nvalue = [39, 2266]'),\n Text(0.23518664733356617, 0.7571428571428571, 'X[5] <= 0.0\\ngini = 0.032\\nsamples = 2304\\nvalue = [38, 2266]'),\n Text(0.23163666020400292, 0.7285714285714285, 'X[0] <= 0.002\\ngini = 0.076\\nsamples = 831\\nvalue = [33, 798]'),\n Text(0.22986166663922128, 0.7, 'X[3] <= 0.0\\ngini = 0.048\\nsamples = 818\\nvalue = [20, 798]'),\n Text(0.22808667307443967, 0.6714285714285714, 'X[6] <= 0.0\\ngini = 0.041\\nsamples = 815\\nvalue = [17, 798]'),\n Text(0.22631167950965803, 0.6428571428571429, 'X[9] <= 0.001\\ngini = 0.034\\nsamples = 812\\nvalue = [14, 798]'),\n Text(0.22453668594487639, 0.6142857142857143, 'X[1] <= 0.0\\ngini = 0.029\\nsamples = 810\\nvalue = [12, 798]'),\n Text(0.22098669881531313, 0.5857142857142857, 'X[11] <= 0.026\\ngini = 0.242\\nsamples = 71\\nvalue = [10, 61]'),\n Text(0.2192117052505315, 0.5571428571428572, 'X[1] <= 0.0\\ngini = 0.061\\nsamples = 63\\nvalue = [2, 61]'),\n Text(0.21566171812096824, 0.5285714285714286, 'X[4] <= 0.0\\ngini = 0.032\\nsamples = 61\\nvalue = [1, 60]'),\n Text(0.2138867245561866, 0.5, 'X[3] <= 0.0\\ngini = 0.198\\nsamples = 9\\nvalue = [1, 8]'),\n Text(0.21211173099140498, 0.4714285714285714, 'gini = 0.0\\nsamples = 1\\nvalue = [1, 0]'),\n Text(0.21566171812096824, 0.4714285714285714, 'gini = 0.0\\nsamples = 8\\nvalue = [0, 8]'),\n Text(0.21743671168574988, 0.5, 'gini = 0.0\\nsamples = 52\\nvalue = [0, 52]'),\n Text(0.22276169238009477, 0.5285714285714286, 'X[5] <= 0.0\\ngini = 0.5\\nsamples = 2\\nvalue = [1, 1]'),\n Text(0.22098669881531313, 0.5, 'gini = 0.0\\nsamples = 1\\nvalue = [1, 0]'),\n Text(0.22453668594487639, 0.5, 'gini = 0.0\\nsamples = 1\\nvalue = [0, 1]'),\n Text(0.22276169238009477, 0.5571428571428572, 'gini = 0.0\\nsamples = 8\\nvalue = [8, 0]'),\n Text(0.22808667307443967, 0.5857142857142857, 'X[13] <= 0.038\\ngini = 0.005\\nsamples = 739\\nvalue = [2, 737]'),\n Text(0.22631167950965803, 0.5571428571428572, 'gini = 0.0\\nsamples = 614\\nvalue = [0, 614]'),\n Text(0.22986166663922128, 0.5571428571428572, 'X[0] <= 0.001\\ngini = 0.031\\nsamples = 125\\nvalue = [2, 123]'),\n Text(0.22808667307443967, 0.5285714285714286, 'gini = 0.0\\nsamples = 123\\nvalue = [0, 123]'),\n Text(0.23163666020400292, 0.5285714285714286, 'gini = 0.0\\nsamples = 2\\nvalue = [2, 0]'),\n Text(0.22808667307443967, 0.6142857142857143, 'gini = 0.0\\nsamples = 2\\nvalue = [2, 0]'),\n Text(0.22986166663922128, 0.6428571428571429, 'gini = 0.0\\nsamples = 3\\nvalue = [3, 0]'),\n Text(0.23163666020400292, 0.6714285714285714, 'gini = 0.0\\nsamples = 3\\nvalue = [3, 0]'),\n Text(0.23341165376878456, 0.7, 'gini = 0.0\\nsamples = 13\\nvalue = [13, 0]'),\n Text(0.23873663446312945, 0.7285714285714285, 'X[14] <= 0.649\\ngini = 0.007\\nsamples = 1473\\nvalue = [5, 1468]'),\n Text(0.23696164089834781, 0.7, 'gini = 0.0\\nsamples = 1\\nvalue = [1, 0]'),\n Text(0.24051162802791107, 0.7, 'X[2] <= 0.0\\ngini = 0.005\\nsamples = 1472\\nvalue = [4, 1468]'),\n Text(0.23696164089834781, 0.6714285714285714, 'X[2] <= 0.0\\ngini = 0.028\\nsamples = 213\\nvalue = [3, 210]'),\n Text(0.23518664733356617, 0.6428571428571429, 'X[1] <= 0.002\\ngini = 0.019\\nsamples = 212\\nvalue = [2, 210]'),\n Text(0.23341165376878456, 0.6142857142857143, 'gini = 0.0\\nsamples = 199\\nvalue = [0, 199]'),\n Text(0.23696164089834781, 0.6142857142857143, 'X[0] <= 0.011\\ngini = 0.26\\nsamples = 13\\nvalue = [2, 11]'),\n Text(0.23518664733356617, 0.5857142857142857, 'gini = 0.0\\nsamples = 2\\nvalue = [2, 0]'),\n Text(0.23873663446312945, 0.5857142857142857, 'gini = 0.0\\nsamples = 11\\nvalue = [0, 11]'),\n Text(0.23873663446312945, 0.6428571428571429, 'gini = 0.0\\nsamples = 1\\nvalue = [1, 0]'),\n Text(0.24406161515747435, 0.6714285714285714, 'X[1] <= 0.0\\ngini = 0.002\\nsamples = 1259\\nvalue = [1, 1258]'),\n Text(0.2422866215926927, 0.6428571428571429, 'X[7] <= 0.156\\ngini = 0.011\\nsamples = 174\\nvalue = [1, 173]'),\n Text(0.24051162802791107, 0.6142857142857143, 'gini = 0.0\\nsamples = 173\\nvalue = [0, 173]'),\n Text(0.24406161515747435, 0.6142857142857143, 'gini = 0.0\\nsamples = 1\\nvalue = [1, 0]'),\n Text(0.24583660872225596, 0.6428571428571429, 'gini = 0.0\\nsamples = 1085\\nvalue = [0, 1085]'),\n Text(0.23873663446312945, 0.7571428571428571, 'gini = 0.0\\nsamples = 1\\nvalue = [1, 0]'),\n Text(0.24051162802791107, 0.7857142857142857, 'gini = 0.0\\nsamples = 12\\nvalue = [12, 0]'),\n Text(0.2476116022870376, 0.8142857142857143, 'X[7] <= 0.178\\ngini = 0.401\\nsamples = 209\\nvalue = [58, 151]'),\n Text(0.24406161515747435, 0.7857142857142857, 'X[13] <= 0.035\\ngini = 0.211\\nsamples = 50\\nvalue = [44, 6]'),\n Text(0.2422866215926927, 0.7571428571428571, 'gini = 0.0\\nsamples = 5\\nvalue = [0, 5]'),\n Text(0.24583660872225596, 0.7571428571428571, 'X[6] <= 0.006\\ngini = 0.043\\nsamples = 45\\nvalue = [44, 1]'),\n Text(0.24406161515747435, 0.7285714285714285, 'gini = 0.0\\nsamples = 44\\nvalue = [44, 0]'),\n Text(0.2476116022870376, 0.7285714285714285, 'gini = 0.0\\nsamples = 1\\nvalue = [0, 1]'),\n Text(0.2511615894166009, 0.7857142857142857, 'X[3] <= 0.001\\ngini = 0.161\\nsamples = 159\\nvalue = [14, 145]'),\n Text(0.24938659585181924, 0.7571428571428571, 'gini = 0.0\\nsamples = 11\\nvalue = [11, 0]'),\n Text(0.2529365829813825, 0.7571428571428571, 'X[7] <= 0.23\\ngini = 0.04\\nsamples = 148\\nvalue = [3, 145]'),\n Text(0.2511615894166009, 0.7285714285714285, 'X[0] <= 0.005\\ngini = 0.014\\nsamples = 146\\nvalue = [1, 145]'),\n Text(0.24938659585181924, 0.7, 'gini = 0.0\\nsamples = 1\\nvalue = [1, 0]'),\n Text(0.2529365829813825, 0.7, 'gini = 0.0\\nsamples = 145\\nvalue = [0, 145]'),\n Text(0.2547115765461641, 0.7285714285714285, 'gini = 0.0\\nsamples = 2\\nvalue = [2, 0]'),\n Text(0.24494911193986516, 0.9285714285714286, 'X[13] <= 0.027\\ngini = 0.083\\nsamples = 254\\nvalue = [243, 11]'),\n Text(0.24317411837508351, 0.9, 'gini = 0.0\\nsamples = 228\\nvalue = [228, 0]'),\n Text(0.2467241055046468, 0.9, 'X[0] <= 0.005\\ngini = 0.488\\nsamples = 26\\nvalue = [15, 11]'),\n Text(0.24494911193986516, 0.8714285714285714, 'gini = 0.0\\nsamples = 15\\nvalue = [15, 0]'),\n Text(0.24849909906942844, 0.8714285714285714, 'gini = 0.0\\nsamples = 11\\nvalue = [0, 11]'),\n Text(0.760816495685587, 0.9571428571428572, 'X[4] <= 0.0\\ngini = 0.479\\nsamples = 12888\\nvalue = [7773, 5115]'),\n Text(0.6094397042789652, 0.9285714285714286, 'X[10] <= 0.016\\ngini = 0.454\\nsamples = 11106\\nvalue = [7232, 3874]'),\n Text(0.44161805223923933, 0.9, 'X[6] <= 0.0\\ngini = 0.332\\nsamples = 5588\\nvalue = [4414, 1174]'),\n Text(0.3646086390531519, 0.8714285714285714, 'X[7] <= 0.117\\ngini = 0.197\\nsamples = 3649\\nvalue = [3245, 404]'),\n Text(0.3165867428434738, 0.8428571428571429, 'X[2] <= 0.0\\ngini = 0.382\\nsamples = 795\\nvalue = [591, 204]'),\n Text(0.2828341308381731, 0.8142857142857143, 'X[8] <= 0.021\\ngini = 0.244\\nsamples = 512\\nvalue = [439, 73]'),\n Text(0.2689115250644172, 0.7857142857142857, 'X[13] <= 0.004\\ngini = 0.113\\nsamples = 350\\nvalue = [329, 21]'),\n Text(0.2635865443700723, 0.7571428571428571, 'X[5] <= 0.0\\ngini = 0.489\\nsamples = 47\\nvalue = [27, 20]'),\n Text(0.2582615636757274, 0.7285714285714285, 'X[0] <= 0.034\\ngini = 0.074\\nsamples = 26\\nvalue = [25, 1]'),\n Text(0.2564865701109458, 0.7, 'gini = 0.0\\nsamples = 23\\nvalue = [23, 0]'),\n Text(0.260036557240509, 0.7, 'X[0] <= 0.039\\ngini = 0.444\\nsamples = 3\\nvalue = [2, 1]'),\n Text(0.2582615636757274, 0.6714285714285714, 'gini = 0.0\\nsamples = 1\\nvalue = [0, 1]'),\n Text(0.26181155080529067, 0.6714285714285714, 'gini = 0.0\\nsamples = 2\\nvalue = [2, 0]'),\n Text(0.2689115250644172, 0.7285714285714285, 'X[10] <= 0.008\\ngini = 0.172\\nsamples = 21\\nvalue = [2, 19]'),\n Text(0.26713653149963557, 0.7, 'X[8] <= 0.0\\ngini = 0.095\\nsamples = 20\\nvalue = [1, 19]'),\n Text(0.2653615379348539, 0.6714285714285714, 'gini = 0.0\\nsamples = 1\\nvalue = [1, 0]'),\n Text(0.2689115250644172, 0.6714285714285714, 'gini = 0.0\\nsamples = 19\\nvalue = [0, 19]'),\n Text(0.2706865186291988, 0.7, 'gini = 0.0\\nsamples = 1\\nvalue = [1, 0]'),\n Text(0.2742365057587621, 0.7571428571428571, 'X[0] <= 0.018\\ngini = 0.007\\nsamples = 303\\nvalue = [302, 1]'),\n Text(0.27246151219398046, 0.7285714285714285, 'gini = 0.0\\nsamples = 295\\nvalue = [295, 0]'),\n Text(0.2760114993235437, 0.7285714285714285, 'X[1] <= 0.003\\ngini = 0.219\\nsamples = 8\\nvalue = [7, 1]'),\n Text(0.2742365057587621, 0.7, 'gini = 0.0\\nsamples = 6\\nvalue = [6, 0]'),\n Text(0.27778649288832535, 0.7, 'X[3] <= 0.001\\ngini = 0.5\\nsamples = 2\\nvalue = [1, 1]'),\n Text(0.2760114993235437, 0.6714285714285714, 'gini = 0.0\\nsamples = 1\\nvalue = [1, 0]'),\n Text(0.27956148645310697, 0.6714285714285714, 'gini = 0.0\\nsamples = 1\\nvalue = [0, 1]'),\n Text(0.29675673661192903, 0.7857142857142857, 'X[10] <= 0.005\\ngini = 0.436\\nsamples = 162\\nvalue = [110, 52]'),\n Text(0.28488646714745186, 0.7571428571428571, 'X[15] <= 0.152\\ngini = 0.153\\nsamples = 24\\nvalue = [2, 22]'),\n Text(0.28311147358267025, 0.7285714285714285, 'X[0] <= 0.002\\ngini = 0.083\\nsamples = 23\\nvalue = [1, 22]'),\n Text(0.2813364800178886, 0.7, 'gini = 0.0\\nsamples = 14\\nvalue = [0, 14]'),\n Text(0.28488646714745186, 0.7, 'X[13] <= 0.016\\ngini = 0.198\\nsamples = 9\\nvalue = [1, 8]'),\n Text(0.28311147358267025, 0.6714285714285714, 'gini = 0.0\\nsamples = 1\\nvalue = [1, 0]'),\n Text(0.28666146071223353, 0.6714285714285714, 'gini = 0.0\\nsamples = 8\\nvalue = [0, 8]'),\n Text(0.28666146071223353, 0.7285714285714285, 'gini = 0.0\\nsamples = 1\\nvalue = [1, 0]'),\n Text(0.3086270060764062, 0.7571428571428571, 'X[3] <= 0.0\\ngini = 0.34\\nsamples = 138\\nvalue = [108, 30]'),\n Text(0.30041766083929117, 0.7285714285714285, 'X[9] <= 0.003\\ngini = 0.162\\nsamples = 101\\nvalue = [92, 9]'),\n Text(0.29464893175375084, 0.7, 'X[10] <= 0.006\\ngini = 0.066\\nsamples = 88\\nvalue = [85, 3]'),\n Text(0.29021144784179675, 0.6714285714285714, 'X[5] <= 0.0\\ngini = 0.5\\nsamples = 2\\nvalue = [1, 1]'),\n Text(0.28843645427701514, 0.6428571428571429, 'gini = 0.0\\nsamples = 1\\nvalue = [0, 1]'),\n Text(0.2919864414065784, 0.6428571428571429, 'gini = 0.0\\nsamples = 1\\nvalue = [1, 0]'),\n Text(0.29908641566570493, 0.6714285714285714, 'X[9] <= 0.002\\ngini = 0.045\\nsamples = 86\\nvalue = [84, 2]'),\n Text(0.29553642853614165, 0.6428571428571429, 'X[0] <= 0.001\\ngini = 0.026\\nsamples = 76\\nvalue = [75, 1]'),\n Text(0.29376143497136004, 0.6142857142857143, 'X[1] <= 0.0\\ngini = 0.062\\nsamples = 31\\nvalue = [30, 1]'),\n Text(0.2919864414065784, 0.5857142857142857, 'gini = 0.0\\nsamples = 5\\nvalue = [5, 0]'),\n Text(0.29553642853614165, 0.5857142857142857, 'X[1] <= 0.0\\ngini = 0.074\\nsamples = 26\\nvalue = [25, 1]'),\n Text(0.29376143497136004, 0.5571428571428572, 'X[0] <= 0.0\\ngini = 0.08\\nsamples = 24\\nvalue = [23, 1]'),\n Text(0.2919864414065784, 0.5285714285714286, 'gini = 0.0\\nsamples = 1\\nvalue = [1, 0]'),\n Text(0.29553642853614165, 0.5285714285714286, 'gini = 0.083\\nsamples = 23\\nvalue = [22, 1]'),\n Text(0.2973114221009233, 0.5571428571428572, 'gini = 0.0\\nsamples = 2\\nvalue = [2, 0]'),\n Text(0.2973114221009233, 0.6142857142857143, 'gini = 0.0\\nsamples = 45\\nvalue = [45, 0]'),\n Text(0.3026364027952682, 0.6428571428571429, 'X[1] <= 0.001\\ngini = 0.18\\nsamples = 10\\nvalue = [9, 1]'),\n Text(0.30086140923048654, 0.6142857142857143, 'gini = 0.0\\nsamples = 1\\nvalue = [0, 1]'),\n Text(0.3044113963600498, 0.6142857142857143, 'gini = 0.0\\nsamples = 9\\nvalue = [9, 0]'),\n Text(0.30618638992483144, 0.7, 'X[5] <= 0.0\\ngini = 0.497\\nsamples = 13\\nvalue = [7, 6]'),\n Text(0.3044113963600498, 0.6714285714285714, 'gini = 0.0\\nsamples = 6\\nvalue = [6, 0]'),\n Text(0.3079613834896131, 0.6714285714285714, 'X[0] <= 0.005\\ngini = 0.245\\nsamples = 7\\nvalue = [1, 6]'),\n Text(0.30618638992483144, 0.6428571428571429, 'gini = 0.0\\nsamples = 6\\nvalue = [0, 6]'),\n Text(0.3097363770543947, 0.6428571428571429, 'gini = 0.0\\nsamples = 1\\nvalue = [1, 0]'),\n Text(0.3168363513135212, 0.7285714285714285, 'X[10] <= 0.008\\ngini = 0.491\\nsamples = 37\\nvalue = [16, 21]'),\n Text(0.313286364183958, 0.7, 'X[12] <= 0.029\\ngini = 0.091\\nsamples = 21\\nvalue = [1, 20]'),\n Text(0.31151137061917633, 0.6714285714285714, 'gini = 0.0\\nsamples = 20\\nvalue = [0, 20]'),\n Text(0.3150613577487396, 0.6714285714285714, 'gini = 0.0\\nsamples = 1\\nvalue = [1, 0]'),\n Text(0.3203863384430845, 0.7, 'X[3] <= 0.0\\ngini = 0.117\\nsamples = 16\\nvalue = [15, 1]'),\n Text(0.3186113448783029, 0.6714285714285714, 'gini = 0.0\\nsamples = 1\\nvalue = [0, 1]'),\n Text(0.3221613320078661, 0.6714285714285714, 'gini = 0.0\\nsamples = 15\\nvalue = [15, 0]'),\n Text(0.35033935484877454, 0.8142857142857143, 'X[14] <= 0.479\\ngini = 0.497\\nsamples = 283\\nvalue = [152, 131]'),\n Text(0.34678936771921126, 0.7857142857142857, 'X[12] <= 0.026\\ngini = 0.487\\nsamples = 224\\nvalue = [94, 130]'),\n Text(0.34501437415442965, 0.7571428571428571, 'X[14] <= 0.445\\ngini = 0.455\\nsamples = 200\\nvalue = [70, 130]'),\n Text(0.3376925256997054, 0.7285714285714285, 'X[5] <= 0.001\\ngini = 0.5\\nsamples = 123\\nvalue = [63, 60]'),\n Text(0.3301488030493835, 0.7, 'X[1] <= 0.002\\ngini = 0.461\\nsamples = 86\\nvalue = [31, 55]'),\n Text(0.3257113191374294, 0.6714285714285714, 'X[0] <= 0.002\\ngini = 0.489\\nsamples = 47\\nvalue = [27, 20]'),\n Text(0.3221613320078661, 0.6428571428571429, 'X[2] <= 0.0\\ngini = 0.236\\nsamples = 22\\nvalue = [3, 19]'),\n Text(0.3203863384430845, 0.6142857142857143, 'gini = 0.0\\nsamples = 19\\nvalue = [0, 19]'),\n Text(0.3239363255726478, 0.6142857142857143, 'gini = 0.0\\nsamples = 3\\nvalue = [3, 0]'),\n Text(0.3292613062669927, 0.6428571428571429, 'X[0] <= 0.002\\ngini = 0.077\\nsamples = 25\\nvalue = [24, 1]'),\n Text(0.327486312702211, 0.6142857142857143, 'X[2] <= 0.0\\ngini = 0.444\\nsamples = 3\\nvalue = [2, 1]'),\n Text(0.3257113191374294, 0.5857142857142857, 'gini = 0.0\\nsamples = 1\\nvalue = [0, 1]'),\n Text(0.3292613062669927, 0.5857142857142857, 'gini = 0.0\\nsamples = 2\\nvalue = [2, 0]'),\n Text(0.3310362998317743, 0.6142857142857143, 'gini = 0.0\\nsamples = 22\\nvalue = [22, 0]'),\n Text(0.3345862869613376, 0.6714285714285714, 'X[13] <= 0.004\\ngini = 0.184\\nsamples = 39\\nvalue = [4, 35]'),\n Text(0.3328112933965559, 0.6428571428571429, 'gini = 0.0\\nsamples = 3\\nvalue = [3, 0]'),\n Text(0.3363612805261192, 0.6428571428571429, 'X[10] <= 0.007\\ngini = 0.054\\nsamples = 36\\nvalue = [1, 35]'),\n Text(0.3345862869613376, 0.6142857142857143, 'X[12] <= 0.021\\ngini = 0.32\\nsamples = 5\\nvalue = [1, 4]'),\n Text(0.3328112933965559, 0.5857142857142857, 'gini = 0.0\\nsamples = 4\\nvalue = [0, 4]'),\n Text(0.3363612805261192, 0.5857142857142857, 'gini = 0.0\\nsamples = 1\\nvalue = [1, 0]'),\n Text(0.3381362740909008, 0.6142857142857143, 'gini = 0.0\\nsamples = 31\\nvalue = [0, 31]'),\n Text(0.34523624835002736, 0.7, 'X[0] <= 0.018\\ngini = 0.234\\nsamples = 37\\nvalue = [32, 5]'),\n Text(0.3416862612204641, 0.6714285714285714, 'X[13] <= 0.018\\ngini = 0.067\\nsamples = 29\\nvalue = [28, 1]'),\n Text(0.33991126765568247, 0.6428571428571429, 'gini = 0.0\\nsamples = 28\\nvalue = [28, 0]'),\n Text(0.3434612547852457, 0.6428571428571429, 'gini = 0.0\\nsamples = 1\\nvalue = [0, 1]'),\n Text(0.3487862354795906, 0.6714285714285714, 'X[15] <= 0.19\\ngini = 0.5\\nsamples = 8\\nvalue = [4, 4]'),\n Text(0.347011241914809, 0.6428571428571429, 'gini = 0.0\\nsamples = 4\\nvalue = [4, 0]'),\n Text(0.35056122904437226, 0.6428571428571429, 'gini = 0.0\\nsamples = 4\\nvalue = [0, 4]'),\n Text(0.35233622260915387, 0.7285714285714285, 'X[11] <= 0.015\\ngini = 0.165\\nsamples = 77\\nvalue = [7, 70]'),\n Text(0.35056122904437226, 0.7, 'gini = 0.0\\nsamples = 3\\nvalue = [3, 0]'),\n Text(0.3541112161739355, 0.7, 'X[1] <= 0.001\\ngini = 0.102\\nsamples = 74\\nvalue = [4, 70]'),\n Text(0.35233622260915387, 0.6714285714285714, 'gini = 0.0\\nsamples = 1\\nvalue = [1, 0]'),\n Text(0.35588620973871715, 0.6714285714285714, 'X[1] <= 0.001\\ngini = 0.079\\nsamples = 73\\nvalue = [3, 70]'),\n Text(0.3541112161739355, 0.6428571428571429, 'X[2] <= 0.0\\ngini = 0.185\\nsamples = 29\\nvalue = [3, 26]'),\n Text(0.35233622260915387, 0.6142857142857143, 'X[3] <= 0.0\\ngini = 0.071\\nsamples = 27\\nvalue = [1, 26]'),\n Text(0.35056122904437226, 0.5857142857142857, 'X[2] <= 0.0\\ngini = 0.5\\nsamples = 2\\nvalue = [1, 1]'),\n Text(0.3487862354795906, 0.5571428571428572, 'gini = 0.0\\nsamples = 1\\nvalue = [1, 0]'),\n Text(0.35233622260915387, 0.5571428571428572, 'gini = 0.0\\nsamples = 1\\nvalue = [0, 1]'),\n Text(0.3541112161739355, 0.5857142857142857, 'gini = 0.0\\nsamples = 25\\nvalue = [0, 25]'),\n Text(0.35588620973871715, 0.6142857142857143, 'gini = 0.0\\nsamples = 2\\nvalue = [2, 0]'),\n Text(0.35766120330349876, 0.6428571428571429, 'gini = 0.0\\nsamples = 44\\nvalue = [0, 44]'),\n Text(0.34856436128399293, 0.7571428571428571, 'gini = 0.0\\nsamples = 24\\nvalue = [24, 0]'),\n Text(0.3538893419783378, 0.7857142857142857, 'X[9] <= 0.003\\ngini = 0.033\\nsamples = 59\\nvalue = [58, 1]'),\n Text(0.35211434841355616, 0.7571428571428571, 'gini = 0.0\\nsamples = 58\\nvalue = [58, 0]'),\n Text(0.35566433554311944, 0.7571428571428571, 'gini = 0.0\\nsamples = 1\\nvalue = [0, 1]'),\n Text(0.41263053526282994, 0.8428571428571429, 'X[3] <= 0.002\\ngini = 0.13\\nsamples = 2854\\nvalue = [2654, 200]'),\n Text(0.3767978526738007, 0.8142857142857143, 'X[1] <= 0.0\\ngini = 0.049\\nsamples = 1996\\nvalue = [1946, 50]'),\n Text(0.36476117756262527, 0.7857142857142857, 'X[5] <= 0.002\\ngini = 0.262\\nsamples = 129\\nvalue = [109, 20]'),\n Text(0.36121119043306205, 0.7571428571428571, 'X[7] <= 0.12\\ngini = 0.018\\nsamples = 109\\nvalue = [108, 1]'),\n Text(0.3594361968682804, 0.7285714285714285, 'X[0] <= 0.002\\ngini = 0.375\\nsamples = 4\\nvalue = [3, 1]'),\n Text(0.35766120330349876, 0.7, 'gini = 0.0\\nsamples = 2\\nvalue = [2, 0]'),\n Text(0.36121119043306205, 0.7, 'gini = 0.5\\nsamples = 2\\nvalue = [1, 1]'),\n Text(0.36298618399784366, 0.7285714285714285, 'gini = 0.0\\nsamples = 105\\nvalue = [105, 0]'),\n Text(0.36831116469218855, 0.7571428571428571, 'X[2] <= 0.0\\ngini = 0.095\\nsamples = 20\\nvalue = [1, 19]'),\n Text(0.36653617112740694, 0.7285714285714285, 'gini = 0.0\\nsamples = 1\\nvalue = [1, 0]'),\n Text(0.37008615825697017, 0.7285714285714285, 'gini = 0.0\\nsamples = 19\\nvalue = [0, 19]'),\n Text(0.3888345277849762, 0.7857142857142857, 'X[7] <= 0.119\\ngini = 0.032\\nsamples = 1867\\nvalue = [1837, 30]'),\n Text(0.37718613251609673, 0.7571428571428571, 'X[11] <= 0.009\\ngini = 0.219\\nsamples = 80\\nvalue = [70, 10]'),\n Text(0.37363614538653345, 0.7285714285714285, 'X[10] <= 0.005\\ngini = 0.375\\nsamples = 8\\nvalue = [2, 6]'),\n Text(0.37186115182175183, 0.7, 'X[1] <= 0.001\\ngini = 0.444\\nsamples = 3\\nvalue = [2, 1]'),\n Text(0.37008615825697017, 0.6714285714285714, 'X[5] <= 0.0\\ngini = 0.5\\nsamples = 2\\nvalue = [1, 1]'),\n Text(0.36831116469218855, 0.6428571428571429, 'gini = 0.0\\nsamples = 1\\nvalue = [1, 0]'),\n Text(0.37186115182175183, 0.6428571428571429, 'gini = 0.0\\nsamples = 1\\nvalue = [0, 1]'),\n Text(0.37363614538653345, 0.6714285714285714, 'gini = 0.0\\nsamples = 1\\nvalue = [1, 0]'),\n Text(0.37541113895131506, 0.7, 'gini = 0.0\\nsamples = 5\\nvalue = [0, 5]'),\n Text(0.38073611964565995, 0.7285714285714285, 'X[3] <= 0.001\\ngini = 0.105\\nsamples = 72\\nvalue = [68, 4]'),\n Text(0.37896112608087834, 0.7, 'gini = 0.0\\nsamples = 68\\nvalue = [68, 0]'),\n Text(0.3825111132104416, 0.7, 'gini = 0.0\\nsamples = 4\\nvalue = [0, 4]'),\n Text(0.40048292305385563, 0.7571428571428571, 'X[3] <= 0.0\\ngini = 0.022\\nsamples = 1787\\nvalue = [1767, 20]'),\n Text(0.39138608103434974, 0.7285714285714285, 'X[7] <= 0.121\\ngini = 0.003\\nsamples = 1154\\nvalue = [1152, 2]'),\n Text(0.38606110034000485, 0.7, 'X[7] <= 0.121\\ngini = 0.124\\nsamples = 15\\nvalue = [14, 1]'),\n Text(0.38428610677522324, 0.6714285714285714, 'gini = 0.0\\nsamples = 13\\nvalue = [13, 0]'),\n Text(0.3878360939047865, 0.6714285714285714, 'X[1] <= 0.001\\ngini = 0.5\\nsamples = 2\\nvalue = [1, 1]'),\n Text(0.38606110034000485, 0.6428571428571429, 'gini = 0.0\\nsamples = 1\\nvalue = [1, 0]'),\n Text(0.38961108746956813, 0.6428571428571429, 'gini = 0.0\\nsamples = 1\\nvalue = [0, 1]'),\n Text(0.39671106172869464, 0.7, 'X[7] <= 0.124\\ngini = 0.002\\nsamples = 1139\\nvalue = [1138, 1]'),\n Text(0.394936068163913, 0.6714285714285714, 'X[0] <= 0.019\\ngini = 0.028\\nsamples = 71\\nvalue = [70, 1]'),\n Text(0.3931610745991314, 0.6428571428571429, 'gini = 0.0\\nsamples = 70\\nvalue = [70, 0]'),\n Text(0.39671106172869464, 0.6428571428571429, 'gini = 0.0\\nsamples = 1\\nvalue = [0, 1]'),\n Text(0.3984860552934763, 0.6714285714285714, 'gini = 0.0\\nsamples = 1068\\nvalue = [1068, 0]'),\n Text(0.40957976507336147, 0.7285714285714285, 'X[3] <= 0.0\\ngini = 0.055\\nsamples = 633\\nvalue = [615, 18]'),\n Text(0.40780477150857986, 0.7, 'gini = 0.0\\nsamples = 2\\nvalue = [0, 2]'),\n Text(0.41135475863814314, 0.7, 'X[1] <= 0.004\\ngini = 0.049\\nsamples = 631\\nvalue = [615, 16]'),\n Text(0.404698532770212, 0.6714285714285714, 'X[10] <= 0.015\\ngini = 0.035\\nsamples = 617\\nvalue = [606, 11]'),\n Text(0.4002610488582579, 0.6428571428571429, 'X[3] <= 0.0\\ngini = 0.023\\nsamples = 590\\nvalue = [583, 7]'),\n Text(0.39671106172869464, 0.6142857142857143, 'X[1] <= 0.001\\ngini = 0.255\\nsamples = 20\\nvalue = [17, 3]'),\n Text(0.394936068163913, 0.5857142857142857, 'gini = 0.0\\nsamples = 17\\nvalue = [17, 0]'),\n Text(0.3984860552934763, 0.5857142857142857, 'gini = 0.0\\nsamples = 3\\nvalue = [0, 3]'),\n Text(0.4038110359878212, 0.6142857142857143, 'X[10] <= 0.011\\ngini = 0.014\\nsamples = 570\\nvalue = [566, 4]'),\n Text(0.40203604242303953, 0.5857142857142857, 'gini = 0.0\\nsamples = 422\\nvalue = [422, 0]'),\n Text(0.4055860295526028, 0.5857142857142857, 'X[10] <= 0.011\\ngini = 0.053\\nsamples = 148\\nvalue = [144, 4]'),\n Text(0.4038110359878212, 0.5571428571428572, 'gini = 0.0\\nsamples = 1\\nvalue = [0, 1]'),\n Text(0.4073610231173844, 0.5571428571428572, 'X[10] <= 0.011\\ngini = 0.04\\nsamples = 147\\nvalue = [144, 3]'),\n Text(0.4029235392054304, 0.5285714285714286, 'X[2] <= 0.0\\ngini = 0.375\\nsamples = 4\\nvalue = [3, 1]'),\n Text(0.4011485456406487, 0.5, 'gini = 0.0\\nsamples = 3\\nvalue = [3, 0]'),\n Text(0.404698532770212, 0.5, 'gini = 0.0\\nsamples = 1\\nvalue = [0, 1]'),\n Text(0.4117985070293385, 0.5285714285714286, 'X[3] <= 0.0\\ngini = 0.028\\nsamples = 143\\nvalue = [141, 2]'),\n Text(0.4082485198997753, 0.5, 'X[7] <= 0.143\\ngini = 0.278\\nsamples = 6\\nvalue = [5, 1]'),\n Text(0.4064735263349936, 0.4714285714285714, 'gini = 0.0\\nsamples = 1\\nvalue = [0, 1]'),\n Text(0.4100235134645569, 0.4714285714285714, 'gini = 0.0\\nsamples = 5\\nvalue = [5, 0]'),\n Text(0.4153484941589018, 0.5, 'X[11] <= 0.04\\ngini = 0.014\\nsamples = 137\\nvalue = [136, 1]'),\n Text(0.4135735005941202, 0.4714285714285714, 'gini = 0.0\\nsamples = 114\\nvalue = [114, 0]'),\n Text(0.4171234877236834, 0.4714285714285714, 'X[9] <= 0.001\\ngini = 0.083\\nsamples = 23\\nvalue = [22, 1]'),\n Text(0.4153484941589018, 0.44285714285714284, 'gini = 0.0\\nsamples = 1\\nvalue = [0, 1]'),\n Text(0.4188984812884651, 0.44285714285714284, 'gini = 0.0\\nsamples = 22\\nvalue = [22, 0]'),\n Text(0.4091360166821661, 0.6428571428571429, 'X[12] <= 0.026\\ngini = 0.252\\nsamples = 27\\nvalue = [23, 4]'),\n Text(0.4073610231173844, 0.6142857142857143, 'gini = 0.0\\nsamples = 2\\nvalue = [0, 2]'),\n Text(0.4109110102469477, 0.6142857142857143, 'X[7] <= 0.204\\ngini = 0.147\\nsamples = 25\\nvalue = [23, 2]'),\n Text(0.4091360166821661, 0.5857142857142857, 'gini = 0.0\\nsamples = 22\\nvalue = [22, 0]'),\n Text(0.4126860038117293, 0.5857142857142857, 'X[14] <= 0.487\\ngini = 0.444\\nsamples = 3\\nvalue = [1, 2]'),\n Text(0.4109110102469477, 0.5571428571428572, 'gini = 0.0\\nsamples = 1\\nvalue = [1, 0]'),\n Text(0.414460997376511, 0.5571428571428572, 'gini = 0.0\\nsamples = 2\\nvalue = [0, 2]'),\n Text(0.4180109845060742, 0.6714285714285714, 'X[8] <= 0.001\\ngini = 0.459\\nsamples = 14\\nvalue = [9, 5]'),\n Text(0.4162359909412926, 0.6428571428571429, 'X[15] <= 0.167\\ngini = 0.278\\nsamples = 6\\nvalue = [1, 5]'),\n Text(0.414460997376511, 0.6142857142857143, 'gini = 0.0\\nsamples = 1\\nvalue = [1, 0]'),\n Text(0.4180109845060742, 0.6142857142857143, 'gini = 0.0\\nsamples = 5\\nvalue = [0, 5]'),\n Text(0.4197859780708559, 0.6428571428571429, 'gini = 0.0\\nsamples = 8\\nvalue = [8, 0]'),\n Text(0.4484632178518591, 0.8142857142857143, 'X[15] <= 0.135\\ngini = 0.289\\nsamples = 858\\nvalue = [708, 150]'),\n Text(0.43997652987024694, 0.7857142857142857, 'X[2] <= 0.0\\ngini = 0.431\\nsamples = 54\\nvalue = [17, 37]'),\n Text(0.4382015363054653, 0.7571428571428571, 'gini = 0.0\\nsamples = 37\\nvalue = [0, 37]'),\n Text(0.44175152343502855, 0.7571428571428571, 'gini = 0.0\\nsamples = 17\\nvalue = [17, 0]'),\n Text(0.4569499058334713, 0.7857142857142857, 'X[9] <= 0.003\\ngini = 0.242\\nsamples = 804\\nvalue = [691, 113]'),\n Text(0.44530151056459183, 0.7571428571428571, 'X[11] <= 0.034\\ngini = 0.325\\nsamples = 548\\nvalue = [436, 112]'),\n Text(0.43576092015389056, 0.7285714285714285, 'X[3] <= 0.038\\ngini = 0.202\\nsamples = 385\\nvalue = [341, 44]'),\n Text(0.43043593945954567, 0.7, 'X[9] <= 0.0\\ngini = 0.172\\nsamples = 369\\nvalue = [334, 35]'),\n Text(0.4251109587652008, 0.6714285714285714, 'X[14] <= 0.335\\ngini = 0.009\\nsamples = 211\\nvalue = [210, 1]'),\n Text(0.4233359652004191, 0.6428571428571429, 'X[14] <= 0.33\\ngini = 0.245\\nsamples = 7\\nvalue = [6, 1]'),\n Text(0.4215609716356375, 0.6142857142857143, 'gini = 0.0\\nsamples = 6\\nvalue = [6, 0]'),\n Text(0.4251109587652008, 0.6142857142857143, 'gini = 0.0\\nsamples = 1\\nvalue = [0, 1]'),\n Text(0.4268859523299824, 0.6428571428571429, 'gini = 0.0\\nsamples = 204\\nvalue = [204, 0]'),\n Text(0.43576092015389056, 0.6714285714285714, 'X[11] <= 0.019\\ngini = 0.338\\nsamples = 158\\nvalue = [124, 34]'),\n Text(0.43043593945954567, 0.6428571428571429, 'X[11] <= 0.017\\ngini = 0.488\\nsamples = 38\\nvalue = [16, 22]'),\n Text(0.42866094589476406, 0.6142857142857143, 'gini = 0.0\\nsamples = 13\\nvalue = [13, 0]'),\n Text(0.4322109330243273, 0.6142857142857143, 'X[8] <= 0.003\\ngini = 0.211\\nsamples = 25\\nvalue = [3, 22]'),\n Text(0.43043593945954567, 0.5857142857142857, 'gini = 0.0\\nsamples = 20\\nvalue = [0, 20]'),\n Text(0.43398592658910895, 0.5857142857142857, 'X[1] <= 0.003\\ngini = 0.48\\nsamples = 5\\nvalue = [3, 2]'),\n Text(0.4322109330243273, 0.5571428571428572, 'gini = 0.0\\nsamples = 2\\nvalue = [2, 0]'),\n Text(0.43576092015389056, 0.5571428571428572, 'X[3] <= 0.005\\ngini = 0.444\\nsamples = 3\\nvalue = [1, 2]'),\n Text(0.43398592658910895, 0.5285714285714286, 'gini = 0.0\\nsamples = 2\\nvalue = [0, 2]'),\n Text(0.4375359137186722, 0.5285714285714286, 'gini = 0.0\\nsamples = 1\\nvalue = [1, 0]'),\n Text(0.44108590084823546, 0.6428571428571429, 'X[1] <= 0.003\\ngini = 0.18\\nsamples = 120\\nvalue = [108, 12]'),\n Text(0.43931090728345384, 0.6142857142857143, 'gini = 0.0\\nsamples = 101\\nvalue = [101, 0]'),\n Text(0.44286089441301707, 0.6142857142857143, 'X[9] <= 0.002\\ngini = 0.465\\nsamples = 19\\nvalue = [7, 12]'),\n Text(0.44108590084823546, 0.5857142857142857, 'X[15] <= 0.161\\ngini = 0.245\\nsamples = 14\\nvalue = [2, 12]'),\n Text(0.43931090728345384, 0.5571428571428572, 'gini = 0.0\\nsamples = 2\\nvalue = [2, 0]'),\n Text(0.44286089441301707, 0.5571428571428572, 'gini = 0.0\\nsamples = 12\\nvalue = [0, 12]'),\n Text(0.44463588797779874, 0.5857142857142857, 'gini = 0.0\\nsamples = 5\\nvalue = [5, 0]'),\n Text(0.44108590084823546, 0.7, 'X[10] <= 0.003\\ngini = 0.492\\nsamples = 16\\nvalue = [7, 9]'),\n Text(0.43931090728345384, 0.6714285714285714, 'gini = 0.0\\nsamples = 7\\nvalue = [7, 0]'),\n Text(0.44286089441301707, 0.6714285714285714, 'gini = 0.0\\nsamples = 9\\nvalue = [0, 9]'),\n Text(0.4548421009752931, 0.7285714285714285, 'X[14] <= 0.547\\ngini = 0.486\\nsamples = 163\\nvalue = [95, 68]'),\n Text(0.44818587510736196, 0.7, 'X[8] <= 0.728\\ngini = 0.043\\nsamples = 46\\nvalue = [45, 1]'),\n Text(0.44641088154258035, 0.6714285714285714, 'gini = 0.0\\nsamples = 40\\nvalue = [40, 0]'),\n Text(0.44996086867214363, 0.6714285714285714, 'X[0] <= 0.051\\ngini = 0.278\\nsamples = 6\\nvalue = [5, 1]'),\n Text(0.44818587510736196, 0.6428571428571429, 'gini = 0.0\\nsamples = 5\\nvalue = [5, 0]'),\n Text(0.45173586223692525, 0.6428571428571429, 'gini = 0.0\\nsamples = 1\\nvalue = [0, 1]'),\n Text(0.4614983268432242, 0.7, 'X[14] <= 0.69\\ngini = 0.489\\nsamples = 117\\nvalue = [50, 67]'),\n Text(0.45706084293127014, 0.6714285714285714, 'X[12] <= 0.043\\ngini = 0.405\\nsamples = 92\\nvalue = [26, 66]'),\n Text(0.4552858493664885, 0.6428571428571429, 'X[7] <= 0.205\\ngini = 0.211\\nsamples = 75\\nvalue = [9, 66]'),\n Text(0.45173586223692525, 0.6142857142857143, 'X[14] <= 0.642\\ngini = 0.444\\nsamples = 12\\nvalue = [8, 4]'),\n Text(0.44996086867214363, 0.5857142857142857, 'gini = 0.0\\nsamples = 7\\nvalue = [7, 0]'),\n Text(0.45351085580170686, 0.5857142857142857, 'X[3] <= 0.005\\ngini = 0.32\\nsamples = 5\\nvalue = [1, 4]'),\n Text(0.45173586223692525, 0.5571428571428572, 'gini = 0.0\\nsamples = 1\\nvalue = [1, 0]'),\n Text(0.4552858493664885, 0.5571428571428572, 'gini = 0.0\\nsamples = 4\\nvalue = [0, 4]'),\n Text(0.45883583649605175, 0.6142857142857143, 'X[5] <= 0.006\\ngini = 0.031\\nsamples = 63\\nvalue = [1, 62]'),\n Text(0.45706084293127014, 0.5857142857142857, 'gini = 0.0\\nsamples = 62\\nvalue = [0, 62]'),\n Text(0.4606108300608334, 0.5857142857142857, 'gini = 0.0\\nsamples = 1\\nvalue = [1, 0]'),\n Text(0.45883583649605175, 0.6428571428571429, 'gini = 0.0\\nsamples = 17\\nvalue = [17, 0]'),\n Text(0.4659358107551783, 0.6714285714285714, 'X[3] <= 0.003\\ngini = 0.077\\nsamples = 25\\nvalue = [24, 1]'),\n Text(0.46416081719039665, 0.6428571428571429, 'X[12] <= 0.031\\ngini = 0.375\\nsamples = 4\\nvalue = [3, 1]'),\n Text(0.46238582362561503, 0.6142857142857143, 'gini = 0.0\\nsamples = 2\\nvalue = [2, 0]'),\n Text(0.4659358107551783, 0.6142857142857143, 'X[0] <= 0.018\\ngini = 0.5\\nsamples = 2\\nvalue = [1, 1]'),\n Text(0.46416081719039665, 0.5857142857142857, 'gini = 0.0\\nsamples = 1\\nvalue = [0, 1]'),\n Text(0.4677108043199599, 0.5857142857142857, 'gini = 0.0\\nsamples = 1\\nvalue = [1, 0]'),\n Text(0.4677108043199599, 0.6428571428571429, 'gini = 0.0\\nsamples = 21\\nvalue = [21, 0]'),\n Text(0.46859830110235073, 0.7571428571428571, 'X[12] <= 0.013\\ngini = 0.008\\nsamples = 256\\nvalue = [255, 1]'),\n Text(0.4668233075375691, 0.7285714285714285, 'X[13] <= 0.005\\ngini = 0.18\\nsamples = 10\\nvalue = [9, 1]'),\n Text(0.46504831397278745, 0.7, 'gini = 0.0\\nsamples = 9\\nvalue = [9, 0]'),\n Text(0.46859830110235073, 0.7, 'gini = 0.0\\nsamples = 1\\nvalue = [0, 1]'),\n Text(0.47037329466713235, 0.7285714285714285, 'gini = 0.0\\nsamples = 246\\nvalue = [246, 0]'),\n Text(0.5186274654253268, 0.8714285714285714, 'X[14] <= 0.485\\ngini = 0.479\\nsamples = 1939\\nvalue = [1169, 770]'),\n Text(0.49039050725121275, 0.8428571428571429, 'X[8] <= 0.021\\ngini = 0.482\\nsamples = 1011\\nvalue = [409, 602]'),\n Text(0.4774732689262589, 0.8142857142857143, 'X[2] <= 0.001\\ngini = 0.399\\nsamples = 352\\nvalue = [255, 97]'),\n Text(0.47392328179669563, 0.7857142857142857, 'X[6] <= 0.0\\ngini = 0.073\\nsamples = 262\\nvalue = [252, 10]'),\n Text(0.472148288231914, 0.7571428571428571, 'gini = 0.0\\nsamples = 10\\nvalue = [0, 10]'),\n Text(0.47569827536147724, 0.7571428571428571, 'gini = 0.0\\nsamples = 252\\nvalue = [252, 0]'),\n Text(0.48102325605582213, 0.7857142857142857, 'X[6] <= 0.003\\ngini = 0.064\\nsamples = 90\\nvalue = [3, 87]'),\n Text(0.4792482624910405, 0.7571428571428571, 'gini = 0.0\\nsamples = 87\\nvalue = [0, 87]'),\n Text(0.4827982496206038, 0.7571428571428571, 'gini = 0.0\\nsamples = 3\\nvalue = [3, 0]'),\n Text(0.5033077455761665, 0.8142857142857143, 'X[13] <= 0.023\\ngini = 0.358\\nsamples = 659\\nvalue = [154, 505]'),\n Text(0.5015327520113849, 0.7857142857142857, 'X[11] <= 0.016\\ngini = 0.312\\nsamples = 626\\nvalue = [121, 505]'),\n Text(0.48634823675016703, 0.7571428571428571, 'X[1] <= 0.001\\ngini = 0.493\\nsamples = 139\\nvalue = [61, 78]'),\n Text(0.48013575927343133, 0.7285714285714285, 'X[2] <= 0.0\\ngini = 0.34\\nsamples = 92\\nvalue = [20, 72]'),\n Text(0.4783607657086497, 0.7, 'gini = 0.0\\nsamples = 9\\nvalue = [9, 0]'),\n Text(0.481910752838213, 0.7, 'X[5] <= 0.001\\ngini = 0.23\\nsamples = 83\\nvalue = [11, 72]'),\n Text(0.48013575927343133, 0.6714285714285714, 'X[2] <= 0.0\\ngini = 0.198\\nsamples = 81\\nvalue = [9, 72]'),\n Text(0.4765857721438681, 0.6428571428571429, 'X[0] <= 0.002\\ngini = 0.444\\nsamples = 18\\nvalue = [6, 12]'),\n Text(0.47481077857908643, 0.6142857142857143, 'gini = 0.0\\nsamples = 12\\nvalue = [0, 12]'),\n Text(0.4783607657086497, 0.6142857142857143, 'gini = 0.0\\nsamples = 6\\nvalue = [6, 0]'),\n Text(0.4836857464029946, 0.6428571428571429, 'X[3] <= 0.0\\ngini = 0.091\\nsamples = 63\\nvalue = [3, 60]'),\n Text(0.481910752838213, 0.6142857142857143, 'X[0] <= 0.002\\ngini = 0.211\\nsamples = 25\\nvalue = [3, 22]'),\n Text(0.48013575927343133, 0.5857142857142857, 'gini = 0.0\\nsamples = 20\\nvalue = [0, 20]'),\n Text(0.4836857464029946, 0.5857142857142857, 'X[9] <= 0.0\\ngini = 0.48\\nsamples = 5\\nvalue = [3, 2]'),\n Text(0.481910752838213, 0.5571428571428572, 'gini = 0.0\\nsamples = 1\\nvalue = [0, 1]'),\n Text(0.4854607399677762, 0.5571428571428572, 'X[2] <= 0.0\\ngini = 0.375\\nsamples = 4\\nvalue = [3, 1]'),\n Text(0.4836857464029946, 0.5285714285714286, 'gini = 0.0\\nsamples = 1\\nvalue = [1, 0]'),\n Text(0.4872357335325579, 0.5285714285714286, 'X[6] <= 0.0\\ngini = 0.444\\nsamples = 3\\nvalue = [2, 1]'),\n Text(0.4854607399677762, 0.5, 'gini = 0.5\\nsamples = 2\\nvalue = [1, 1]'),\n Text(0.4890107270973395, 0.5, 'gini = 0.0\\nsamples = 1\\nvalue = [1, 0]'),\n Text(0.4854607399677762, 0.6142857142857143, 'gini = 0.0\\nsamples = 38\\nvalue = [0, 38]'),\n Text(0.4836857464029946, 0.6714285714285714, 'gini = 0.0\\nsamples = 2\\nvalue = [2, 0]'),\n Text(0.4925607142269028, 0.7285714285714285, 'X[5] <= 0.0\\ngini = 0.223\\nsamples = 47\\nvalue = [41, 6]'),\n Text(0.4890107270973395, 0.7, 'X[6] <= 0.001\\ngini = 0.061\\nsamples = 32\\nvalue = [31, 1]'),\n Text(0.4872357335325579, 0.6714285714285714, 'gini = 0.0\\nsamples = 27\\nvalue = [27, 0]'),\n Text(0.4907857206621211, 0.6714285714285714, 'X[6] <= 0.002\\ngini = 0.32\\nsamples = 5\\nvalue = [4, 1]'),\n Text(0.4890107270973395, 0.6428571428571429, 'gini = 0.5\\nsamples = 2\\nvalue = [1, 1]'),\n Text(0.4925607142269028, 0.6428571428571429, 'gini = 0.0\\nsamples = 3\\nvalue = [3, 0]'),\n Text(0.496110701356466, 0.7, 'X[0] <= 0.002\\ngini = 0.444\\nsamples = 15\\nvalue = [10, 5]'),\n Text(0.4943357077916844, 0.6714285714285714, 'gini = 0.0\\nsamples = 3\\nvalue = [0, 3]'),\n Text(0.4978856949212477, 0.6714285714285714, 'X[2] <= 0.0\\ngini = 0.278\\nsamples = 12\\nvalue = [10, 2]'),\n Text(0.496110701356466, 0.6428571428571429, 'gini = 0.0\\nsamples = 9\\nvalue = [9, 0]'),\n Text(0.4996606884860293, 0.6428571428571429, 'X[5] <= 0.001\\ngini = 0.444\\nsamples = 3\\nvalue = [1, 2]'),\n Text(0.4978856949212477, 0.6142857142857143, 'gini = 0.0\\nsamples = 1\\nvalue = [0, 1]'),\n Text(0.5014356820508109, 0.6142857142857143, 'gini = 0.5\\nsamples = 2\\nvalue = [1, 1]'),\n Text(0.5167172672726028, 0.7571428571428571, 'X[9] <= 0.005\\ngini = 0.216\\nsamples = 487\\nvalue = [60, 427]'),\n Text(0.5149422737078212, 0.7285714285714285, 'X[5] <= 0.006\\ngini = 0.182\\nsamples = 475\\nvalue = [48, 427]'),\n Text(0.5131672801430395, 0.7, 'X[10] <= 0.002\\ngini = 0.157\\nsamples = 467\\nvalue = [40, 427]'),\n Text(0.5049856691803742, 0.6714285714285714, 'X[3] <= 0.0\\ngini = 0.278\\nsamples = 6\\nvalue = [5, 1]'),\n Text(0.5032106756155925, 0.6428571428571429, 'gini = 0.0\\nsamples = 4\\nvalue = [4, 0]'),\n Text(0.5067606627451559, 0.6428571428571429, 'X[3] <= 0.001\\ngini = 0.5\\nsamples = 2\\nvalue = [1, 1]'),\n Text(0.5049856691803742, 0.6142857142857143, 'gini = 0.0\\nsamples = 1\\nvalue = [0, 1]'),\n Text(0.5085356563099375, 0.6142857142857143, 'gini = 0.0\\nsamples = 1\\nvalue = [1, 0]'),\n Text(0.5213488911057048, 0.6714285714285714, 'X[12] <= 0.01\\ngini = 0.14\\nsamples = 461\\nvalue = [35, 426]'),\n Text(0.5195738975409232, 0.6428571428571429, 'gini = 0.0\\nsamples = 4\\nvalue = [4, 0]'),\n Text(0.5231238846704865, 0.6428571428571429, 'X[1] <= 0.002\\ngini = 0.126\\nsamples = 457\\nvalue = [31, 426]'),\n Text(0.5120856434395007, 0.6142857142857143, 'X[5] <= 0.0\\ngini = 0.021\\nsamples = 281\\nvalue = [3, 278]'),\n Text(0.5085356563099375, 0.5857142857142857, 'X[12] <= 0.03\\ngini = 0.444\\nsamples = 3\\nvalue = [2, 1]'),\n Text(0.5067606627451559, 0.5571428571428572, 'gini = 0.0\\nsamples = 2\\nvalue = [2, 0]'),\n Text(0.5103106498747191, 0.5571428571428572, 'gini = 0.0\\nsamples = 1\\nvalue = [0, 1]'),\n Text(0.515635630569064, 0.5857142857142857, 'X[3] <= 0.002\\ngini = 0.007\\nsamples = 278\\nvalue = [1, 277]'),\n Text(0.5138606370042823, 0.5571428571428572, 'gini = 0.0\\nsamples = 268\\nvalue = [0, 268]'),\n Text(0.5174106241338456, 0.5571428571428572, 'X[7] <= 0.205\\ngini = 0.18\\nsamples = 10\\nvalue = [1, 9]'),\n Text(0.515635630569064, 0.5285714285714286, 'gini = 0.0\\nsamples = 9\\nvalue = [0, 9]'),\n Text(0.5191856176986273, 0.5285714285714286, 'gini = 0.0\\nsamples = 1\\nvalue = [1, 0]'),\n Text(0.5341621259014723, 0.6142857142857143, 'X[3] <= 0.0\\ngini = 0.268\\nsamples = 176\\nvalue = [28, 148]'),\n Text(0.5280605855225354, 0.5857142857142857, 'X[2] <= 0.0\\ngini = 0.473\\nsamples = 26\\nvalue = [16, 10]'),\n Text(0.5245105983929721, 0.5571428571428572, 'X[10] <= 0.011\\ngini = 0.278\\nsamples = 18\\nvalue = [15, 3]'),\n Text(0.5227356048281905, 0.5285714285714286, 'X[9] <= 0.004\\ngini = 0.117\\nsamples = 16\\nvalue = [15, 1]'),\n Text(0.5209606112634089, 0.5, 'gini = 0.0\\nsamples = 11\\nvalue = [11, 0]'),\n Text(0.5245105983929721, 0.5, 'X[5] <= 0.001\\ngini = 0.32\\nsamples = 5\\nvalue = [4, 1]'),\n Text(0.5227356048281905, 0.4714285714285714, 'X[1] <= 0.004\\ngini = 0.5\\nsamples = 2\\nvalue = [1, 1]'),\n Text(0.5209606112634089, 0.44285714285714284, 'gini = 0.0\\nsamples = 1\\nvalue = [0, 1]'),\n Text(0.5245105983929721, 0.44285714285714284, 'gini = 0.0\\nsamples = 1\\nvalue = [1, 0]'),\n Text(0.5262855919577538, 0.4714285714285714, 'gini = 0.0\\nsamples = 3\\nvalue = [3, 0]'),\n Text(0.5262855919577538, 0.5285714285714286, 'gini = 0.0\\nsamples = 2\\nvalue = [0, 2]'),\n Text(0.5316105726520987, 0.5571428571428572, 'X[0] <= 0.009\\ngini = 0.219\\nsamples = 8\\nvalue = [1, 7]'),\n Text(0.529835579087317, 0.5285714285714286, 'gini = 0.0\\nsamples = 1\\nvalue = [1, 0]'),\n Text(0.5333855662168803, 0.5285714285714286, 'gini = 0.0\\nsamples = 7\\nvalue = [0, 7]'),\n Text(0.5402636662804091, 0.5857142857142857, 'X[15] <= 0.145\\ngini = 0.147\\nsamples = 150\\nvalue = [12, 138]'),\n Text(0.5384886727156275, 0.5571428571428572, 'gini = 0.0\\nsamples = 3\\nvalue = [3, 0]'),\n Text(0.5420386598451907, 0.5571428571428572, 'X[6] <= 0.006\\ngini = 0.115\\nsamples = 147\\nvalue = [9, 138]'),\n Text(0.5369355533464436, 0.5285714285714286, 'X[10] <= 0.003\\ngini = 0.092\\nsamples = 144\\nvalue = [7, 137]'),\n Text(0.5320543210432941, 0.5, 'X[6] <= 0.003\\ngini = 0.444\\nsamples = 3\\nvalue = [2, 1]'),\n Text(0.5302793274785125, 0.4714285714285714, 'gini = 0.0\\nsamples = 2\\nvalue = [2, 0]'),\n Text(0.5338293146080757, 0.4714285714285714, 'gini = 0.0\\nsamples = 1\\nvalue = [0, 1]'),\n Text(0.541816785649593, 0.5, 'X[1] <= 0.002\\ngini = 0.068\\nsamples = 141\\nvalue = [5, 136]'),\n Text(0.5373793017376389, 0.4714285714285714, 'X[13] <= 0.018\\ngini = 0.5\\nsamples = 2\\nvalue = [1, 1]'),\n Text(0.5356043081728573, 0.44285714285714284, 'gini = 0.0\\nsamples = 1\\nvalue = [1, 0]'),\n Text(0.5391542953024206, 0.44285714285714284, 'gini = 0.0\\nsamples = 1\\nvalue = [0, 1]'),\n Text(0.5462542695615471, 0.4714285714285714, 'X[0] <= 0.007\\ngini = 0.056\\nsamples = 139\\nvalue = [4, 135]'),\n Text(0.5427042824319839, 0.44285714285714284, 'X[10] <= 0.009\\ngini = 0.5\\nsamples = 2\\nvalue = [1, 1]'),\n Text(0.5409292888672023, 0.4142857142857143, 'gini = 0.0\\nsamples = 1\\nvalue = [0, 1]'),\n Text(0.5444792759967655, 0.4142857142857143, 'gini = 0.0\\nsamples = 1\\nvalue = [1, 0]'),\n Text(0.5498042566911104, 0.44285714285714284, 'X[9] <= 0.004\\ngini = 0.043\\nsamples = 137\\nvalue = [3, 134]'),\n Text(0.5480292631263287, 0.4142857142857143, 'gini = 0.0\\nsamples = 101\\nvalue = [0, 101]'),\n Text(0.551579250255892, 0.4142857142857143, 'X[3] <= 0.002\\ngini = 0.153\\nsamples = 36\\nvalue = [3, 33]'),\n Text(0.5498042566911104, 0.38571428571428573, 'gini = 0.0\\nsamples = 32\\nvalue = [0, 32]'),\n Text(0.5533542438206737, 0.38571428571428573, 'X[0] <= 0.016\\ngini = 0.375\\nsamples = 4\\nvalue = [3, 1]'),\n Text(0.551579250255892, 0.35714285714285715, 'gini = 0.0\\nsamples = 2\\nvalue = [2, 0]'),\n Text(0.5551292373854553, 0.35714285714285715, 'X[2] <= 0.0\\ngini = 0.5\\nsamples = 2\\nvalue = [1, 1]'),\n Text(0.5533542438206737, 0.32857142857142857, 'gini = 0.0\\nsamples = 1\\nvalue = [1, 0]'),\n Text(0.5569042309502369, 0.32857142857142857, 'gini = 0.0\\nsamples = 1\\nvalue = [0, 1]'),\n Text(0.547141766343938, 0.5285714285714286, 'X[1] <= 0.02\\ngini = 0.444\\nsamples = 3\\nvalue = [2, 1]'),\n Text(0.5453667727791564, 0.5, 'gini = 0.0\\nsamples = 2\\nvalue = [2, 0]'),\n Text(0.5489167599087196, 0.5, 'gini = 0.0\\nsamples = 1\\nvalue = [0, 1]'),\n Text(0.5167172672726028, 0.7, 'gini = 0.0\\nsamples = 8\\nvalue = [8, 0]'),\n Text(0.5184922608373844, 0.7285714285714285, 'gini = 0.0\\nsamples = 12\\nvalue = [12, 0]'),\n Text(0.5050827391409481, 0.7857142857142857, 'gini = 0.0\\nsamples = 33\\nvalue = [33, 0]'),\n Text(0.5468644235994408, 0.8428571428571429, 'X[2] <= 0.0\\ngini = 0.297\\nsamples = 928\\nvalue = [760, 168]'),\n Text(0.5260637177621561, 0.8142857142857143, 'X[6] <= 0.0\\ngini = 0.048\\nsamples = 528\\nvalue = [515, 13]'),\n Text(0.5242887241973744, 0.7857142857142857, 'gini = 0.0\\nsamples = 4\\nvalue = [0, 4]'),\n Text(0.5278387113269377, 0.7857142857142857, 'X[14] <= 0.829\\ngini = 0.034\\nsamples = 524\\nvalue = [515, 9]'),\n Text(0.5260637177621561, 0.7571428571428571, 'gini = 0.0\\nsamples = 459\\nvalue = [459, 0]'),\n Text(0.5296137048917193, 0.7571428571428571, 'X[1] <= 0.001\\ngini = 0.239\\nsamples = 65\\nvalue = [56, 9]'),\n Text(0.5278387113269377, 0.7285714285714285, 'X[7] <= 0.175\\ngini = 0.375\\nsamples = 12\\nvalue = [3, 9]'),\n Text(0.5260637177621561, 0.7, 'gini = 0.0\\nsamples = 9\\nvalue = [0, 9]'),\n Text(0.5296137048917193, 0.7, 'gini = 0.0\\nsamples = 3\\nvalue = [3, 0]'),\n Text(0.5313886984565009, 0.7285714285714285, 'gini = 0.0\\nsamples = 53\\nvalue = [53, 0]'),\n Text(0.5676651294367255, 0.8142857142857143, 'X[6] <= 0.001\\ngini = 0.475\\nsamples = 400\\nvalue = [245, 155]'),\n Text(0.5498042566911104, 0.7857142857142857, 'X[0] <= 0.006\\ngini = 0.478\\nsamples = 231\\nvalue = [91, 140]'),\n Text(0.5367136791508459, 0.7571428571428571, 'X[6] <= 0.0\\ngini = 0.211\\nsamples = 50\\nvalue = [44, 6]'),\n Text(0.5349386855860642, 0.7285714285714285, 'gini = 0.0\\nsamples = 5\\nvalue = [0, 5]'),\n Text(0.5384886727156275, 0.7285714285714285, 'X[1] <= 0.002\\ngini = 0.043\\nsamples = 45\\nvalue = [44, 1]'),\n Text(0.5367136791508459, 0.7, 'gini = 0.0\\nsamples = 43\\nvalue = [43, 0]'),\n Text(0.5402636662804091, 0.7, 'X[1] <= 0.002\\ngini = 0.5\\nsamples = 2\\nvalue = [1, 1]'),\n Text(0.5384886727156275, 0.6714285714285714, 'gini = 0.0\\nsamples = 1\\nvalue = [0, 1]'),\n Text(0.5420386598451907, 0.6714285714285714, 'gini = 0.0\\nsamples = 1\\nvalue = [1, 0]'),\n Text(0.5628948342313749, 0.7571428571428571, 'X[10] <= 0.01\\ngini = 0.384\\nsamples = 181\\nvalue = [47, 134]'),\n Text(0.5611198406665933, 0.7285714285714285, 'X[5] <= 0.0\\ngini = 0.498\\nsamples = 100\\nvalue = [47, 53]'),\n Text(0.5509136276690989, 0.7, 'X[0] <= 0.012\\ngini = 0.31\\nsamples = 47\\nvalue = [9, 38]'),\n Text(0.545588646974754, 0.6714285714285714, 'X[3] <= 0.0\\ngini = 0.494\\nsamples = 18\\nvalue = [8, 10]'),\n Text(0.5438136534099723, 0.6428571428571429, 'gini = 0.0\\nsamples = 9\\nvalue = [0, 9]'),\n Text(0.5473636405395357, 0.6428571428571429, 'X[3] <= 0.0\\ngini = 0.198\\nsamples = 9\\nvalue = [8, 1]'),\n Text(0.545588646974754, 0.6142857142857143, 'X[2] <= 0.0\\ngini = 0.5\\nsamples = 2\\nvalue = [1, 1]'),\n Text(0.5438136534099723, 0.5857142857142857, 'gini = 0.0\\nsamples = 1\\nvalue = [0, 1]'),\n Text(0.5473636405395357, 0.5857142857142857, 'gini = 0.0\\nsamples = 1\\nvalue = [1, 0]'),\n Text(0.5491386341043173, 0.6142857142857143, 'gini = 0.0\\nsamples = 7\\nvalue = [7, 0]'),\n Text(0.5562386083634439, 0.6714285714285714, 'X[0] <= 0.015\\ngini = 0.067\\nsamples = 29\\nvalue = [1, 28]'),\n Text(0.5544636147986621, 0.6428571428571429, 'X[3] <= 0.003\\ngini = 0.32\\nsamples = 5\\nvalue = [1, 4]'),\n Text(0.5526886212338805, 0.6142857142857143, 'gini = 0.0\\nsamples = 4\\nvalue = [0, 4]'),\n Text(0.5562386083634439, 0.6142857142857143, 'gini = 0.0\\nsamples = 1\\nvalue = [1, 0]'),\n Text(0.5580136019282255, 0.6428571428571429, 'gini = 0.0\\nsamples = 24\\nvalue = [0, 24]'),\n Text(0.5713260536640876, 0.7, 'X[8] <= 0.054\\ngini = 0.406\\nsamples = 53\\nvalue = [38, 15]'),\n Text(0.5651135761873519, 0.6714285714285714, 'X[1] <= 0.003\\ngini = 0.188\\nsamples = 38\\nvalue = [34, 4]'),\n Text(0.5615635890577887, 0.6428571428571429, 'X[7] <= 0.137\\ngini = 0.057\\nsamples = 34\\nvalue = [33, 1]'),\n Text(0.5597885954930071, 0.6142857142857143, 'X[3] <= 0.001\\ngini = 0.32\\nsamples = 5\\nvalue = [4, 1]'),\n Text(0.5580136019282255, 0.5857142857142857, 'gini = 0.0\\nsamples = 1\\nvalue = [0, 1]'),\n Text(0.5615635890577887, 0.5857142857142857, 'gini = 0.0\\nsamples = 4\\nvalue = [4, 0]'),\n Text(0.5633385826225703, 0.6142857142857143, 'gini = 0.0\\nsamples = 29\\nvalue = [29, 0]'),\n Text(0.5686635633169153, 0.6428571428571429, 'X[13] <= 0.012\\ngini = 0.375\\nsamples = 4\\nvalue = [1, 3]'),\n Text(0.5668885697521336, 0.6142857142857143, 'gini = 0.0\\nsamples = 1\\nvalue = [1, 0]'),\n Text(0.5704385568816969, 0.6142857142857143, 'gini = 0.0\\nsamples = 3\\nvalue = [0, 3]'),\n Text(0.5775385311408234, 0.6714285714285714, 'X[10] <= 0.009\\ngini = 0.391\\nsamples = 15\\nvalue = [4, 11]'),\n Text(0.5757635375760417, 0.6428571428571429, 'X[13] <= 0.0\\ngini = 0.153\\nsamples = 12\\nvalue = [1, 11]'),\n Text(0.5739885440112601, 0.6142857142857143, 'gini = 0.0\\nsamples = 1\\nvalue = [1, 0]'),\n Text(0.5775385311408234, 0.6142857142857143, 'gini = 0.0\\nsamples = 11\\nvalue = [0, 11]'),\n Text(0.579313524705605, 0.6428571428571429, 'gini = 0.0\\nsamples = 3\\nvalue = [3, 0]'),\n Text(0.5646698277961566, 0.7285714285714285, 'gini = 0.0\\nsamples = 81\\nvalue = [0, 81]'),\n Text(0.5855260021823407, 0.7857142857142857, 'X[10] <= 0.002\\ngini = 0.162\\nsamples = 169\\nvalue = [154, 15]'),\n Text(0.579313524705605, 0.7571428571428571, 'X[6] <= 0.002\\ngini = 0.49\\nsamples = 21\\nvalue = [9, 12]'),\n Text(0.5775385311408234, 0.7285714285714285, 'gini = 0.0\\nsamples = 10\\nvalue = [0, 10]'),\n Text(0.5810885182703867, 0.7285714285714285, 'X[3] <= 0.004\\ngini = 0.298\\nsamples = 11\\nvalue = [9, 2]'),\n Text(0.579313524705605, 0.7, 'gini = 0.0\\nsamples = 7\\nvalue = [7, 0]'),\n Text(0.5828635118351683, 0.7, 'X[0] <= 0.036\\ngini = 0.5\\nsamples = 4\\nvalue = [2, 2]'),\n Text(0.5810885182703867, 0.6714285714285714, 'gini = 0.0\\nsamples = 2\\nvalue = [0, 2]'),\n Text(0.5846385053999499, 0.6714285714285714, 'gini = 0.0\\nsamples = 2\\nvalue = [2, 0]'),\n Text(0.5917384796590764, 0.7571428571428571, 'X[2] <= 0.0\\ngini = 0.04\\nsamples = 148\\nvalue = [145, 3]'),\n Text(0.5881884925295132, 0.7285714285714285, 'X[1] <= 0.002\\ngini = 0.5\\nsamples = 4\\nvalue = [2, 2]'),\n Text(0.5864134989647315, 0.7, 'gini = 0.0\\nsamples = 2\\nvalue = [0, 2]'),\n Text(0.5899634860942948, 0.7, 'gini = 0.0\\nsamples = 2\\nvalue = [2, 0]'),\n Text(0.5952884667886397, 0.7285714285714285, 'X[7] <= 0.112\\ngini = 0.014\\nsamples = 144\\nvalue = [143, 1]'),\n Text(0.5935134732238581, 0.7, 'X[11] <= 0.023\\ngini = 0.32\\nsamples = 5\\nvalue = [4, 1]'),\n Text(0.5917384796590764, 0.6714285714285714, 'gini = 0.0\\nsamples = 4\\nvalue = [4, 0]'),\n Text(0.5952884667886397, 0.6714285714285714, 'gini = 0.0\\nsamples = 1\\nvalue = [0, 1]'),\n Text(0.5970634603534213, 0.7, 'gini = 0.0\\nsamples = 139\\nvalue = [139, 0]'),\n Text(0.7772613563186911, 0.9, 'X[10] <= 0.029\\ngini = 0.5\\nsamples = 5518\\nvalue = [2818, 2700]'),\n Text(0.7279173964969878, 0.8714285714285714, 'X[9] <= 0.002\\ngini = 0.47\\nsamples = 3892\\nvalue = [1470, 2422]'),\n Text(0.692352685501128, 0.8428571428571429, 'X[11] <= 0.017\\ngini = 0.409\\nsamples = 3306\\nvalue = [949, 2357]'),\n Text(0.6905776919363463, 0.8142857142857143, 'gini = 0.0\\nsamples = 281\\nvalue = [281, 0]'),\n Text(0.6941276790659097, 0.8142857142857143, 'X[12] <= 0.058\\ngini = 0.344\\nsamples = 3025\\nvalue = [668, 2357]'),\n Text(0.6358669604188569, 0.7857142857142857, 'X[7] <= 0.139\\ngini = 0.286\\nsamples = 2839\\nvalue = [491, 2348]'),\n Text(0.6340919668540752, 0.7571428571428571, 'gini = 0.0\\nsamples = 43\\nvalue = [43, 0]'),\n Text(0.6376419539836385, 0.7571428571428571, 'X[7] <= 0.302\\ngini = 0.269\\nsamples = 2796\\nvalue = [448, 2348]'),\n Text(0.6358669604188569, 0.7285714285714285, 'X[1] <= 0.002\\ngini = 0.251\\nsamples = 2754\\nvalue = [406, 2348]'),\n Text(0.6006134474829846, 0.7, 'X[9] <= 0.001\\ngini = 0.346\\nsamples = 36\\nvalue = [28, 8]'),\n Text(0.598838453918203, 0.6714285714285714, 'gini = 0.0\\nsamples = 28\\nvalue = [28, 0]'),\n Text(0.6023884410477662, 0.6714285714285714, 'gini = 0.0\\nsamples = 8\\nvalue = [0, 8]'),\n Text(0.6711204733547291, 0.7, 'X[11] <= 0.03\\ngini = 0.239\\nsamples = 2718\\nvalue = [378, 2340]'),\n Text(0.6059384281773295, 0.6714285714285714, 'X[1] <= 0.002\\ngini = 0.3\\nsamples = 1752\\nvalue = [322, 1430]'),\n Text(0.5917514801002247, 0.6428571428571429, 'X[3] <= 0.0\\ngini = 0.385\\nsamples = 50\\nvalue = [37, 13]'),\n Text(0.5899764865354431, 0.6142857142857143, 'gini = 0.0\\nsamples = 32\\nvalue = [32, 0]'),\n Text(0.5935264736650063, 0.6142857142857143, 'X[15] <= 0.165\\ngini = 0.401\\nsamples = 18\\nvalue = [5, 13]'),\n Text(0.5917514801002247, 0.5857142857142857, 'gini = 0.0\\nsamples = 13\\nvalue = [0, 13]'),\n Text(0.595301467229788, 0.5857142857142857, 'gini = 0.0\\nsamples = 5\\nvalue = [5, 0]'),\n Text(0.6201253762544342, 0.6428571428571429, 'X[8] <= 0.004\\ngini = 0.279\\nsamples = 1702\\nvalue = [285, 1417]'),\n Text(0.605063931836087, 0.6142857142857143, 'X[2] <= 0.0\\ngini = 0.464\\nsamples = 252\\nvalue = [92, 160]'),\n Text(0.5988514543593513, 0.5857142857142857, 'X[14] <= 0.612\\ngini = 0.032\\nsamples = 62\\nvalue = [61, 1]'),\n Text(0.5970764607945697, 0.5571428571428572, 'gini = 0.0\\nsamples = 60\\nvalue = [60, 0]'),\n Text(0.6006264479241329, 0.5571428571428572, 'X[14] <= 0.625\\ngini = 0.5\\nsamples = 2\\nvalue = [1, 1]'),\n Text(0.5988514543593513, 0.5285714285714286, 'gini = 0.0\\nsamples = 1\\nvalue = [0, 1]'),\n Text(0.6024014414889145, 0.5285714285714286, 'gini = 0.0\\nsamples = 1\\nvalue = [1, 0]'),\n Text(0.6112764093128227, 0.5857142857142857, 'X[7] <= 0.245\\ngini = 0.273\\nsamples = 190\\nvalue = [31, 159]'),\n Text(0.6077264221832595, 0.5571428571428572, 'X[15] <= 0.196\\ngini = 0.112\\nsamples = 168\\nvalue = [10, 158]'),\n Text(0.6059514286184778, 0.5285714285714286, 'X[14] <= 0.625\\ngini = 0.048\\nsamples = 162\\nvalue = [4, 158]'),\n Text(0.6041764350536961, 0.5, 'gini = 0.0\\nsamples = 158\\nvalue = [0, 158]'),\n Text(0.6077264221832595, 0.5, 'gini = 0.0\\nsamples = 4\\nvalue = [4, 0]'),\n Text(0.6095014157480411, 0.5285714285714286, 'gini = 0.0\\nsamples = 6\\nvalue = [6, 0]'),\n Text(0.6148263964423859, 0.5571428571428572, 'X[1] <= 0.015\\ngini = 0.087\\nsamples = 22\\nvalue = [21, 1]'),\n Text(0.6130514028776043, 0.5285714285714286, 'gini = 0.0\\nsamples = 21\\nvalue = [21, 0]'),\n Text(0.6166013900071676, 0.5285714285714286, 'gini = 0.0\\nsamples = 1\\nvalue = [0, 1]'),\n Text(0.6351868206727815, 0.6142857142857143, 'X[14] <= 0.338\\ngini = 0.231\\nsamples = 1450\\nvalue = [193, 1257]'),\n Text(0.6334118271079998, 0.5857142857142857, 'gini = 0.0\\nsamples = 10\\nvalue = [10, 0]'),\n Text(0.6369618142375632, 0.5857142857142857, 'X[8] <= 0.027\\ngini = 0.222\\nsamples = 1440\\nvalue = [183, 1257]'),\n Text(0.6351868206727815, 0.5571428571428572, 'X[12] <= 0.042\\ngini = 0.214\\nsamples = 1431\\nvalue = [174, 1257]'),\n Text(0.6254416899880136, 0.5285714285714286, 'X[7] <= 0.149\\ngini = 0.206\\nsamples = 1422\\nvalue = [166, 1256]'),\n Text(0.6112764093128227, 0.5, 'X[11] <= 0.02\\ngini = 0.459\\nsamples = 14\\nvalue = [9, 5]'),\n Text(0.6095014157480411, 0.4714285714285714, 'X[5] <= 0.001\\ngini = 0.18\\nsamples = 10\\nvalue = [9, 1]'),\n Text(0.6077264221832595, 0.44285714285714284, 'X[14] <= 0.442\\ngini = 0.375\\nsamples = 4\\nvalue = [3, 1]'),\n Text(0.6059514286184778, 0.4142857142857143, 'gini = 0.0\\nsamples = 2\\nvalue = [2, 0]'),\n Text(0.6095014157480411, 0.4142857142857143, 'gini = 0.5\\nsamples = 2\\nvalue = [1, 1]'),\n Text(0.6112764093128227, 0.44285714285714284, 'gini = 0.0\\nsamples = 6\\nvalue = [6, 0]'),\n Text(0.6130514028776043, 0.4714285714285714, 'gini = 0.0\\nsamples = 4\\nvalue = [0, 4]'),\n Text(0.6396069706632045, 0.5, 'X[0] <= 0.017\\ngini = 0.198\\nsamples = 1408\\nvalue = [157, 1251]'),\n Text(0.6201513771367309, 0.4714285714285714, 'X[5] <= 0.003\\ngini = 0.132\\nsamples = 874\\nvalue = [62, 812]'),\n Text(0.6183763835719492, 0.44285714285714284, 'X[1] <= 0.006\\ngini = 0.123\\nsamples = 869\\nvalue = [57, 812]'),\n Text(0.6130514028776043, 0.4142857142857143, 'X[0] <= 0.003\\ngini = 0.115\\nsamples = 864\\nvalue = [53, 811]'),\n Text(0.6112764093128227, 0.38571428571428573, 'gini = 0.0\\nsamples = 2\\nvalue = [2, 0]'),\n Text(0.6148263964423859, 0.38571428571428573, 'X[2] <= 0.001\\ngini = 0.111\\nsamples = 862\\nvalue = [51, 811]'),\n Text(0.6130514028776043, 0.35714285714285715, 'X[6] <= 0.001\\ngini = 0.109\\nsamples = 861\\nvalue = [50, 811]'),\n Text(0.6112764093128227, 0.32857142857142857, 'X[7] <= 0.206\\ngini = 0.107\\nsamples = 860\\nvalue = [49, 811]'),\n Text(0.6095014157480411, 0.3, 'X[8] <= 0.008\\ngini = 0.106\\nsamples = 859\\nvalue = [48, 811]'),\n Text(0.6039822951325482, 0.2714285714285714, 'X[8] <= 0.008\\ngini = 0.127\\nsamples = 692\\nvalue = [47, 645]'),\n Text(0.5982690345959073, 0.24285714285714285, 'X[0] <= 0.005\\ngini = 0.122\\nsamples = 689\\nvalue = [45, 644]'),\n Text(0.5921674942169705, 0.21428571428571427, 'X[7] <= 0.164\\ngini = 0.444\\nsamples = 3\\nvalue = [1, 2]'),\n Text(0.5903925006521888, 0.18571428571428572, 'gini = 0.0\\nsamples = 2\\nvalue = [0, 2]'),\n Text(0.5939424877817521, 0.18571428571428572, 'gini = 0.0\\nsamples = 1\\nvalue = [1, 0]'),\n Text(0.6043705749748441, 0.21428571428571427, 'X[2] <= 0.0\\ngini = 0.12\\nsamples = 686\\nvalue = [44, 642]'),\n Text(0.5974924749113153, 0.18571428571428572, 'X[0] <= 0.013\\ngini = 0.118\\nsamples = 683\\nvalue = [43, 640]'),\n Text(0.5890612554786026, 0.15714285714285714, 'X[0] <= 0.008\\ngini = 0.13\\nsamples = 571\\nvalue = [40, 531]'),\n Text(0.5846237715666485, 0.12857142857142856, 'X[5] <= 0.001\\ngini = 0.105\\nsamples = 486\\nvalue = [27, 459]'),\n Text(0.5828487780018669, 0.1, 'X[0] <= 0.006\\ngini = 0.101\\nsamples = 485\\nvalue = [26, 459]'),\n Text(0.5810737844370852, 0.07142857142857142, 'X[12] <= 0.026\\ngini = 0.108\\nsamples = 453\\nvalue = [26, 427]'),\n Text(0.5792987908723036, 0.04285714285714286, 'gini = 0.11\\nsamples = 447\\nvalue = [26, 421]'),\n Text(0.5828487780018669, 0.04285714285714286, 'gini = 0.0\\nsamples = 6\\nvalue = [0, 6]'),\n Text(0.5846237715666485, 0.07142857142857142, 'gini = 0.0\\nsamples = 32\\nvalue = [0, 32]'),\n Text(0.5863987651314301, 0.1, 'gini = 0.0\\nsamples = 1\\nvalue = [1, 0]'),\n Text(0.5934987393905566, 0.12857142857142856, 'X[3] <= 0.0\\ngini = 0.259\\nsamples = 85\\nvalue = [13, 72]'),\n Text(0.5899487522609934, 0.1, 'X[1] <= 0.004\\ngini = 0.464\\nsamples = 30\\nvalue = [11, 19]'),\n Text(0.5881737586962118, 0.07142857142857142, 'X[0] <= 0.012\\ngini = 0.5\\nsamples = 22\\nvalue = [11, 11]'),\n Text(0.5863987651314301, 0.04285714285714286, 'X[0] <= 0.009\\ngini = 0.219\\nsamples = 8\\nvalue = [7, 1]'),\n Text(0.5846237715666485, 0.014285714285714285, 'gini = 0.278\\nsamples = 6\\nvalue = [5, 1]'),\n Text(0.5881737586962118, 0.014285714285714285, 'gini = 0.0\\nsamples = 2\\nvalue = [2, 0]'),\n Text(0.5899487522609934, 0.04285714285714286, 'gini = 0.408\\nsamples = 14\\nvalue = [4, 10]'),\n Text(0.591723745825775, 0.07142857142857142, 'gini = 0.0\\nsamples = 8\\nvalue = [0, 8]'),\n Text(0.5970487265201199, 0.1, 'X[0] <= 0.008\\ngini = 0.07\\nsamples = 55\\nvalue = [2, 53]'),\n Text(0.5952737329553383, 0.07142857142857142, 'gini = 0.0\\nsamples = 2\\nvalue = [2, 0]'),\n Text(0.5988237200849016, 0.07142857142857142, 'gini = 0.0\\nsamples = 53\\nvalue = [0, 53]'),\n Text(0.605923694344028, 0.15714285714285714, 'X[2] <= 0.0\\ngini = 0.052\\nsamples = 112\\nvalue = [3, 109]'),\n Text(0.6023737072144648, 0.12857142857142856, 'X[0] <= 0.015\\ngini = 0.036\\nsamples = 108\\nvalue = [2, 106]'),\n Text(0.6005987136496832, 0.1, 'gini = 0.0\\nsamples = 38\\nvalue = [0, 38]'),\n Text(0.6041487007792464, 0.1, 'X[0] <= 0.015\\ngini = 0.056\\nsamples = 70\\nvalue = [2, 68]'),\n Text(0.6023737072144648, 0.07142857142857142, 'gini = 0.073\\nsamples = 53\\nvalue = [2, 51]'),\n Text(0.605923694344028, 0.07142857142857142, 'gini = 0.0\\nsamples = 17\\nvalue = [0, 17]'),\n Text(0.6094736814735914, 0.12857142857142856, 'X[14] <= 0.595\\ngini = 0.375\\nsamples = 4\\nvalue = [1, 3]'),\n Text(0.6076986879088097, 0.1, 'gini = 0.0\\nsamples = 3\\nvalue = [0, 3]'),\n Text(0.611248675038373, 0.1, 'gini = 0.0\\nsamples = 1\\nvalue = [1, 0]'),\n Text(0.611248675038373, 0.18571428571428572, 'X[2] <= 0.0\\ngini = 0.444\\nsamples = 3\\nvalue = [1, 2]'),\n Text(0.6094736814735914, 0.15714285714285714, 'gini = 0.0\\nsamples = 1\\nvalue = [1, 0]'),\n Text(0.6130236686031546, 0.15714285714285714, 'gini = 0.0\\nsamples = 2\\nvalue = [0, 2]'),\n Text(0.6096955556691891, 0.24285714285714285, 'X[2] <= 0.0\\ngini = 0.444\\nsamples = 3\\nvalue = [2, 1]'),\n Text(0.6079205621044074, 0.21428571428571427, 'gini = 0.0\\nsamples = 2\\nvalue = [2, 0]'),\n Text(0.6114705492339707, 0.21428571428571427, 'gini = 0.0\\nsamples = 1\\nvalue = [0, 1]'),\n Text(0.6150205363635339, 0.2714285714285714, 'X[5] <= 0.001\\ngini = 0.012\\nsamples = 167\\nvalue = [1, 166]'),\n Text(0.6132455427987523, 0.24285714285714285, 'gini = 0.0\\nsamples = 1\\nvalue = [1, 0]'),\n Text(0.6167955299283155, 0.24285714285714285, 'gini = 0.0\\nsamples = 166\\nvalue = [0, 166]'),\n Text(0.6130514028776043, 0.3, 'gini = 0.0\\nsamples = 1\\nvalue = [1, 0]'),\n Text(0.6148263964423859, 0.32857142857142857, 'gini = 0.0\\nsamples = 1\\nvalue = [1, 0]'),\n Text(0.6166013900071676, 0.35714285714285715, 'gini = 0.0\\nsamples = 1\\nvalue = [1, 0]'),\n Text(0.6237013642662941, 0.4142857142857143, 'X[0] <= 0.009\\ngini = 0.32\\nsamples = 5\\nvalue = [4, 1]'),\n Text(0.6219263707015125, 0.38571428571428573, 'X[0] <= 0.007\\ngini = 0.444\\nsamples = 3\\nvalue = [2, 1]'),\n Text(0.6201513771367309, 0.35714285714285715, 'gini = 0.0\\nsamples = 1\\nvalue = [1, 0]'),\n Text(0.6237013642662941, 0.35714285714285715, 'gini = 0.5\\nsamples = 2\\nvalue = [1, 1]'),\n Text(0.6254763578310757, 0.38571428571428573, 'gini = 0.0\\nsamples = 2\\nvalue = [2, 0]'),\n Text(0.6219263707015125, 0.44285714285714284, 'gini = 0.0\\nsamples = 5\\nvalue = [5, 0]'),\n Text(0.6590625641896781, 0.4714285714285714, 'X[3] <= 0.0\\ngini = 0.293\\nsamples = 534\\nvalue = [95, 439]'),\n Text(0.6370138160021563, 0.44285714285714284, 'X[0] <= 0.019\\ngini = 0.292\\nsamples = 45\\nvalue = [37, 8]'),\n Text(0.6308013385254206, 0.4142857142857143, 'X[0] <= 0.017\\ngini = 0.48\\nsamples = 10\\nvalue = [4, 6]'),\n Text(0.629026344960639, 0.38571428571428573, 'gini = 0.0\\nsamples = 3\\nvalue = [3, 0]'),\n Text(0.6325763320902023, 0.38571428571428573, 'X[14] <= 0.531\\ngini = 0.245\\nsamples = 7\\nvalue = [1, 6]'),\n Text(0.6308013385254206, 0.35714285714285715, 'gini = 0.0\\nsamples = 1\\nvalue = [1, 0]'),\n Text(0.6343513256549839, 0.35714285714285715, 'gini = 0.0\\nsamples = 6\\nvalue = [0, 6]'),\n Text(0.643226293478892, 0.4142857142857143, 'X[6] <= 0.003\\ngini = 0.108\\nsamples = 35\\nvalue = [33, 2]'),\n Text(0.6414512999141104, 0.38571428571428573, 'X[6] <= 0.001\\ngini = 0.219\\nsamples = 16\\nvalue = [14, 2]'),\n Text(0.6379013127845472, 0.35714285714285715, 'X[0] <= 0.024\\ngini = 0.133\\nsamples = 14\\nvalue = [13, 1]'),\n Text(0.6361263192197655, 0.32857142857142857, 'X[0] <= 0.022\\ngini = 0.32\\nsamples = 5\\nvalue = [4, 1]'),\n Text(0.6343513256549839, 0.3, 'gini = 0.0\\nsamples = 2\\nvalue = [2, 0]'),\n Text(0.6379013127845472, 0.3, 'X[2] <= 0.001\\ngini = 0.444\\nsamples = 3\\nvalue = [2, 1]'),\n Text(0.6361263192197655, 0.2714285714285714, 'gini = 0.5\\nsamples = 2\\nvalue = [1, 1]'),\n Text(0.6396763063493288, 0.2714285714285714, 'gini = 0.0\\nsamples = 1\\nvalue = [1, 0]'),\n Text(0.6396763063493288, 0.32857142857142857, 'gini = 0.0\\nsamples = 9\\nvalue = [9, 0]'),\n Text(0.6450012870436737, 0.35714285714285715, 'X[0] <= 0.039\\ngini = 0.5\\nsamples = 2\\nvalue = [1, 1]'),\n Text(0.643226293478892, 0.32857142857142857, 'gini = 0.0\\nsamples = 1\\nvalue = [1, 0]'),\n Text(0.6467762806084553, 0.32857142857142857, 'gini = 0.0\\nsamples = 1\\nvalue = [0, 1]'),\n Text(0.6450012870436737, 0.38571428571428573, 'gini = 0.0\\nsamples = 19\\nvalue = [19, 0]'),\n Text(0.6811113123772, 0.44285714285714284, 'X[3] <= 0.014\\ngini = 0.209\\nsamples = 489\\nvalue = [58, 431]'),\n Text(0.6793363188124184, 0.4142857142857143, 'X[2] <= 0.0\\ngini = 0.301\\nsamples = 314\\nvalue = [58, 256]'),\n Text(0.6670777695056452, 0.38571428571428573, 'X[1] <= 0.008\\ngini = 0.204\\nsamples = 252\\nvalue = [29, 223]'),\n Text(0.6585356129751336, 0.35714285714285715, 'X[0] <= 0.021\\ngini = 0.17\\nsamples = 245\\nvalue = [23, 222]'),\n Text(0.6503262677380186, 0.32857142857142857, 'X[3] <= 0.002\\ngini = 0.484\\nsamples = 17\\nvalue = [7, 10]'),\n Text(0.648551274173237, 0.3, 'gini = 0.0\\nsamples = 9\\nvalue = [0, 9]'),\n Text(0.6521012613028002, 0.3, 'X[0] <= 0.017\\ngini = 0.219\\nsamples = 8\\nvalue = [7, 1]'),\n Text(0.6503262677380186, 0.2714285714285714, 'X[6] <= 0.001\\ngini = 0.444\\nsamples = 3\\nvalue = [2, 1]'),\n Text(0.648551274173237, 0.24285714285714285, 'gini = 0.5\\nsamples = 2\\nvalue = [1, 1]'),\n Text(0.6521012613028002, 0.24285714285714285, 'gini = 0.0\\nsamples = 1\\nvalue = [1, 0]'),\n Text(0.6538762548675818, 0.2714285714285714, 'gini = 0.0\\nsamples = 5\\nvalue = [5, 0]'),\n Text(0.6667449582122487, 0.32857142857142857, 'X[3] <= 0.008\\ngini = 0.131\\nsamples = 228\\nvalue = [16, 212]'),\n Text(0.664969964647467, 0.3, 'X[6] <= 0.004\\ngini = 0.123\\nsamples = 227\\nvalue = [15, 212]'),\n Text(0.6631949710826854, 0.2714285714285714, 'X[2] <= 0.0\\ngini = 0.116\\nsamples = 226\\nvalue = [14, 212]'),\n Text(0.6556512484323634, 0.24285714285714285, 'X[0] <= 0.038\\ngini = 0.18\\nsamples = 120\\nvalue = [12, 108]'),\n Text(0.6512137645204094, 0.21428571428571427, 'X[0] <= 0.023\\ngini = 0.143\\nsamples = 116\\nvalue = [9, 107]'),\n Text(0.6476637773908461, 0.18571428571428572, 'X[3] <= 0.002\\ngini = 0.219\\nsamples = 56\\nvalue = [7, 49]'),\n Text(0.6458887838260645, 0.15714285714285714, 'gini = 0.0\\nsamples = 10\\nvalue = [0, 10]'),\n Text(0.6494387709556277, 0.15714285714285714, 'gini = 0.258\\nsamples = 46\\nvalue = [7, 39]'),\n Text(0.6547637516499727, 0.18571428571428572, 'X[0] <= 0.025\\ngini = 0.064\\nsamples = 60\\nvalue = [2, 58]'),\n Text(0.6529887580851911, 0.15714285714285714, 'gini = 0.0\\nsamples = 47\\nvalue = [0, 47]'),\n Text(0.6565387452147543, 0.15714285714285714, 'X[0] <= 0.032\\ngini = 0.26\\nsamples = 13\\nvalue = [2, 11]'),\n Text(0.6547637516499727, 0.12857142857142856, 'X[0] <= 0.026\\ngini = 0.444\\nsamples = 3\\nvalue = [2, 1]'),\n Text(0.6529887580851911, 0.1, 'gini = 0.5\\nsamples = 2\\nvalue = [1, 1]'),\n Text(0.6565387452147543, 0.1, 'gini = 0.0\\nsamples = 1\\nvalue = [1, 0]'),\n Text(0.6583137387795359, 0.12857142857142856, 'gini = 0.0\\nsamples = 10\\nvalue = [0, 10]'),\n Text(0.6600887323443175, 0.21428571428571427, 'X[3] <= 0.003\\ngini = 0.375\\nsamples = 4\\nvalue = [3, 1]'),\n Text(0.6583137387795359, 0.18571428571428572, 'gini = 0.5\\nsamples = 2\\nvalue = [1, 1]'),\n Text(0.6618637259090991, 0.18571428571428572, 'gini = 0.0\\nsamples = 2\\nvalue = [2, 0]'),\n Text(0.6707386937330073, 0.24285714285714285, 'X[2] <= 0.0\\ngini = 0.037\\nsamples = 106\\nvalue = [2, 104]'),\n Text(0.6671887066034441, 0.21428571428571427, 'X[3] <= 0.004\\ngini = 0.02\\nsamples = 100\\nvalue = [1, 99]'),\n Text(0.6654137130386625, 0.18571428571428572, 'gini = 0.0\\nsamples = 75\\nvalue = [0, 75]'),\n Text(0.6689637001682257, 0.18571428571428572, 'X[2] <= 0.0\\ngini = 0.077\\nsamples = 25\\nvalue = [1, 24]'),\n Text(0.6671887066034441, 0.15714285714285714, 'gini = 0.0\\nsamples = 1\\nvalue = [1, 0]'),\n Text(0.6707386937330073, 0.15714285714285714, 'gini = 0.0\\nsamples = 24\\nvalue = [0, 24]'),\n Text(0.6742886808625707, 0.21428571428571427, 'X[1] <= 0.004\\ngini = 0.278\\nsamples = 6\\nvalue = [1, 5]'),\n Text(0.6725136872977889, 0.18571428571428572, 'gini = 0.0\\nsamples = 1\\nvalue = [1, 0]'),\n Text(0.6760636744273523, 0.18571428571428572, 'gini = 0.0\\nsamples = 5\\nvalue = [0, 5]'),\n Text(0.6667449582122487, 0.2714285714285714, 'gini = 0.0\\nsamples = 1\\nvalue = [1, 0]'),\n Text(0.6685199517770303, 0.3, 'gini = 0.0\\nsamples = 1\\nvalue = [1, 0]'),\n Text(0.6756199260361568, 0.35714285714285715, 'X[3] <= 0.003\\ngini = 0.245\\nsamples = 7\\nvalue = [6, 1]'),\n Text(0.6738449324713752, 0.32857142857142857, 'X[2] <= 0.0\\ngini = 0.5\\nsamples = 2\\nvalue = [1, 1]'),\n Text(0.6720699389065936, 0.3, 'gini = 0.0\\nsamples = 1\\nvalue = [1, 0]'),\n Text(0.6756199260361568, 0.3, 'gini = 0.0\\nsamples = 1\\nvalue = [0, 1]'),\n Text(0.6773949196009384, 0.32857142857142857, 'gini = 0.0\\nsamples = 5\\nvalue = [5, 0]'),\n Text(0.6915948681191915, 0.38571428571428573, 'X[0] <= 0.027\\ngini = 0.498\\nsamples = 62\\nvalue = [29, 33]'),\n Text(0.684494893860065, 0.35714285714285715, 'X[2] <= 0.001\\ngini = 0.346\\nsamples = 27\\nvalue = [6, 21]'),\n Text(0.6809449067305017, 0.32857142857142857, 'X[6] <= 0.001\\ngini = 0.172\\nsamples = 21\\nvalue = [2, 19]'),\n Text(0.6791699131657201, 0.3, 'X[2] <= 0.0\\ngini = 0.095\\nsamples = 20\\nvalue = [1, 19]'),\n Text(0.6773949196009384, 0.2714285714285714, 'gini = 0.0\\nsamples = 12\\nvalue = [0, 12]'),\n Text(0.6809449067305017, 0.2714285714285714, 'X[0] <= 0.023\\ngini = 0.219\\nsamples = 8\\nvalue = [1, 7]'),\n Text(0.6791699131657201, 0.24285714285714285, 'gini = 0.5\\nsamples = 2\\nvalue = [1, 1]'),\n Text(0.6827199002952834, 0.24285714285714285, 'gini = 0.0\\nsamples = 6\\nvalue = [0, 6]'),\n Text(0.6827199002952834, 0.3, 'gini = 0.0\\nsamples = 1\\nvalue = [1, 0]'),\n Text(0.6880448809896282, 0.32857142857142857, 'X[3] <= 0.005\\ngini = 0.444\\nsamples = 6\\nvalue = [4, 2]'),\n Text(0.6862698874248466, 0.3, 'gini = 0.0\\nsamples = 3\\nvalue = [3, 0]'),\n Text(0.6898198745544099, 0.3, 'X[2] <= 0.001\\ngini = 0.444\\nsamples = 3\\nvalue = [1, 2]'),\n Text(0.6880448809896282, 0.2714285714285714, 'gini = 0.0\\nsamples = 2\\nvalue = [0, 2]'),\n Text(0.6915948681191915, 0.2714285714285714, 'gini = 0.0\\nsamples = 1\\nvalue = [1, 0]'),\n Text(0.698694842378318, 0.35714285714285715, 'X[3] <= 0.007\\ngini = 0.451\\nsamples = 35\\nvalue = [23, 12]'),\n Text(0.6969198488135364, 0.32857142857142857, 'gini = 0.0\\nsamples = 17\\nvalue = [17, 0]'),\n Text(0.7004698359430996, 0.32857142857142857, 'X[6] <= 0.005\\ngini = 0.444\\nsamples = 18\\nvalue = [6, 12]'),\n Text(0.6969198488135364, 0.3, 'X[0] <= 0.042\\ngini = 0.26\\nsamples = 13\\nvalue = [2, 11]'),\n Text(0.6951448552487548, 0.2714285714285714, 'X[0] <= 0.034\\ngini = 0.153\\nsamples = 12\\nvalue = [1, 11]'),\n Text(0.6933698616839732, 0.24285714285714285, 'X[9] <= 0.001\\ngini = 0.5\\nsamples = 2\\nvalue = [1, 1]'),\n Text(0.6915948681191915, 0.21428571428571427, 'gini = 0.0\\nsamples = 1\\nvalue = [1, 0]'),\n Text(0.6951448552487548, 0.21428571428571427, 'gini = 0.0\\nsamples = 1\\nvalue = [0, 1]'),\n Text(0.6969198488135364, 0.24285714285714285, 'gini = 0.0\\nsamples = 10\\nvalue = [0, 10]'),\n Text(0.698694842378318, 0.2714285714285714, 'gini = 0.0\\nsamples = 1\\nvalue = [1, 0]'),\n Text(0.704019823072663, 0.3, 'X[6] <= 0.035\\ngini = 0.32\\nsamples = 5\\nvalue = [4, 1]'),\n Text(0.7022448295078813, 0.2714285714285714, 'gini = 0.0\\nsamples = 4\\nvalue = [4, 0]'),\n Text(0.7057948166374446, 0.2714285714285714, 'gini = 0.0\\nsamples = 1\\nvalue = [0, 1]'),\n Text(0.6828863059419816, 0.4142857142857143, 'gini = 0.0\\nsamples = 175\\nvalue = [0, 175]'),\n Text(0.6449319513575494, 0.5285714285714286, 'X[7] <= 0.195\\ngini = 0.198\\nsamples = 9\\nvalue = [8, 1]'),\n Text(0.6431569577927677, 0.5, 'gini = 0.0\\nsamples = 8\\nvalue = [8, 0]'),\n Text(0.646706944922331, 0.5, 'gini = 0.0\\nsamples = 1\\nvalue = [0, 1]'),\n Text(0.6387368078023448, 0.5571428571428572, 'gini = 0.0\\nsamples = 9\\nvalue = [9, 0]'),\n Text(0.7363025185321288, 0.6714285714285714, 'X[8] <= 0.061\\ngini = 0.109\\nsamples = 966\\nvalue = [56, 910]'),\n Text(0.7290916071752035, 0.6428571428571429, 'X[9] <= 0.002\\ngini = 0.086\\nsamples = 911\\nvalue = [41, 870]'),\n Text(0.7199947651556976, 0.6142857142857143, 'X[5] <= 0.0\\ngini = 0.078\\nsamples = 905\\nvalue = [37, 868]'),\n Text(0.7071260618110308, 0.5857142857142857, 'X[1] <= 0.007\\ngini = 0.2\\nsamples = 240\\nvalue = [27, 213]'),\n Text(0.7022448295078813, 0.5571428571428572, 'X[2] <= 0.0\\ngini = 0.18\\nsamples = 10\\nvalue = [9, 1]'),\n Text(0.7004698359430996, 0.5285714285714286, 'gini = 0.0\\nsamples = 9\\nvalue = [9, 0]'),\n Text(0.704019823072663, 0.5285714285714286, 'gini = 0.0\\nsamples = 1\\nvalue = [0, 1]'),\n Text(0.7120072941141803, 0.5571428571428572, 'X[2] <= 0.005\\ngini = 0.144\\nsamples = 230\\nvalue = [18, 212]'),\n Text(0.7075698102022262, 0.5285714285714286, 'X[3] <= 0.002\\ngini = 0.131\\nsamples = 227\\nvalue = [16, 211]'),\n Text(0.704019823072663, 0.5, 'X[1] <= 0.012\\ngini = 0.27\\nsamples = 87\\nvalue = [14, 73]'),\n Text(0.7022448295078813, 0.4714285714285714, 'X[8] <= 0.002\\ngini = 0.16\\nsamples = 80\\nvalue = [7, 73]'),\n Text(0.7004698359430996, 0.44285714285714284, 'gini = 0.0\\nsamples = 3\\nvalue = [3, 0]'),\n Text(0.704019823072663, 0.44285714285714284, 'X[6] <= 0.002\\ngini = 0.098\\nsamples = 77\\nvalue = [4, 73]'),\n Text(0.7022448295078813, 0.4142857142857143, 'X[1] <= 0.01\\ngini = 0.18\\nsamples = 40\\nvalue = [4, 36]'),\n Text(0.7004698359430996, 0.38571428571428573, 'gini = 0.0\\nsamples = 3\\nvalue = [3, 0]'),\n Text(0.704019823072663, 0.38571428571428573, 'X[0] <= 0.051\\ngini = 0.053\\nsamples = 37\\nvalue = [1, 36]'),\n Text(0.7022448295078813, 0.35714285714285715, 'gini = 0.0\\nsamples = 21\\nvalue = [0, 21]'),\n Text(0.7057948166374446, 0.35714285714285715, 'gini = 0.117\\nsamples = 16\\nvalue = [1, 15]'),\n Text(0.7057948166374446, 0.4142857142857143, 'gini = 0.0\\nsamples = 37\\nvalue = [0, 37]'),\n Text(0.7057948166374446, 0.4714285714285714, 'gini = 0.0\\nsamples = 7\\nvalue = [7, 0]'),\n Text(0.7111197973317894, 0.5, 'X[7] <= 0.242\\ngini = 0.028\\nsamples = 140\\nvalue = [2, 138]'),\n Text(0.7093448037670078, 0.4714285714285714, 'gini = 0.0\\nsamples = 1\\nvalue = [1, 0]'),\n Text(0.712894790896571, 0.4714285714285714, 'X[0] <= 0.015\\ngini = 0.014\\nsamples = 139\\nvalue = [1, 138]'),\n Text(0.7111197973317894, 0.44285714285714284, 'gini = 0.5\\nsamples = 2\\nvalue = [1, 1]'),\n Text(0.7146697844613528, 0.44285714285714284, 'gini = 0.0\\nsamples = 137\\nvalue = [0, 137]'),\n Text(0.7164447780261344, 0.5285714285714286, 'X[1] <= 0.048\\ngini = 0.444\\nsamples = 3\\nvalue = [2, 1]'),\n Text(0.7146697844613528, 0.5, 'gini = 0.0\\nsamples = 1\\nvalue = [0, 1]'),\n Text(0.718219771590916, 0.5, 'gini = 0.0\\nsamples = 2\\nvalue = [2, 0]'),\n Text(0.7328634685003644, 0.5857142857142857, 'X[7] <= 0.263\\ngini = 0.03\\nsamples = 665\\nvalue = [10, 655]'),\n Text(0.7279822361972149, 0.5571428571428572, 'X[11] <= 0.031\\ngini = 0.018\\nsamples = 648\\nvalue = [6, 642]'),\n Text(0.7235447522852608, 0.5285714285714286, 'X[7] <= 0.204\\ngini = 0.375\\nsamples = 4\\nvalue = [1, 3]'),\n Text(0.7217697587204792, 0.5, 'gini = 0.0\\nsamples = 3\\nvalue = [0, 3]'),\n Text(0.7253197458500426, 0.5, 'gini = 0.0\\nsamples = 1\\nvalue = [1, 0]'),\n Text(0.732419720109169, 0.5285714285714286, 'X[0] <= 0.04\\ngini = 0.015\\nsamples = 644\\nvalue = [5, 639]'),\n Text(0.7288697329796058, 0.5, 'X[5] <= 0.001\\ngini = 0.01\\nsamples = 573\\nvalue = [3, 570]'),\n Text(0.7270947394148242, 0.4714285714285714, 'X[1] <= 0.002\\ngini = 0.027\\nsamples = 223\\nvalue = [3, 220]'),\n Text(0.7253197458500426, 0.44285714285714284, 'gini = 0.031\\nsamples = 193\\nvalue = [3, 190]'),\n Text(0.7288697329796058, 0.44285714285714284, 'gini = 0.0\\nsamples = 30\\nvalue = [0, 30]'),\n Text(0.7306447265443874, 0.4714285714285714, 'gini = 0.0\\nsamples = 350\\nvalue = [0, 350]'),\n Text(0.7359697072387323, 0.5, 'X[7] <= 0.211\\ngini = 0.055\\nsamples = 71\\nvalue = [2, 69]'),\n Text(0.7341947136739506, 0.4714285714285714, 'X[3] <= 0.005\\ngini = 0.444\\nsamples = 3\\nvalue = [2, 1]'),\n Text(0.732419720109169, 0.44285714285714284, 'gini = 0.0\\nsamples = 2\\nvalue = [2, 0]'),\n Text(0.7359697072387323, 0.44285714285714284, 'gini = 0.0\\nsamples = 1\\nvalue = [0, 1]'),\n Text(0.737744700803514, 0.4714285714285714, 'gini = 0.0\\nsamples = 68\\nvalue = [0, 68]'),\n Text(0.737744700803514, 0.5571428571428572, 'X[8] <= 0.016\\ngini = 0.36\\nsamples = 17\\nvalue = [4, 13]'),\n Text(0.7359697072387323, 0.5285714285714286, 'gini = 0.0\\nsamples = 13\\nvalue = [0, 13]'),\n Text(0.7395196943682956, 0.5285714285714286, 'gini = 0.0\\nsamples = 4\\nvalue = [4, 0]'),\n Text(0.7381884491947094, 0.6142857142857143, 'X[5] <= 0.006\\ngini = 0.444\\nsamples = 6\\nvalue = [4, 2]'),\n Text(0.7364134556299277, 0.5857142857142857, 'gini = 0.0\\nsamples = 4\\nvalue = [4, 0]'),\n Text(0.739963442759491, 0.5857142857142857, 'gini = 0.0\\nsamples = 2\\nvalue = [0, 2]'),\n Text(0.7435134298890542, 0.6428571428571429, 'X[14] <= 0.578\\ngini = 0.397\\nsamples = 55\\nvalue = [15, 40]'),\n Text(0.7417384363242726, 0.6142857142857143, 'gini = 0.0\\nsamples = 13\\nvalue = [13, 0]'),\n Text(0.7452884234538358, 0.6142857142857143, 'X[2] <= 0.0\\ngini = 0.091\\nsamples = 42\\nvalue = [2, 40]'),\n Text(0.7435134298890542, 0.5857142857142857, 'X[0] <= 0.003\\ngini = 0.444\\nsamples = 3\\nvalue = [2, 1]'),\n Text(0.7417384363242726, 0.5571428571428572, 'gini = 0.0\\nsamples = 1\\nvalue = [0, 1]'),\n Text(0.7452884234538358, 0.5571428571428572, 'gini = 0.0\\nsamples = 2\\nvalue = [2, 0]'),\n Text(0.7470634170186174, 0.5857142857142857, 'gini = 0.0\\nsamples = 39\\nvalue = [0, 39]'),\n Text(0.6394169475484202, 0.7285714285714285, 'gini = 0.0\\nsamples = 42\\nvalue = [42, 0]'),\n Text(0.7523883977129624, 0.7857142857142857, 'X[10] <= 0.028\\ngini = 0.092\\nsamples = 186\\nvalue = [177, 9]'),\n ...]"
     },
     "execution_count": 20,
     "metadata": {},
     "output_type": "execute_result"
    },
    {
     "data": {
      "text/plain": "<Figure size 432x288 with 1 Axes>",
      "image/png": "[encoded data removed]"
     },
     "metadata": {
      "needs_background": "light"
     },
     "output_type": "display_data"
    }
   ],
   "source": [
    "from sklearn import tree\n",
    "\n",
    "clf = tree.DecisionTreeClassifier()\n",
    "clf.fit(X=X_train_set, y=y_train_set)\n",
    "clf.predict(X=X_train_set)\n",
    "test_set_copy = test_set.copy()\n",
    "test_set_copy = test_set_copy.drop(get_object_colum(test_set_copy), axis=1)\n",
    "X_test_set = test_set_copy.drop(['isFlaky'], axis=1).to_numpy()\n",
    "y_test_set = test_set_copy['isFlaky'].to_numpy()\n",
    "X_test_set = norm.transform(X=X_test_set)\n",
    "df=pandas.DataFrame(X_test_set,columns=columns)\n",
    "df=df.drop(colum_remove,axis=1)\n",
    "X_test_set=df.to_numpy()\n",
    "y_pred = clf.predict(X=X_test_set)\n",
    "tree.plot_tree(clf)"
   ],
   "metadata": {
    "collapsed": false,
    "pycharm": {
     "name": "#%%\n"
    }
   }
  }
 ],
 "metadata": {
  "kernelspec": {
   "display_name": "Python 3 (ipykernel)",
   "language": "python",
   "name": "python3"
  },
  "language_info": {
   "codemirror_mode": {
    "name": "ipython",
    "version": 3
   },
   "file_extension": ".py",
   "mimetype": "text/x-python",
   "name": "python",
   "nbconvert_exporter": "python",
   "pygments_lexer": "ipython3",
   "version": "3.10.4"
  }
 },
 "nbformat": 4,
 "nbformat_minor": 5
}